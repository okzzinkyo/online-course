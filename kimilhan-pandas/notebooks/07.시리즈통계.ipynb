{
 "cells": [
  {
   "cell_type": "code",
   "execution_count": 59,
   "id": "94de2611-9bef-423f-ad07-38a2ac730417",
   "metadata": {},
   "outputs": [],
   "source": [
    "import pandas as pd\n",
    "import numpy as np\n",
    "import matplotlib.pyplot as plt\n",
    "\n",
    "import matplotlib\n",
    "matplotlib.rcParams['font.family']=\"AppleGothic\"\n",
    "matplotlib.rcParams['axes.unicode_minus']=False"
   ]
  },
  {
   "cell_type": "code",
   "execution_count": 14,
   "id": "1f8152c3-e7ec-4566-9cb6-0d36f84c27b5",
   "metadata": {},
   "outputs": [
    {
     "data": {
      "text/plain": [
       "a    10\n",
       "b    20\n",
       "c    30\n",
       "d    40\n",
       "e    50\n",
       "Name: kor, dtype: int64"
      ]
     },
     "execution_count": 14,
     "metadata": {},
     "output_type": "execute_result"
    }
   ],
   "source": [
    "data = [10,20,30,40,50]\n",
    "sr = pd.Series(data, index=['a','b','c','d','e'], name='kor')\n",
    "sr"
   ]
  },
  {
   "cell_type": "code",
   "execution_count": 15,
   "id": "5e94faca-ce8d-4ace-921f-025221c60547",
   "metadata": {},
   "outputs": [
    {
     "data": {
      "text/plain": [
       "50"
      ]
     },
     "execution_count": 15,
     "metadata": {},
     "output_type": "execute_result"
    }
   ],
   "source": [
    "sr.max()"
   ]
  },
  {
   "cell_type": "code",
   "execution_count": 16,
   "id": "a32f71ef-6f04-437e-891c-673e281b9e62",
   "metadata": {},
   "outputs": [
    {
     "data": {
      "text/plain": [
       "10"
      ]
     },
     "execution_count": 16,
     "metadata": {},
     "output_type": "execute_result"
    }
   ],
   "source": [
    "sr.min()"
   ]
  },
  {
   "cell_type": "code",
   "execution_count": 17,
   "id": "9ec22afe-b42d-4c29-9b46-c27a0d9cb8f7",
   "metadata": {},
   "outputs": [
    {
     "data": {
      "text/plain": [
       "'e'"
      ]
     },
     "execution_count": 17,
     "metadata": {},
     "output_type": "execute_result"
    }
   ],
   "source": [
    "# 가장 큰 값의 인덱스\n",
    "sr.idxmax()"
   ]
  },
  {
   "cell_type": "code",
   "execution_count": 18,
   "id": "dd8f2941-49f7-4015-88c0-6a47197d867e",
   "metadata": {},
   "outputs": [
    {
     "data": {
      "text/plain": [
       "40"
      ]
     },
     "execution_count": 18,
     "metadata": {},
     "output_type": "execute_result"
    }
   ],
   "source": [
    "# 45이하인 데이터의 가장 큰 값을 구하시오.\n",
    "# sr[sr<=45].max()\n",
    "sr1 = sr[sr<=45]\n",
    "sr1.max()"
   ]
  },
  {
   "cell_type": "code",
   "execution_count": 19,
   "id": "0dde3f31-c243-4745-887b-8de210dbbccb",
   "metadata": {},
   "outputs": [
    {
     "data": {
      "text/plain": [
       "a    10\n",
       "b    20\n",
       "c    30\n",
       "Name: kor, dtype: int64"
      ]
     },
     "execution_count": 19,
     "metadata": {},
     "output_type": "execute_result"
    }
   ],
   "source": [
    "# 맨 위 n개 데이터 출력\n",
    "sr.head(3)"
   ]
  },
  {
   "cell_type": "code",
   "execution_count": 20,
   "id": "c8c7d985-34e3-4793-8dc5-22dcb7a81493",
   "metadata": {},
   "outputs": [
    {
     "data": {
      "text/plain": [
       "d    40\n",
       "e    50\n",
       "Name: kor, dtype: int64"
      ]
     },
     "execution_count": 20,
     "metadata": {},
     "output_type": "execute_result"
    }
   ],
   "source": [
    "# 맨 아래 n개 데이터 출력\n",
    "sr.tail(2)"
   ]
  },
  {
   "cell_type": "code",
   "execution_count": 21,
   "id": "3b6bfb93-118f-4715-b249-d9daa81df427",
   "metadata": {},
   "outputs": [
    {
     "data": {
      "text/plain": [
       "e    50\n",
       "d    40\n",
       "c    30\n",
       "Name: kor, dtype: int64"
      ]
     },
     "execution_count": 21,
     "metadata": {},
     "output_type": "execute_result"
    }
   ],
   "source": [
    "# top3\n",
    "sr.nlargest(3)"
   ]
  },
  {
   "cell_type": "code",
   "execution_count": 22,
   "id": "f78937f3-6e92-480c-8796-8c055f688c0b",
   "metadata": {},
   "outputs": [],
   "source": [
    "sr['b'] = 30"
   ]
  },
  {
   "cell_type": "code",
   "execution_count": 23,
   "id": "97aaabad-0c8a-4566-a29b-7d7f16dc2e04",
   "metadata": {},
   "outputs": [
    {
     "data": {
      "text/plain": [
       "a    10\n",
       "b    30\n",
       "c    30\n",
       "d    40\n",
       "e    50\n",
       "Name: kor, dtype: int64"
      ]
     },
     "execution_count": 23,
     "metadata": {},
     "output_type": "execute_result"
    }
   ],
   "source": [
    "sr"
   ]
  },
  {
   "cell_type": "code",
   "execution_count": 24,
   "id": "a23f925a-b46b-4c0b-940c-f86b95d39591",
   "metadata": {},
   "outputs": [
    {
     "data": {
      "text/plain": [
       "e    50\n",
       "d    40\n",
       "b    30\n",
       "Name: kor, dtype: int64"
      ]
     },
     "execution_count": 24,
     "metadata": {},
     "output_type": "execute_result"
    }
   ],
   "source": [
    "# 순위 나열 시 동률이면 keep 인자가 first 이므로 b가 출력됨\n",
    "sr.nlargest(3)\n"
   ]
  },
  {
   "cell_type": "code",
   "execution_count": 25,
   "id": "31de45f7-6d15-4a66-98b4-185fbc964530",
   "metadata": {},
   "outputs": [
    {
     "data": {
      "text/plain": [
       "e    50\n",
       "d    40\n",
       "c    30\n",
       "Name: kor, dtype: int64"
      ]
     },
     "execution_count": 25,
     "metadata": {},
     "output_type": "execute_result"
    }
   ],
   "source": [
    "sr.nlargest(3, keep='last')"
   ]
  },
  {
   "cell_type": "code",
   "execution_count": 26,
   "id": "0094b474-daf2-45e1-843d-816e92fd23f1",
   "metadata": {},
   "outputs": [
    {
     "data": {
      "text/plain": [
       "e    50\n",
       "d    40\n",
       "b    30\n",
       "c    30\n",
       "Name: kor, dtype: int64"
      ]
     },
     "execution_count": 26,
     "metadata": {},
     "output_type": "execute_result"
    }
   ],
   "source": [
    "sr.nlargest(3, keep='all')"
   ]
  },
  {
   "cell_type": "code",
   "execution_count": 27,
   "id": "884e0cdd-0ab1-4608-be18-66a05b640dcc",
   "metadata": {},
   "outputs": [
    {
     "data": {
      "text/plain": [
       "a    10\n",
       "b    30\n",
       "Name: kor, dtype: int64"
      ]
     },
     "execution_count": 27,
     "metadata": {},
     "output_type": "execute_result"
    }
   ],
   "source": [
    "sr.nsmallest(2)"
   ]
  },
  {
   "cell_type": "code",
   "execution_count": 28,
   "id": "537c6dac-51d8-43e4-a629-d795bf30f584",
   "metadata": {},
   "outputs": [
    {
     "data": {
      "text/plain": [
       "a    10\n",
       "b    20\n",
       "c    30\n",
       "d    40\n",
       "e    50\n",
       "Name: kor, dtype: int64"
      ]
     },
     "execution_count": 28,
     "metadata": {},
     "output_type": "execute_result"
    }
   ],
   "source": [
    "data = [10,20,30,40,50]\n",
    "sr = pd.Series(data, index=['a','b','c','d','e'], name='kor')\n",
    "sr"
   ]
  },
  {
   "cell_type": "code",
   "execution_count": 29,
   "id": "9efed862-9680-49b6-8505-1aa1b35b29a1",
   "metadata": {},
   "outputs": [
    {
     "data": {
      "text/plain": [
       "150"
      ]
     },
     "execution_count": 29,
     "metadata": {},
     "output_type": "execute_result"
    }
   ],
   "source": [
    "sr.sum()"
   ]
  },
  {
   "cell_type": "code",
   "execution_count": 30,
   "id": "e207c537-0b6a-4c2d-b813-415c9bd021e9",
   "metadata": {},
   "outputs": [
    {
     "data": {
      "text/plain": [
       "30.0"
      ]
     },
     "execution_count": 30,
     "metadata": {},
     "output_type": "execute_result"
    }
   ],
   "source": [
    "sr.mean()"
   ]
  },
  {
   "cell_type": "code",
   "execution_count": 31,
   "id": "0132cdcc-7be8-4f9d-a549-1d43ad5e4d16",
   "metadata": {},
   "outputs": [
    {
     "data": {
      "text/plain": [
       "30.0"
      ]
     },
     "execution_count": 31,
     "metadata": {},
     "output_type": "execute_result"
    }
   ],
   "source": [
    "# 데이터 정렬했을 때 가운데 값\n",
    "# 짝수개의 데이터일 경우 중간 값 두 개의 핪을 2로 나눈 값을 출력\n",
    "sr.median()"
   ]
  },
  {
   "cell_type": "code",
   "execution_count": null,
   "id": "66d088f6-7453-4353-95cf-6641d74fc702",
   "metadata": {},
   "outputs": [],
   "source": [
    "# 1000처럼 과하게 벗어나는 이상치 데이터는 빼버리거나 \n",
    "# 이런 경우에 중간 값이 더 의미있는 값이 된다."
   ]
  },
  {
   "cell_type": "code",
   "execution_count": 32,
   "id": "d73dafc6-291e-4c85-b474-5e01e2f68d8c",
   "metadata": {},
   "outputs": [
    {
     "data": {
      "text/plain": [
       "30.0"
      ]
     },
     "execution_count": 32,
     "metadata": {},
     "output_type": "execute_result"
    }
   ],
   "source": [
    "sr.quantile() # 50%에 해당되는 값"
   ]
  },
  {
   "cell_type": "code",
   "execution_count": 33,
   "id": "b2eb1995-e7d5-466e-ae15-ac578893597f",
   "metadata": {},
   "outputs": [
    {
     "data": {
      "text/plain": [
       "0.25    20.0\n",
       "0.50    30.0\n",
       "0.75    40.0\n",
       "Name: kor, dtype: float64"
      ]
     },
     "execution_count": 33,
     "metadata": {},
     "output_type": "execute_result"
    }
   ],
   "source": [
    "sr.quantile([0.25,0.5,0.75]) # 데이터를 정렬했을 때 25%, 50%, 75%에 해당하는 값"
   ]
  },
  {
   "cell_type": "code",
   "execution_count": 35,
   "id": "0961d50a-cc41-4ac6-a20f-9cc6c2f5df6a",
   "metadata": {},
   "outputs": [
    {
     "data": {
      "text/plain": [
       "15.811388300841896"
      ]
     },
     "execution_count": 35,
     "metadata": {},
     "output_type": "execute_result"
    }
   ],
   "source": [
    "#표준편차 \n",
    "#개별 데이터에 평균값을 뺀 후 제곱의 합을 구해서 갯수(5)로 나누고(분산), 루트를 씌운 값\n",
    "sr.std()"
   ]
  },
  {
   "cell_type": "code",
   "execution_count": 36,
   "id": "67b2988e-d238-4c7d-be97-bfda2c6a1964",
   "metadata": {},
   "outputs": [
    {
     "data": {
      "text/plain": [
       "array([10, 20, 30, 40, 50])"
      ]
     },
     "execution_count": 36,
     "metadata": {},
     "output_type": "execute_result"
    }
   ],
   "source": [
    "sr.unique()"
   ]
  },
  {
   "cell_type": "code",
   "execution_count": 37,
   "id": "61a2f105-8e54-41aa-aaa9-a80367a615d7",
   "metadata": {},
   "outputs": [
    {
     "data": {
      "text/plain": [
       "a    10\n",
       "b    30\n",
       "c    30\n",
       "d    40\n",
       "e    50\n",
       "Name: kor, dtype: int64"
      ]
     },
     "execution_count": 37,
     "metadata": {},
     "output_type": "execute_result"
    }
   ],
   "source": [
    "sr['b']= 30\n",
    "sr"
   ]
  },
  {
   "cell_type": "code",
   "execution_count": 38,
   "id": "d2ccd116-42ee-4b93-9f92-8707ae9ead5e",
   "metadata": {},
   "outputs": [
    {
     "data": {
      "text/plain": [
       "array([10, 30, 40, 50])"
      ]
     },
     "execution_count": 38,
     "metadata": {},
     "output_type": "execute_result"
    }
   ],
   "source": [
    "sr.unique()"
   ]
  },
  {
   "cell_type": "code",
   "execution_count": 39,
   "id": "4c644993-9ec9-4507-ba9d-2fccd237edcd",
   "metadata": {},
   "outputs": [
    {
     "data": {
      "text/plain": [
       "kor\n",
       "30    2\n",
       "10    1\n",
       "40    1\n",
       "50    1\n",
       "Name: count, dtype: int64"
      ]
     },
     "execution_count": 39,
     "metadata": {},
     "output_type": "execute_result"
    }
   ],
   "source": [
    "sr.value_counts()"
   ]
  },
  {
   "cell_type": "code",
   "execution_count": 40,
   "id": "7628ce5d-6b23-472e-b888-93d478651e52",
   "metadata": {},
   "outputs": [],
   "source": [
    "def fn(v):\n",
    "    print('v=',v)\n",
    "    return v+1"
   ]
  },
  {
   "cell_type": "code",
   "execution_count": 41,
   "id": "88d365e7-fdb0-4469-8279-164e8b58735d",
   "metadata": {},
   "outputs": [
    {
     "name": "stdout",
     "output_type": "stream",
     "text": [
      "v= 10\n",
      "v= 30\n",
      "v= 30\n",
      "v= 40\n",
      "v= 50\n"
     ]
    },
    {
     "data": {
      "text/plain": [
       "a    11\n",
       "b    31\n",
       "c    31\n",
       "d    41\n",
       "e    51\n",
       "Name: kor, dtype: int64"
      ]
     },
     "execution_count": 41,
     "metadata": {},
     "output_type": "execute_result"
    }
   ],
   "source": [
    "# sr.apply(함수 주소값)\n",
    "# 조건 별로 연산을 달리 할 수 있다.\n",
    "# sr.map(fn)와 동일\n",
    "sr.apply(fn)"
   ]
  },
  {
   "cell_type": "code",
   "execution_count": 11,
   "id": "22c100e7-53ac-44db-b891-2897763e1802",
   "metadata": {},
   "outputs": [],
   "source": [
    "def fn2(v):\n",
    "    print('v=',v)\n",
    "    if( v<30):\n",
    "        return v+1\n",
    "    else:\n",
    "        return v+2\n",
    "# 한줄로 표현가능\n",
    "# def fn2(v):\n",
    "    # return v+1 if v<30 else v+2"
   ]
  },
  {
   "cell_type": "code",
   "execution_count": 44,
   "id": "aeda0e6d-b7f5-4ea8-aa75-cef256c827de",
   "metadata": {},
   "outputs": [
    {
     "name": "stdout",
     "output_type": "stream",
     "text": [
      "v= 10\n",
      "v= 30\n",
      "v= 30\n",
      "v= 40\n",
      "v= 50\n"
     ]
    },
    {
     "data": {
      "text/plain": [
       "a    11\n",
       "b    32\n",
       "c    32\n",
       "d    42\n",
       "e    52\n",
       "Name: kor, dtype: int64"
      ]
     },
     "execution_count": 44,
     "metadata": {},
     "output_type": "execute_result"
    }
   ],
   "source": [
    "sr.apply(fn2)"
   ]
  },
  {
   "cell_type": "code",
   "execution_count": 42,
   "id": "f6870aca-cdf9-45c4-b6b1-5f6a869300f0",
   "metadata": {},
   "outputs": [
    {
     "data": {
      "text/plain": [
       "a    11\n",
       "b    32\n",
       "c    32\n",
       "d    42\n",
       "e    52\n",
       "Name: kor, dtype: int64"
      ]
     },
     "execution_count": 42,
     "metadata": {},
     "output_type": "execute_result"
    }
   ],
   "source": [
    "sr.apply(lambda v: v+1 if v<30 else v+2)"
   ]
  },
  {
   "cell_type": "code",
   "execution_count": 43,
   "id": "f7f28d97-d52a-4a5d-8f31-84a1b00e3f2d",
   "metadata": {},
   "outputs": [
    {
     "data": {
      "text/plain": [
       "a     (0, 20]\n",
       "b    (20, 40]\n",
       "c    (20, 40]\n",
       "d    (20, 40]\n",
       "e    (40, 90]\n",
       "Name: kor, dtype: category\n",
       "Categories (3, interval[int64, right]): [(0, 20] < (20, 40] < (40, 90]]"
      ]
     },
     "execution_count": 43,
     "metadata": {},
     "output_type": "execute_result"
    }
   ],
   "source": [
    "# 0 < sr <= 20\n",
    "# 20 < sr <= 40\n",
    "# 40 < sr <= 90\n",
    "pd.cut(sr,[0,20,40,90])"
   ]
  },
  {
   "cell_type": "code",
   "execution_count": 45,
   "id": "47bc7dfb-296c-49fb-9d93-acf9103fcdb6",
   "metadata": {},
   "outputs": [
    {
     "data": {
      "text/plain": [
       "a    C\n",
       "b    B\n",
       "c    B\n",
       "d    B\n",
       "e    A\n",
       "Name: kor, dtype: category\n",
       "Categories (3, object): ['C' < 'B' < 'A']"
      ]
     },
     "execution_count": 45,
     "metadata": {},
     "output_type": "execute_result"
    }
   ],
   "source": [
    "pd.cut(sr,[0,20,40,90],labels=['C','B','A'])"
   ]
  },
  {
   "cell_type": "code",
   "execution_count": 47,
   "id": "a9399f68-dde2-4673-9cda-a534c0891369",
   "metadata": {},
   "outputs": [
    {
     "data": {
      "text/plain": [
       "kor\n",
       "(20, 40]    3\n",
       "(0, 20]     1\n",
       "(40, 90]    1\n",
       "Name: count, dtype: int64"
      ]
     },
     "execution_count": 47,
     "metadata": {},
     "output_type": "execute_result"
    }
   ],
   "source": [
    "# cut 함수를 통해 시리즈가 출력되고, 멤버함수인 value_counts를 사용할 수 있다\n",
    "pd.cut(sr,[0,20,40,90]).value_counts()"
   ]
  },
  {
   "cell_type": "code",
   "execution_count": 49,
   "id": "ec6d2923-35f9-4392-82fc-b64362f70c2d",
   "metadata": {},
   "outputs": [],
   "source": [
    "sr.to_csv('a.csv')"
   ]
  },
  {
   "cell_type": "code",
   "execution_count": 53,
   "id": "29a457bc-9e9e-47b6-b7c7-8e11400b8b55",
   "metadata": {},
   "outputs": [
    {
     "data": {
      "image/png": "[encoded data removed]",
      "text/plain": [
       "<Figure size 640x480 with 1 Axes>"
      ]
     },
     "metadata": {},
     "output_type": "display_data"
    }
   ],
   "source": [
    "sr.plot()\n",
    "plt.show()"
   ]
  },
  {
   "cell_type": "code",
   "execution_count": 54,
   "id": "313e7a1f-de2b-41a2-8158-d4f9e1fe7284",
   "metadata": {},
   "outputs": [
    {
     "data": {
      "image/png": "[encoded data removed]",
      "text/plain": [
       "<Figure size 640x480 with 1 Axes>"
      ]
     },
     "metadata": {},
     "output_type": "display_data"
    }
   ],
   "source": [
    "sr.plot(kind='bar')\n",
    "plt.show()"
   ]
  },
  {
   "cell_type": "code",
   "execution_count": 62,
   "id": "714508c6-b7f7-4321-81f3-3694f3c2c7fd",
   "metadata": {},
   "outputs": [
    {
     "data": {
      "image/png": "[encoded data removed]",
      "text/plain": [
       "<Figure size 300x300 with 1 Axes>"
      ]
     },
     "metadata": {},
     "output_type": "display_data"
    }
   ],
   "source": [
    "sr.plot(kind='bar', figsize=(3,3), title='점수',grid=True, legend=True, ylim=(0,100) )\n",
    "plt.show()"
   ]
  },
  {
   "cell_type": "code",
   "execution_count": 63,
   "id": "a9e74fdb-aa1f-4af2-9ed1-9b39f7a44964",
   "metadata": {},
   "outputs": [
    {
     "name": "stdout",
     "output_type": "stream",
     "text": [
      "10\n",
      "30\n",
      "30\n",
      "40\n",
      "50\n"
     ]
    }
   ],
   "source": [
    "for n in sr: #sr.values\n",
    "    print(n)"
   ]
  },
  {
   "cell_type": "code",
   "execution_count": 64,
   "id": "c689cba9-d017-46fc-838d-d5fd24e2fe82",
   "metadata": {},
   "outputs": [
    {
     "name": "stdout",
     "output_type": "stream",
     "text": [
      "a\n",
      "b\n",
      "c\n",
      "d\n",
      "e\n"
     ]
    }
   ],
   "source": [
    "for n in sr.index:\n",
    "    print(n)"
   ]
  },
  {
   "cell_type": "code",
   "execution_count": 65,
   "id": "ef51c831-b749-47f2-b409-9e8ca35bbe50",
   "metadata": {},
   "outputs": [
    {
     "name": "stdout",
     "output_type": "stream",
     "text": [
      "('a', 10)\n",
      "('b', 30)\n",
      "('c', 30)\n",
      "('d', 40)\n",
      "('e', 50)\n"
     ]
    }
   ],
   "source": [
    "for n in sr.items():\n",
    "    print(n)"
   ]
  },
  {
   "cell_type": "code",
   "execution_count": 67,
   "id": "09cb9d2c-f32f-4460-a86f-3ba2d54f76a2",
   "metadata": {},
   "outputs": [
    {
     "name": "stdout",
     "output_type": "stream",
     "text": [
      "a 10\n",
      "b 30\n",
      "c 30\n",
      "d 40\n",
      "e 50\n"
     ]
    }
   ],
   "source": [
    "for (i, v) in sr.items():\n",
    "    print(i, v)"
   ]
  }
 ],
 "metadata": {
  "kernelspec": {
   "display_name": "Python [conda env:base] *",
   "language": "python",
   "name": "conda-base-py"
  },
  "language_info": {
   "codemirror_mode": {
    "name": "ipython",
    "version": 3
   },
   "file_extension": ".py",
   "mimetype": "text/x-python",
   "name": "python",
   "nbconvert_exporter": "python",
   "pygments_lexer": "ipython3",
   "version": "3.12.7"
  }
 },
 "nbformat": 4,
 "nbformat_minor": 5
}
