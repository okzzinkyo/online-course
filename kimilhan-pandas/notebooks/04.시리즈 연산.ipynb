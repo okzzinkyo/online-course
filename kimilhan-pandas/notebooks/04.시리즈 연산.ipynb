{
 "cells": [
  {
   "cell_type": "code",
   "execution_count": 1,
   "id": "98fdfa6e-ae3c-4fed-aabc-418177ef0e19",
   "metadata": {},
   "outputs": [
    {
     "data": {
      "text/plain": [
       "a    10\n",
       "b    20\n",
       "c    30\n",
       "d    40\n",
       "e    50\n",
       "Name: kor, dtype: int64"
      ]
     },
     "execution_count": 1,
     "metadata": {},
     "output_type": "execute_result"
    }
   ],
   "source": [
    "import pandas as pd\n",
    "import numpy as np\n",
    "\n",
    "data = [10,20,30,40,50]\n",
    "sr = pd.Series(data, index=['a','b','c','d','e'], name='kor')\n",
    "sr"
   ]
  },
  {
   "cell_type": "code",
   "execution_count": 2,
   "id": "a966d401-c2f9-4e62-96b8-4104dddf788e",
   "metadata": {},
   "outputs": [],
   "source": [
    "#산술연산(+,-,*,/,%,//,**)\n",
    "#관계연산(>,>=,<,<=,==,!=)\n",
    "#논리연산(and(&), or(|), not(~))\n",
    "#element wise(요소별 연산)"
   ]
  },
  {
   "cell_type": "code",
   "execution_count": 3,
   "id": "f7007476-09b5-40fd-9d33-a5414db4bbc4",
   "metadata": {},
   "outputs": [
    {
     "data": {
      "text/plain": [
       "a    11\n",
       "b    21\n",
       "c    31\n",
       "d    41\n",
       "e    51\n",
       "Name: kor, dtype: int64"
      ]
     },
     "execution_count": 3,
     "metadata": {},
     "output_type": "execute_result"
    }
   ],
   "source": [
    "sr+1"
   ]
  },
  {
   "cell_type": "code",
   "execution_count": 4,
   "id": "43377d50-c031-43e3-81a6-3f5ce27c45ff",
   "metadata": {},
   "outputs": [
    {
     "data": {
      "text/plain": [
       "a     8\n",
       "b    18\n",
       "c    28\n",
       "d    38\n",
       "e    48\n",
       "Name: kor, dtype: int64"
      ]
     },
     "execution_count": 4,
     "metadata": {},
     "output_type": "execute_result"
    }
   ],
   "source": [
    "sr-2"
   ]
  },
  {
   "cell_type": "code",
   "execution_count": 5,
   "id": "721a3c2f-792e-491c-ba1a-ccb4e1141f85",
   "metadata": {},
   "outputs": [
    {
     "data": {
      "text/plain": [
       "a     20\n",
       "b     40\n",
       "c     60\n",
       "d     80\n",
       "e    100\n",
       "Name: kor, dtype: int64"
      ]
     },
     "execution_count": 5,
     "metadata": {},
     "output_type": "execute_result"
    }
   ],
   "source": [
    "sr*2"
   ]
  },
  {
   "cell_type": "code",
   "execution_count": 6,
   "id": "6f22b265-9c5f-4bac-a4ff-2f0cd9694e53",
   "metadata": {},
   "outputs": [
    {
     "data": {
      "text/plain": [
       "a    10\n",
       "c    30\n",
       "e    50\n",
       "Name: kor, dtype: int64"
      ]
     },
     "execution_count": 6,
     "metadata": {},
     "output_type": "execute_result"
    }
   ],
   "source": [
    "sr[0::2] #0,2,4"
   ]
  },
  {
   "cell_type": "code",
   "execution_count": 7,
   "id": "56eb1ced-8f30-49a5-9369-2b24c9200d45",
   "metadata": {},
   "outputs": [
    {
     "name": "stderr",
     "output_type": "stream",
     "text": [
      "/var/folders/78/992v6fvd2_bcrhq_mc51vz9r0000gn/T/ipykernel_14817/3307778253.py:2: FutureWarning: Series.__getitem__ treating keys as positions is deprecated. In a future version, integer keys will always be treated as labels (consistent with DataFrame behavior). To access a value by position, use `ser.iloc[pos]`\n",
      "  sr[[0,1,4]]\n"
     ]
    },
    {
     "data": {
      "text/plain": [
       "a    10\n",
       "b    20\n",
       "e    50\n",
       "Name: kor, dtype: int64"
      ]
     },
     "execution_count": 7,
     "metadata": {},
     "output_type": "execute_result"
    }
   ],
   "source": [
    "#복수개의 인덱스를 선택\n",
    "sr[[0,1,4]]"
   ]
  },
  {
   "cell_type": "code",
   "execution_count": 8,
   "id": "7264d429-1f00-4349-9be0-24f9fb606e22",
   "metadata": {},
   "outputs": [
    {
     "data": {
      "text/plain": [
       "a    10\n",
       "b    20\n",
       "e    50\n",
       "Name: kor, dtype: int64"
      ]
     },
     "execution_count": 8,
     "metadata": {},
     "output_type": "execute_result"
    }
   ],
   "source": [
    "sr.iloc[[0,1,4]]"
   ]
  },
  {
   "cell_type": "code",
   "execution_count": 10,
   "id": "648394f5-ab87-47ed-b99e-d99fb9925d90",
   "metadata": {},
   "outputs": [
    {
     "data": {
      "text/plain": [
       "a    10\n",
       "b    20\n",
       "e    50\n",
       "Name: kor, dtype: int64"
      ]
     },
     "execution_count": 10,
     "metadata": {},
     "output_type": "execute_result"
    }
   ],
   "source": [
    "#booean indexing\n",
    "#booean 값은 요소 갯수만큼 \n",
    "#ture에 해당하는 요소만 출력\n",
    "sr[[True,True,False,False,True]]"
   ]
  },
  {
   "cell_type": "code",
   "execution_count": 11,
   "id": "0925c4b1-234c-434d-96cf-6d5f299896e8",
   "metadata": {},
   "outputs": [
    {
     "data": {
      "text/plain": [
       "a    False\n",
       "b    False\n",
       "c     True\n",
       "d     True\n",
       "e     True\n",
       "Name: kor, dtype: bool"
      ]
     },
     "execution_count": 11,
     "metadata": {},
     "output_type": "execute_result"
    }
   ],
   "source": [
    "sr>=30"
   ]
  },
  {
   "cell_type": "code",
   "execution_count": 13,
   "id": "dd482bfa-63c7-45ee-9f61-061b7fc6a073",
   "metadata": {},
   "outputs": [
    {
     "data": {
      "text/plain": [
       "c    30\n",
       "d    40\n",
       "e    50\n",
       "Name: kor, dtype: int64"
      ]
     },
     "execution_count": 13,
     "metadata": {},
     "output_type": "execute_result"
    }
   ],
   "source": [
    "#필터\n",
    "sr[sr>=30] #sr[[False,False,True,True,True]]"
   ]
  },
  {
   "cell_type": "code",
   "execution_count": 14,
   "id": "a15bc7bd-eb5d-4e62-b08f-9dcce4ea9705",
   "metadata": {},
   "outputs": [
    {
     "data": {
      "text/plain": [
       "a    10\n",
       "c    30\n",
       "d    40\n",
       "e    50\n",
       "Name: kor, dtype: int64"
      ]
     },
     "execution_count": 14,
     "metadata": {},
     "output_type": "execute_result"
    }
   ],
   "source": [
    "sr[sr!=20]"
   ]
  },
  {
   "cell_type": "code",
   "execution_count": 16,
   "id": "42905972-b74d-4e9f-ba70-846bcaa19994",
   "metadata": {},
   "outputs": [
    {
     "data": {
      "text/plain": [
       "a    False\n",
       "b    False\n",
       "c     True\n",
       "d    False\n",
       "e     True\n",
       "Name: kor, dtype: bool"
      ]
     },
     "execution_count": 16,
     "metadata": {},
     "output_type": "execute_result"
    }
   ],
   "source": [
    "# sr==30 | sr==50\n",
    "# 논리연산자는 비트연산자라 관계연산자보다 우선순위가 높아 30 | sr 먼저 수행되기 때문에 괄호 필요\n",
    "(sr==30) | (sr==50)"
   ]
  },
  {
   "cell_type": "code",
   "execution_count": 17,
   "id": "505cbbed-7e73-4a61-9d30-91f8f1e97e9c",
   "metadata": {},
   "outputs": [
    {
     "data": {
      "text/plain": [
       "c    30\n",
       "e    50\n",
       "Name: kor, dtype: int64"
      ]
     },
     "execution_count": 17,
     "metadata": {},
     "output_type": "execute_result"
    }
   ],
   "source": [
    "sr[(sr==30) | (sr==50)]"
   ]
  },
  {
   "cell_type": "code",
   "execution_count": 18,
   "id": "194c3e58-69fc-4013-84c3-4d9d2036f2cd",
   "metadata": {},
   "outputs": [
    {
     "data": {
      "text/plain": [
       "a    False\n",
       "b     True\n",
       "c     True\n",
       "d     True\n",
       "e    False\n",
       "Name: kor, dtype: bool"
      ]
     },
     "execution_count": 18,
     "metadata": {},
     "output_type": "execute_result"
    }
   ],
   "source": [
    "(sr>=20) & (sr<=40)"
   ]
  },
  {
   "cell_type": "code",
   "execution_count": 19,
   "id": "d5e9a461-b9a2-428c-9687-959c8457be36",
   "metadata": {},
   "outputs": [
    {
     "data": {
      "text/plain": [
       "b    20\n",
       "c    30\n",
       "d    40\n",
       "Name: kor, dtype: int64"
      ]
     },
     "execution_count": 19,
     "metadata": {},
     "output_type": "execute_result"
    }
   ],
   "source": [
    "sr[(sr>=20) & (sr<=40)]"
   ]
  },
  {
   "cell_type": "code",
   "execution_count": 20,
   "id": "7790414c-2d31-4557-bbb6-8367dbf8a95d",
   "metadata": {},
   "outputs": [
    {
     "data": {
      "text/plain": [
       "a    10\n",
       "e    50\n",
       "Name: kor, dtype: int64"
      ]
     },
     "execution_count": 20,
     "metadata": {},
     "output_type": "execute_result"
    }
   ],
   "source": [
    "sr[~((sr>=20) & (sr<=40))]"
   ]
  },
  {
   "cell_type": "code",
   "execution_count": 22,
   "id": "ff9a4319-1a60-43bc-abe7-5945ba083d54",
   "metadata": {},
   "outputs": [
    {
     "data": {
      "text/plain": [
       "0    1000\n",
       "1    2000\n",
       "2    3000\n",
       "3    4000\n",
       "dtype: int64"
      ]
     },
     "execution_count": 22,
     "metadata": {},
     "output_type": "execute_result"
    }
   ],
   "source": [
    "#연습문제\n",
    "#세금3.3을 제한 실수령액을 구하시오.\n",
    "salary = pd.Series([1000,2000,3000,4000])\n",
    "salary"
   ]
  },
  {
   "cell_type": "code",
   "execution_count": 24,
   "id": "b3cc3215-0dad-4c9a-8b31-a3af084bab63",
   "metadata": {},
   "outputs": [
    {
     "data": {
      "text/plain": [
       "0     967.0\n",
       "1    1934.0\n",
       "2    2901.0\n",
       "3    3868.0\n",
       "dtype: float64"
      ]
     },
     "execution_count": 24,
     "metadata": {},
     "output_type": "execute_result"
    }
   ],
   "source": [
    "salary*(1-0.033)"
   ]
  },
  {
   "cell_type": "code",
   "execution_count": 29,
   "id": "61f86bf6-7322-48f3-ae63-3657b3aedfce",
   "metadata": {},
   "outputs": [
    {
     "data": {
      "text/plain": [
       "b    20\n",
       "e    50\n",
       "Name: kor, dtype: int64"
      ]
     },
     "execution_count": 29,
     "metadata": {},
     "output_type": "execute_result"
    }
   ],
   "source": [
    "#연습문제\n",
    "#sr데이터에서 20과 50인 데이터를 선택하시오.\n",
    "sr.iloc[[1,4]]"
   ]
  },
  {
   "cell_type": "code",
   "execution_count": 28,
   "id": "f1b056a8-438c-4cfb-a3ff-c283734d1b28",
   "metadata": {},
   "outputs": [
    {
     "data": {
      "text/plain": [
       "b    20\n",
       "e    50\n",
       "Name: kor, dtype: int64"
      ]
     },
     "execution_count": 28,
     "metadata": {},
     "output_type": "execute_result"
    }
   ],
   "source": [
    "sr[((sr==20) | (sr==50))]"
   ]
  },
  {
   "cell_type": "code",
   "execution_count": 30,
   "id": "860d2cb8-3227-4b0d-b506-52b32e5d1764",
   "metadata": {},
   "outputs": [
    {
     "data": {
      "text/plain": [
       "a    False\n",
       "b     True\n",
       "c    False\n",
       "d    False\n",
       "e     True\n",
       "Name: kor, dtype: bool"
      ]
     },
     "execution_count": 30,
     "metadata": {},
     "output_type": "execute_result"
    }
   ],
   "source": [
    "sr.isin([20,50])"
   ]
  },
  {
   "cell_type": "code",
   "execution_count": 31,
   "id": "15dc93b9-8e52-4439-a677-72a7e6255228",
   "metadata": {},
   "outputs": [
    {
     "data": {
      "text/plain": [
       "b    20\n",
       "e    50\n",
       "Name: kor, dtype: int64"
      ]
     },
     "execution_count": 31,
     "metadata": {},
     "output_type": "execute_result"
    }
   ],
   "source": [
    "sr[sr.isin([20,50])]"
   ]
  },
  {
   "cell_type": "code",
   "execution_count": 34,
   "id": "f4561c16-4157-4f0e-a32b-046fd7ec12fb",
   "metadata": {},
   "outputs": [
    {
     "data": {
      "text/plain": [
       "b    20\n",
       "e    50\n",
       "Name: kor, dtype: int64"
      ]
     },
     "execution_count": 34,
     "metadata": {},
     "output_type": "execute_result"
    }
   ],
   "source": [
    "sr[(sr.index == 'b') | (sr.index == 'e')]"
   ]
  },
  {
   "cell_type": "code",
   "execution_count": null,
   "id": "231e7293-beb2-4579-872d-0754c510e29e",
   "metadata": {},
   "outputs": [],
   "source": []
  }
 ],
 "metadata": {
  "kernelspec": {
   "display_name": "Python [conda env:base] *",
   "language": "python",
   "name": "conda-base-py"
  },
  "language_info": {
   "codemirror_mode": {
    "name": "ipython",
    "version": 3
   },
   "file_extension": ".py",
   "mimetype": "text/x-python",
   "name": "python",
   "nbconvert_exporter": "python",
   "pygments_lexer": "ipython3",
   "version": "3.12.7"
  }
 },
 "nbformat": 4,
 "nbformat_minor": 5
}
