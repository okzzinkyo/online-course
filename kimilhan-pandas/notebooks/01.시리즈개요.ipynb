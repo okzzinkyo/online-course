{
 "cells": [
  {
   "cell_type": "code",
   "execution_count": 4,
   "id": "520877c2-7ae2-4aa8-9c53-f716b59786c9",
   "metadata": {},
   "outputs": [],
   "source": [
    "# 판다스 라이브러리 사용 준비\n",
    "import pandas as pd\n",
    "import numpy as np"
   ]
  },
  {
   "cell_type": "code",
   "execution_count": 5,
   "id": "90c67dd5-5744-4361-a12f-8e322f9084f4",
   "metadata": {},
   "outputs": [],
   "source": [
    "# 1차원 데이터 (리스트, Tuple, 딕셔너리)\n",
    "data1 = [10,20,30,40,50]\n",
    "data2 = (1,2,3,4,5)\n",
    "data3 = {'aa':11, 'bb':22, 'cc':33, 'dd':44}"
   ]
  },
  {
   "cell_type": "code",
   "execution_count": 10,
   "id": "be984e20-ecf8-4a86-9e88-4f93925f0693",
   "metadata": {},
   "outputs": [
    {
     "data": {
      "text/plain": [
       "a    10\n",
       "b    20\n",
       "c    30\n",
       "d    40\n",
       "e    50\n",
       "dtype: int32"
      ]
     },
     "execution_count": 10,
     "metadata": {},
     "output_type": "execute_result"
    }
   ],
   "source": [
    "sr = pd.Series(data1, index=['a','b','c','d','e'], dtype=np.int32)\n",
    "sr"
   ]
  },
  {
   "cell_type": "code",
   "execution_count": 11,
   "id": "049c3ac5-1351-4405-a65c-01e8a275942a",
   "metadata": {},
   "outputs": [
    {
     "data": {
      "text/plain": [
       "a    10.0\n",
       "b    20.0\n",
       "c    30.0\n",
       "d    40.0\n",
       "e    50.0\n",
       "dtype: float32"
      ]
     },
     "execution_count": 11,
     "metadata": {},
     "output_type": "execute_result"
    }
   ],
   "source": [
    "sr = pd.Series(data1, index=['a','b','c','d','e'], dtype=np.float32)\n",
    "sr"
   ]
  },
  {
   "cell_type": "code",
   "execution_count": 16,
   "id": "90bdef06-bf96-47b3-adac-2d99cb8651cd",
   "metadata": {},
   "outputs": [
    {
     "data": {
      "text/plain": [
       "a    10\n",
       "b    20\n",
       "c    30\n",
       "d    40\n",
       "e    50\n",
       "dtype: object"
      ]
     },
     "execution_count": 16,
     "metadata": {},
     "output_type": "execute_result"
    }
   ],
   "source": [
    "# np.str은 파이썬 내장 str 타입과 혼동을 일으켜서 deprecated 처리됨.\n",
    "# dtype=str 또는 dtype=np.str_로 사용\n",
    "# Pandas나 NumPy에서는 보통 그냥 str을 쓰는 게 가장 안전하고 명확함.\n",
    "\n",
    "sr = pd.Series(data1, index=['a','b','c','d','e'], dtype=str)\n",
    "sr\n",
    "# 10 ==> '10'"
   ]
  },
  {
   "cell_type": "code",
   "execution_count": 17,
   "id": "99cb653e-a1ca-4e11-831c-b84e9e35fdc6",
   "metadata": {},
   "outputs": [
    {
     "data": {
      "text/plain": [
       "a    10\n",
       "b    20\n",
       "c    30\n",
       "d    40\n",
       "e    50\n",
       "Name: kor, dtype: int64"
      ]
     },
     "execution_count": 17,
     "metadata": {},
     "output_type": "execute_result"
    }
   ],
   "source": [
    "sr = pd.Series(data1, index=['a','b','c','d','e'], name='kor')\n",
    "sr"
   ]
  },
  {
   "cell_type": "code",
   "execution_count": 7,
   "id": "789cc919-a1d4-46fd-86c4-97f23c2db8eb",
   "metadata": {},
   "outputs": [
    {
     "data": {
      "text/plain": [
       "0    1\n",
       "1    2\n",
       "2    3\n",
       "3    4\n",
       "4    5\n",
       "dtype: int64"
      ]
     },
     "execution_count": 7,
     "metadata": {},
     "output_type": "execute_result"
    }
   ],
   "source": [
    "sr1 = pd.Series(data2)\n",
    "sr1"
   ]
  },
  {
   "cell_type": "code",
   "execution_count": 8,
   "id": "2026495b-a836-4133-ac24-e2d4c29eecc9",
   "metadata": {},
   "outputs": [
    {
     "data": {
      "text/plain": [
       "aa    11\n",
       "bb    22\n",
       "cc    33\n",
       "dd    44\n",
       "dtype: int64"
      ]
     },
     "execution_count": 8,
     "metadata": {},
     "output_type": "execute_result"
    }
   ],
   "source": [
    "sr2 = pd.Series(data3)\n",
    "sr2"
   ]
  }
 ],
 "metadata": {
  "kernelspec": {
   "display_name": "Python [conda env:base] *",
   "language": "python",
   "name": "conda-base-py"
  },
  "language_info": {
   "codemirror_mode": {
    "name": "ipython",
    "version": 3
   },
   "file_extension": ".py",
   "mimetype": "text/x-python",
   "name": "python",
   "nbconvert_exporter": "python",
   "pygments_lexer": "ipython3",
   "version": "3.12.7"
  }
 },
 "nbformat": 4,
 "nbformat_minor": 5
}
