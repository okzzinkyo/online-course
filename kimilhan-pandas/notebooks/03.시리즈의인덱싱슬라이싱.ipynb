{
 "cells": [
  {
   "cell_type": "code",
   "execution_count": 34,
   "id": "d8c17bb1-2504-4325-8d75-6545ec1f34b3",
   "metadata": {},
   "outputs": [
    {
     "data": {
      "text/plain": [
       "a    10\n",
       "b    20\n",
       "c    30\n",
       "d    40\n",
       "e    50\n",
       "Name: kor, dtype: int64"
      ]
     },
     "execution_count": 34,
     "metadata": {},
     "output_type": "execute_result"
    }
   ],
   "source": [
    "import pandas as pd\n",
    "import numpy as np\n",
    "\n",
    "data = [10,20,30,40,50]\n",
    "sr = pd.Series(data, index=['a','b','c','d','e'], name='kor')\n",
    "sr"
   ]
  },
  {
   "cell_type": "code",
   "execution_count": 35,
   "id": "9dc04ef1-8ddf-4a39-9075-c5073158a084",
   "metadata": {},
   "outputs": [
    {
     "name": "stderr",
     "output_type": "stream",
     "text": [
      "/var/folders/78/992v6fvd2_bcrhq_mc51vz9r0000gn/T/ipykernel_15474/3603835252.py:2: FutureWarning: Series.__getitem__ treating keys as positions is deprecated. In a future version, integer keys will always be treated as labels (consistent with DataFrame behavior). To access a value by position, use `ser.iloc[pos]`\n",
      "  sr[0]\n"
     ]
    },
    {
     "data": {
      "text/plain": [
       "10"
      ]
     },
     "execution_count": 35,
     "metadata": {},
     "output_type": "execute_result"
    }
   ],
   "source": [
    "#인덱싱: 데이터의 요소를 추출\n",
    "sr[0]\n",
    "# 현재는 sr[0]처럼 정수를 넣으면 \"인덱스의 위치\"로 인식\n",
    "# 하지만 앞으로는 sr[0]은 \"인덱스 라벨이 0인 항목\"을 찾는 식으로 바뀔 예정\n",
    "# 즉, 위치 기반 접근은 sr.iloc[0], \n",
    "# 라벨 기반 접근은 sr.loc[0] 또는 sr[0] (미래에는 이것만 남음)으로 명확히 나눠야 한다"
   ]
  },
  {
   "cell_type": "code",
   "execution_count": 4,
   "id": "4bad5644-5bb4-495e-9f07-0c128e432ca7",
   "metadata": {},
   "outputs": [
    {
     "name": "stderr",
     "output_type": "stream",
     "text": [
      "/var/folders/78/992v6fvd2_bcrhq_mc51vz9r0000gn/T/ipykernel_15474/484977753.py:1: FutureWarning: Series.__getitem__ treating keys as positions is deprecated. In a future version, integer keys will always be treated as labels (consistent with DataFrame behavior). To access a value by position, use `ser.iloc[pos]`\n",
      "  sr[-1]\n"
     ]
    },
    {
     "data": {
      "text/plain": [
       "50"
      ]
     },
     "execution_count": 4,
     "metadata": {},
     "output_type": "execute_result"
    }
   ],
   "source": [
    "sr[-1]"
   ]
  },
  {
   "cell_type": "code",
   "execution_count": 5,
   "id": "e7085260-3b9d-4a75-971d-e532199b38eb",
   "metadata": {},
   "outputs": [
    {
     "data": {
      "text/plain": [
       "10"
      ]
     },
     "execution_count": 5,
     "metadata": {},
     "output_type": "execute_result"
    }
   ],
   "source": [
    "sr['a']"
   ]
  },
  {
   "cell_type": "code",
   "execution_count": null,
   "id": "8b7f0a8e-4a01-4b6a-84dc-5664cb5c4c92",
   "metadata": {},
   "outputs": [],
   "source": [
    "# 슬라이싱 [시작인덱스:끝인덱스:증가치]\n",
    "# 시작인덱스 <= idx < 끝인덱스"
   ]
  },
  {
   "cell_type": "code",
   "execution_count": 8,
   "id": "8b1970cd-c31d-40c2-b203-bccec5e68f9a",
   "metadata": {},
   "outputs": [
    {
     "data": {
      "text/plain": [
       "b    20\n",
       "c    30\n",
       "d    40\n",
       "Name: kor, dtype: int64"
      ]
     },
     "execution_count": 8,
     "metadata": {},
     "output_type": "execute_result"
    }
   ],
   "source": [
    "sr[1:4:1] # 1<=idx<4 1,2,3"
   ]
  },
  {
   "cell_type": "code",
   "execution_count": 9,
   "id": "8523cf42-7e45-46ab-b7a3-d144f1a54f41",
   "metadata": {},
   "outputs": [
    {
     "data": {
      "text/plain": [
       "b    20\n",
       "d    40\n",
       "Name: kor, dtype: int64"
      ]
     },
     "execution_count": 9,
     "metadata": {},
     "output_type": "execute_result"
    }
   ],
   "source": [
    "sr[1:4:2] # 1<=idx<4 1,3"
   ]
  },
  {
   "cell_type": "code",
   "execution_count": 10,
   "id": "2ce4c940-4fe9-4a93-946f-2fbdf942399a",
   "metadata": {},
   "outputs": [
    {
     "data": {
      "text/plain": [
       "a    10\n",
       "b    20\n",
       "c    30\n",
       "Name: kor, dtype: int64"
      ]
     },
     "execution_count": 10,
     "metadata": {},
     "output_type": "execute_result"
    }
   ],
   "source": [
    "sr[0:3] # 기본 증가치는 1, 0<=idx<3 0,1,2"
   ]
  },
  {
   "cell_type": "code",
   "execution_count": 11,
   "id": "f94ec292-39be-4d1c-84fc-3a99fd6f52c6",
   "metadata": {},
   "outputs": [
    {
     "data": {
      "text/plain": [
       "a    10\n",
       "b    20\n",
       "c    30\n",
       "Name: kor, dtype: int64"
      ]
     },
     "execution_count": 11,
     "metadata": {},
     "output_type": "execute_result"
    }
   ],
   "source": [
    "sr[:3] # 기본 시작 인덱스는 0"
   ]
  },
  {
   "cell_type": "code",
   "execution_count": 12,
   "id": "f4d8befc-90f9-43d8-ac32-51330eac7f33",
   "metadata": {},
   "outputs": [
    {
     "data": {
      "text/plain": [
       "b    20\n",
       "c    30\n",
       "d    40\n",
       "e    50\n",
       "Name: kor, dtype: int64"
      ]
     },
     "execution_count": 12,
     "metadata": {},
     "output_type": "execute_result"
    }
   ],
   "source": [
    "sr[1:] # 끝인덱스 생략(끝까지)"
   ]
  },
  {
   "cell_type": "code",
   "execution_count": 13,
   "id": "83c39a14-3946-4fb9-948e-90dea6577cbe",
   "metadata": {},
   "outputs": [
    {
     "data": {
      "text/plain": [
       "b    20\n",
       "c    30\n",
       "d    40\n",
       "Name: kor, dtype: int64"
      ]
     },
     "execution_count": 13,
     "metadata": {},
     "output_type": "execute_result"
    }
   ],
   "source": [
    "sr[1:-1] # 1<=index < -1"
   ]
  },
  {
   "cell_type": "code",
   "execution_count": 15,
   "id": "6e957747-39a8-4eeb-a077-90ac74bcc559",
   "metadata": {},
   "outputs": [
    {
     "data": {
      "text/plain": [
       "b    20\n",
       "c    30\n",
       "d    40\n",
       "Name: kor, dtype: int64"
      ]
     },
     "execution_count": 15,
     "metadata": {},
     "output_type": "execute_result"
    }
   ],
   "source": [
    "sr['b':'d'] #부여된 인덱스는 끝 인덱스가 포함됨"
   ]
  },
  {
   "cell_type": "code",
   "execution_count": 31,
   "id": "6f74514c-c9d9-4fca-844e-cc2e23bc3cda",
   "metadata": {},
   "outputs": [
    {
     "data": {
      "text/plain": [
       "10"
      ]
     },
     "execution_count": 31,
     "metadata": {},
     "output_type": "execute_result"
    }
   ],
   "source": [
    "# 0 base만 인덱싱, 슬라이싱\n",
    "sr.iloc[0]"
   ]
  },
  {
   "cell_type": "code",
   "execution_count": 18,
   "id": "c2d22d46-ef5b-42c9-b534-0f2fb82bbeb3",
   "metadata": {},
   "outputs": [
    {
     "data": {
      "text/plain": [
       "50"
      ]
     },
     "execution_count": 18,
     "metadata": {},
     "output_type": "execute_result"
    }
   ],
   "source": [
    "sr.iloc[-1]"
   ]
  },
  {
   "cell_type": "code",
   "execution_count": 19,
   "id": "69e9ea96-0ade-4e3f-ac30-7aff3006220e",
   "metadata": {},
   "outputs": [
    {
     "data": {
      "text/plain": [
       "b    20\n",
       "c    30\n",
       "d    40\n",
       "Name: kor, dtype: int64"
      ]
     },
     "execution_count": 19,
     "metadata": {},
     "output_type": "execute_result"
    }
   ],
   "source": [
    "sr.iloc[1:4]"
   ]
  },
  {
   "cell_type": "code",
   "execution_count": 20,
   "id": "c22848b7-8f2b-4113-b360-5fd280c7a356",
   "metadata": {},
   "outputs": [
    {
     "data": {
      "text/plain": [
       "30"
      ]
     },
     "execution_count": 20,
     "metadata": {},
     "output_type": "execute_result"
    }
   ],
   "source": [
    "# 부여된 인덱스 인뎅싱, 슬라이싱\n",
    "sr.loc['c']"
   ]
  },
  {
   "cell_type": "code",
   "execution_count": 21,
   "id": "ad4fdd29-cea1-41e8-ac60-67da25b8764c",
   "metadata": {},
   "outputs": [
    {
     "data": {
      "text/plain": [
       "a    10\n",
       "b    20\n",
       "c    30\n",
       "Name: kor, dtype: int64"
      ]
     },
     "execution_count": 21,
     "metadata": {},
     "output_type": "execute_result"
    }
   ],
   "source": [
    "sr.loc['a':'c']"
   ]
  },
  {
   "cell_type": "code",
   "execution_count": 36,
   "id": "542c57af-bd84-4dc6-9237-9766368aa2db",
   "metadata": {},
   "outputs": [],
   "source": [
    "sr.index = [2,3,4,5,6]"
   ]
  },
  {
   "cell_type": "code",
   "execution_count": 37,
   "id": "2e2f12b7-2b66-40cb-91cb-bf67623819cf",
   "metadata": {},
   "outputs": [
    {
     "data": {
      "text/plain": [
       "2    10\n",
       "3    20\n",
       "4    30\n",
       "5    40\n",
       "6    50\n",
       "Name: kor, dtype: int64"
      ]
     },
     "execution_count": 37,
     "metadata": {},
     "output_type": "execute_result"
    }
   ],
   "source": [
    "sr"
   ]
  },
  {
   "cell_type": "code",
   "execution_count": 38,
   "id": "4460f3af-a366-42ff-a955-4f2e78c1b333",
   "metadata": {},
   "outputs": [
    {
     "data": {
      "text/plain": [
       "10"
      ]
     },
     "execution_count": 38,
     "metadata": {},
     "output_type": "execute_result"
    }
   ],
   "source": [
    "sr[2] # 인덱스가 숫자면 부여된 인덱스로 고정됨(zero-base index 적용안됨)"
   ]
  },
  {
   "cell_type": "code",
   "execution_count": 39,
   "id": "ff197062-57d6-4b56-9e24-43a123d4494e",
   "metadata": {},
   "outputs": [
    {
     "data": {
      "text/plain": [
       "4    30\n",
       "5    40\n",
       "Name: kor, dtype: int64"
      ]
     },
     "execution_count": 39,
     "metadata": {},
     "output_type": "execute_result"
    }
   ],
   "source": [
    "sr[2:4] # 슬라이싱의 경우는 0베이스"
   ]
  },
  {
   "cell_type": "code",
   "execution_count": 40,
   "id": "360d4423-e68f-4599-9e8e-4bab0b9a8535",
   "metadata": {},
   "outputs": [
    {
     "data": {
      "text/plain": [
       "2    10\n",
       "3    20\n",
       "4    30\n",
       "Name: kor, dtype: int64"
      ]
     },
     "execution_count": 40,
     "metadata": {},
     "output_type": "execute_result"
    }
   ],
   "source": [
    "sr.loc[2:4]"
   ]
  },
  {
   "cell_type": "code",
   "execution_count": 41,
   "id": "fb5da421-16c3-43cb-a50c-4846b5b02679",
   "metadata": {},
   "outputs": [
    {
     "data": {
      "text/plain": [
       "4    30\n",
       "5    40\n",
       "Name: kor, dtype: int64"
      ]
     },
     "execution_count": 41,
     "metadata": {},
     "output_type": "execute_result"
    }
   ],
   "source": [
    "sr.iloc[2:4]"
   ]
  }
 ],
 "metadata": {
  "kernelspec": {
   "display_name": "Python [conda env:base] *",
   "language": "python",
   "name": "conda-base-py"
  },
  "language_info": {
   "codemirror_mode": {
    "name": "ipython",
    "version": 3
   },
   "file_extension": ".py",
   "mimetype": "text/x-python",
   "name": "python",
   "nbconvert_exporter": "python",
   "pygments_lexer": "ipython3",
   "version": "3.12.7"
  }
 },
 "nbformat": 4,
 "nbformat_minor": 5
}
