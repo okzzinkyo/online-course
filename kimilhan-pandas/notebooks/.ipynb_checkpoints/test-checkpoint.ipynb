{
 "cells": [
  {
   "cell_type": "code",
   "execution_count": 2,
   "id": "ec5d9de4-d8dd-4a54-aab2-d5def1250fe2",
   "metadata": {},
   "outputs": [
    {
     "name": "stdout",
     "output_type": "stream",
     "text": [
      "hello\n"
     ]
    }
   ],
   "source": [
    "print('hello') #ctrl + enter (실행)"
   ]
  },
  {
   "cell_type": "code",
   "execution_count": 4,
   "id": "477518ea-1acb-4baa-8f5d-1a8e22a43c75",
   "metadata": {},
   "outputs": [
    {
     "name": "stdout",
     "output_type": "stream",
     "text": [
      "10\n",
      "10\n"
     ]
    }
   ],
   "source": [
    "a = 10\n",
    "b= 10\n",
    "print(a)\n",
    "print(b)"
   ]
  },
  {
   "cell_type": "code",
   "execution_count": 6,
   "id": "d7b824cf-3469-4197-9452-a3b0df0ea332",
   "metadata": {},
   "outputs": [
    {
     "data": {
      "text/plain": [
       "10"
      ]
     },
     "execution_count": 6,
     "metadata": {},
     "output_type": "execute_result"
    }
   ],
   "source": [
    "a # print 없이도 변수 입력으로 출력할 수 있다."
   ]
  },
  {
   "cell_type": "code",
   "execution_count": 8,
   "id": "f152c1e5-b438-4fb6-b357-3005b9fb4a88",
   "metadata": {},
   "outputs": [
    {
     "data": {
      "text/plain": [
       "10"
      ]
     },
     "execution_count": 8,
     "metadata": {},
     "output_type": "execute_result"
    }
   ],
   "source": [
    "a\n",
    "b # print를 사용하지 않으면 마지막 변수만 출력"
   ]
  },
  {
   "cell_type": "code",
   "execution_count": null,
   "id": "1b311d42-b4bc-4a1e-a0e5-e38769237c06",
   "metadata": {},
   "outputs": [],
   "source": [
    "#편집모드(연두색): ctrl+enter(실행),\n",
    "#shift+enter(실행후 아래셀로이동또는 셀추가), shift+tab(아규먼트)\n",
    "# esc(셀선택)\n",
    "#선선택모드: enter(셀편집모드), a(위에셀추가), b(아래에 셀추가), x(셀삭제)\n",
    "#o (결과값) -> 확장 설치 필요"
   ]
  },
  {
   "cell_type": "code",
   "execution_count": 11,
   "id": "0ae202c5-cdb3-4849-9cb2-f2c3405b6ce8",
   "metadata": {},
   "outputs": [
    {
     "name": "stdout",
     "output_type": "stream",
     "text": [
      "test\n"
     ]
    }
   ],
   "source": [
    "print('test')"
   ]
  },
  {
   "cell_type": "code",
   "execution_count": null,
   "id": "b0e0245d-b95d-4430-a707-a436b956e78f",
   "metadata": {},
   "outputs": [],
   "source": []
  }
 ],
 "metadata": {
  "kernelspec": {
   "display_name": "Python [conda env:base] *",
   "language": "python",
   "name": "conda-base-py"
  },
  "language_info": {
   "codemirror_mode": {
    "name": "ipython",
    "version": 3
   },
   "file_extension": ".py",
   "mimetype": "text/x-python",
   "name": "python",
   "nbconvert_exporter": "python",
   "pygments_lexer": "ipython3",
   "version": "3.12.7"
  }
 },
 "nbformat": 4,
 "nbformat_minor": 5
}
