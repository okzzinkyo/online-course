{
 "cells": [
  {
   "cell_type": "code",
   "execution_count": 10,
   "id": "f920da39-00be-4e35-8f0c-7448a5bf0d56",
   "metadata": {},
   "outputs": [],
   "source": [
    "import pandas as pd\n",
    "import numpy as np"
   ]
  },
  {
   "cell_type": "code",
   "execution_count": 11,
   "id": "c571e77b-3192-4e66-a0e5-27a0432f8bb6",
   "metadata": {},
   "outputs": [
    {
     "data": {
      "text/plain": [
       "a    10\n",
       "b    20\n",
       "c    30\n",
       "d    40\n",
       "e    50\n",
       "Name: kor, dtype: int64"
      ]
     },
     "execution_count": 11,
     "metadata": {},
     "output_type": "execute_result"
    }
   ],
   "source": [
    "data = [10,20,30,40,50]\n",
    "sr = pd.Series(data, index=['a','b','c','d','e'], name='kor')\n",
    "sr"
   ]
  },
  {
   "cell_type": "code",
   "execution_count": 12,
   "id": "9c3be356-c164-45e1-870f-47cc82455d65",
   "metadata": {},
   "outputs": [],
   "source": [
    "# 객체.속성\n",
    "# 객체.메소드()"
   ]
  },
  {
   "cell_type": "code",
   "execution_count": 14,
   "id": "c27a50e1-a43c-435f-b96b-0ee63100f996",
   "metadata": {},
   "outputs": [
    {
     "data": {
      "text/plain": [
       "'kor'"
      ]
     },
     "execution_count": 14,
     "metadata": {},
     "output_type": "execute_result"
    }
   ],
   "source": [
    "sr.name"
   ]
  },
  {
   "cell_type": "code",
   "execution_count": 13,
   "id": "e1e4ce17-f9e6-47ea-8a7b-3f60393b3274",
   "metadata": {},
   "outputs": [
    {
     "data": {
      "text/plain": [
       "1"
      ]
     },
     "execution_count": 13,
     "metadata": {},
     "output_type": "execute_result"
    }
   ],
   "source": [
    "sr.ndim #몇차원"
   ]
  },
  {
   "cell_type": "code",
   "execution_count": 16,
   "id": "e78a6251-1d5b-4f1e-abd4-202dcad7b75f",
   "metadata": {},
   "outputs": [
    {
     "data": {
      "text/plain": [
       "(5,)"
      ]
     },
     "execution_count": 16,
     "metadata": {},
     "output_type": "execute_result"
    }
   ],
   "source": [
    "sr.shape #(몇행, 몇열)"
   ]
  },
  {
   "cell_type": "code",
   "execution_count": 17,
   "id": "7ecf36ed-6615-4226-bfc5-d25ee1118419",
   "metadata": {},
   "outputs": [
    {
     "data": {
      "text/plain": [
       "5"
      ]
     },
     "execution_count": 17,
     "metadata": {},
     "output_type": "execute_result"
    }
   ],
   "source": [
    "sr.size #행x얄"
   ]
  },
  {
   "cell_type": "code",
   "execution_count": 18,
   "id": "848902e1-0d83-40fe-9456-87848e4ea955",
   "metadata": {},
   "outputs": [
    {
     "data": {
      "text/plain": [
       "dtype('int64')"
      ]
     },
     "execution_count": 18,
     "metadata": {},
     "output_type": "execute_result"
    }
   ],
   "source": [
    "sr.dtype"
   ]
  },
  {
   "cell_type": "code",
   "execution_count": 22,
   "id": "365198e1-a004-43c4-93f7-54dd6664996d",
   "metadata": {},
   "outputs": [
    {
     "name": "stdout",
     "output_type": "stream",
     "text": [
      "Index(['a', 'b', 'c', 'd', 'e'], dtype='object')\n",
      "<class 'pandas.core.indexes.base.Index'>\n"
     ]
    }
   ],
   "source": [
    "print(sr.index)\n",
    "print(type(sr.index)) #sr.index.속성(메소드) - listX, index 클래스 객체"
   ]
  },
  {
   "cell_type": "code",
   "execution_count": 23,
   "id": "85394b95-dc8c-4259-8f7d-81cf5cf8d46b",
   "metadata": {},
   "outputs": [
    {
     "data": {
      "text/plain": [
       "array([10, 20, 30, 40, 50])"
      ]
     },
     "execution_count": 23,
     "metadata": {},
     "output_type": "execute_result"
    }
   ],
   "source": [
    "sr.values"
   ]
  },
  {
   "cell_type": "code",
   "execution_count": 24,
   "id": "f2efcbf6-4960-4508-8b3f-337c84f3e254",
   "metadata": {},
   "outputs": [
    {
     "name": "stdout",
     "output_type": "stream",
     "text": [
      "<class 'numpy.ndarray'>\n"
     ]
    }
   ],
   "source": [
    "print(type(sr.values)) #sr.values.속성(메소드)"
   ]
  },
  {
   "cell_type": "code",
   "execution_count": null,
   "id": "4754d18d-0478-4db3-8a57-db8991ec1030",
   "metadata": {},
   "outputs": [],
   "source": []
  }
 ],
 "metadata": {
  "kernelspec": {
   "display_name": "Python [conda env:base] *",
   "language": "python",
   "name": "conda-base-py"
  },
  "language_info": {
   "codemirror_mode": {
    "name": "ipython",
    "version": 3
   },
   "file_extension": ".py",
   "mimetype": "text/x-python",
   "name": "python",
   "nbconvert_exporter": "python",
   "pygments_lexer": "ipython3",
   "version": "3.12.7"
  }
 },
 "nbformat": 4,
 "nbformat_minor": 5
}
