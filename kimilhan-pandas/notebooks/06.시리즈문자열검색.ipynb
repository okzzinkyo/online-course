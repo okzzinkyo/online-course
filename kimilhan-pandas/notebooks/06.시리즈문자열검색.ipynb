{
 "cells": [
  {
   "cell_type": "code",
   "execution_count": 1,
   "id": "c1212b0b-b657-4997-a3cb-8dea9a10cf28",
   "metadata": {},
   "outputs": [],
   "source": [
    "import pandas as pd\n",
    "import numpy as np"
   ]
  },
  {
   "cell_type": "code",
   "execution_count": 3,
   "id": "2ce2d70a-4051-4d19-b2ab-7f5ff01ff8a4",
   "metadata": {},
   "outputs": [
    {
     "data": {
      "text/plain": [
       "aa    홍길동\n",
       "bb    이순신\n",
       "cc    김철수\n",
       "dd    김순이\n",
       "ee    이홍김\n",
       "dtype: object"
      ]
     },
     "execution_count": 3,
     "metadata": {},
     "output_type": "execute_result"
    }
   ],
   "source": [
    "sr = pd.Series(['홍길동','이순신','김철수','김순이','이홍김'])\n",
    "sr.index=['aa','bb','cc','dd','ee']\n",
    "sr"
   ]
  },
  {
   "cell_type": "code",
   "execution_count": 4,
   "id": "3c318c04-1583-449d-b2d1-a9ec240953bb",
   "metadata": {},
   "outputs": [
    {
     "data": {
      "text/plain": [
       "aa    False\n",
       "bb     True\n",
       "cc    False\n",
       "dd    False\n",
       "ee    False\n",
       "dtype: bool"
      ]
     },
     "execution_count": 4,
     "metadata": {},
     "output_type": "execute_result"
    }
   ],
   "source": [
    "sr=='이순신'"
   ]
  },
  {
   "cell_type": "code",
   "execution_count": 5,
   "id": "99faef1d-f11f-43ac-95ed-eb0a0eb78866",
   "metadata": {},
   "outputs": [
    {
     "data": {
      "text/plain": [
       "bb    이순신\n",
       "dtype: object"
      ]
     },
     "execution_count": 5,
     "metadata": {},
     "output_type": "execute_result"
    }
   ],
   "source": [
    "sr[sr=='이순신']"
   ]
  },
  {
   "cell_type": "code",
   "execution_count": 7,
   "id": "187cbe50-f7fc-40df-ba7d-83f39b215ed7",
   "metadata": {},
   "outputs": [],
   "source": [
    "# 정규식 패턴매칭\n",
    "# 문자열을 다룰때 sr.str 속성을 이용"
   ]
  },
  {
   "cell_type": "code",
   "execution_count": 8,
   "id": "9797baf9-f73c-44ba-9226-b344b8280ae0",
   "metadata": {},
   "outputs": [
    {
     "data": {
      "text/plain": [
       "<pandas.core.strings.accessor.StringMethods at 0x13fdc9910>"
      ]
     },
     "execution_count": 8,
     "metadata": {},
     "output_type": "execute_result"
    }
   ],
   "source": [
    "sr.str"
   ]
  },
  {
   "cell_type": "code",
   "execution_count": 9,
   "id": "6dd9650d-bb88-49a1-aaa0-c064906a9502",
   "metadata": {},
   "outputs": [
    {
     "data": {
      "text/plain": [
       "aa    홍\n",
       "bb    이\n",
       "cc    김\n",
       "dd    김\n",
       "ee    이\n",
       "dtype: object"
      ]
     },
     "execution_count": 9,
     "metadata": {},
     "output_type": "execute_result"
    }
   ],
   "source": [
    "sr.str[0]"
   ]
  },
  {
   "cell_type": "code",
   "execution_count": 10,
   "id": "c6c7df84-ed27-4bd8-88d6-465a4256df4a",
   "metadata": {},
   "outputs": [
    {
     "data": {
      "text/plain": [
       "aa    길동\n",
       "bb    순신\n",
       "cc    철수\n",
       "dd    순이\n",
       "ee    홍김\n",
       "dtype: object"
      ]
     },
     "execution_count": 10,
     "metadata": {},
     "output_type": "execute_result"
    }
   ],
   "source": [
    "sr.str[1:]"
   ]
  },
  {
   "cell_type": "code",
   "execution_count": 11,
   "id": "972999a6-98ba-45f7-8628-4ad0654e7de9",
   "metadata": {},
   "outputs": [
    {
     "data": {
      "text/plain": [
       "aa    홍길\n",
       "bb    이순\n",
       "cc    김철\n",
       "dd    김순\n",
       "ee    이홍\n",
       "dtype: object"
      ]
     },
     "execution_count": 11,
     "metadata": {},
     "output_type": "execute_result"
    }
   ],
   "source": [
    "sr.str[:-1]"
   ]
  },
  {
   "cell_type": "code",
   "execution_count": 12,
   "id": "e94e5fac-a184-4f16-8c45-90aa5447e796",
   "metadata": {},
   "outputs": [
    {
     "data": {
      "text/plain": [
       "aa    False\n",
       "bb    False\n",
       "cc     True\n",
       "dd     True\n",
       "ee     True\n",
       "dtype: bool"
      ]
     },
     "execution_count": 12,
     "metadata": {},
     "output_type": "execute_result"
    }
   ],
   "source": [
    "sr.str.contains('김')"
   ]
  },
  {
   "cell_type": "code",
   "execution_count": 13,
   "id": "e35abe94-27d5-4d3d-9d68-73849e97bb8f",
   "metadata": {},
   "outputs": [
    {
     "data": {
      "text/plain": [
       "cc    김철수\n",
       "dd    김순이\n",
       "ee    이홍김\n",
       "dtype: object"
      ]
     },
     "execution_count": 13,
     "metadata": {},
     "output_type": "execute_result"
    }
   ],
   "source": [
    "sr[sr.str.contains('김')]"
   ]
  },
  {
   "cell_type": "code",
   "execution_count": 16,
   "id": "95df8e2d-43b1-4517-b20e-0af9bc33c468",
   "metadata": {},
   "outputs": [
    {
     "data": {
      "text/plain": [
       "cc    김철수\n",
       "dd    김순이\n",
       "dtype: object"
      ]
     },
     "execution_count": 16,
     "metadata": {},
     "output_type": "execute_result"
    }
   ],
   "source": [
    "#정규식 패턴의 메타기호\n",
    "# ^ : 시작\n",
    "sr[sr.str.contains('^김')]"
   ]
  },
  {
   "cell_type": "code",
   "execution_count": 17,
   "id": "b7b610ec-9e41-49b4-ae7e-dbc31f060c08",
   "metadata": {},
   "outputs": [
    {
     "data": {
      "text/plain": [
       "ee    이홍김\n",
       "dtype: object"
      ]
     },
     "execution_count": 17,
     "metadata": {},
     "output_type": "execute_result"
    }
   ],
   "source": [
    "# $ : 끝\n",
    "sr[sr.str.contains('김$')]"
   ]
  },
  {
   "cell_type": "code",
   "execution_count": 19,
   "id": "f137b8b3-f31e-44ba-9e33-447eb81bc322",
   "metadata": {},
   "outputs": [
    {
     "data": {
      "text/plain": [
       "cc    김철수\n",
       "dd    김순이\n",
       "dtype: object"
      ]
     },
     "execution_count": 19,
     "metadata": {},
     "output_type": "execute_result"
    }
   ],
   "source": [
    "# []: 문자의 집합 중 하나\n",
    "# ex)김[철순] 김철 또는 김순\n",
    "sr[sr.str.contains('김[철순]')]"
   ]
  },
  {
   "cell_type": "code",
   "execution_count": 20,
   "id": "f3c1cd29-23a0-4c94-8fef-d2dea6d3f2a5",
   "metadata": {},
   "outputs": [
    {
     "data": {
      "text/plain": [
       "bb    이순신\n",
       "dtype: object"
      ]
     },
     "execution_count": 20,
     "metadata": {},
     "output_type": "execute_result"
    }
   ],
   "source": [
    "# | : or\n",
    "sr[sr.str.contains('순신|철수]')]"
   ]
  },
  {
   "cell_type": "code",
   "execution_count": 23,
   "id": "2f2b4ec1-5124-4948-9226-773fd85f88fc",
   "metadata": {},
   "outputs": [
    {
     "data": {
      "text/plain": [
       "aa    홍길동\n",
       "bb    이순신\n",
       "cc    황철수\n",
       "dd    황순이\n",
       "ee    이홍황\n",
       "dtype: object"
      ]
     },
     "execution_count": 23,
     "metadata": {},
     "output_type": "execute_result"
    }
   ],
   "source": [
    "# 특정 글자 바꿈\n",
    "# sr = sr.str.replace('김','황')\n",
    "sr.str.replace('김','황')"
   ]
  },
  {
   "cell_type": "code",
   "execution_count": null,
   "id": "1f9e6486-bcf0-4ca2-bb92-11d414a1a584",
   "metadata": {},
   "outputs": [],
   "source": []
  }
 ],
 "metadata": {
  "kernelspec": {
   "display_name": "Python [conda env:base] *",
   "language": "python",
   "name": "conda-base-py"
  },
  "language_info": {
   "codemirror_mode": {
    "name": "ipython",
    "version": 3
   },
   "file_extension": ".py",
   "mimetype": "text/x-python",
   "name": "python",
   "nbconvert_exporter": "python",
   "pygments_lexer": "ipython3",
   "version": "3.12.7"
  }
 },
 "nbformat": 4,
 "nbformat_minor": 5
}
