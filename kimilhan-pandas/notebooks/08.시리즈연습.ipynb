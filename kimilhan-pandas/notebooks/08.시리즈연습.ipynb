{
 "cells": [
  {
   "cell_type": "code",
   "execution_count": 1,
   "id": "7808b392-6fbe-4839-a7b1-f9b6a55542f6",
   "metadata": {},
   "outputs": [],
   "source": [
    "import pandas as pd\n",
    "import numpy as np\n",
    "import matplotlib.pyplot as plt\n",
    "\n",
    "import matplotlib\n",
    "matplotlib.rcParams['font.family']=\"AppleGothic\"\n",
    "matplotlib.rcParams['axes.unicode_minus']=False"
   ]
  },
  {
   "cell_type": "code",
   "execution_count": 58,
   "id": "2f53f37e-d784-4e33-8a24-d26f5161a71e",
   "metadata": {},
   "outputs": [
    {
     "data": {
      "text/plain": [
       "홍길동     90\n",
       "이순신     90\n",
       "임꺽정     55\n",
       "정난정     60\n",
       "이이      76\n",
       "이황      80\n",
       "정도전     76\n",
       "김철수1    88\n",
       "김철수2    30\n",
       "김철수3    25\n",
       "Name: 국어점수, dtype: int64"
      ]
     },
     "execution_count": 58,
     "metadata": {},
     "output_type": "execute_result"
    }
   ],
   "source": [
    "sr = pd.Series( [90,90,55,60,76,80,76,88,30,25],\n",
    "               name=\"국어점수\" )\n",
    "sr.index=['홍길동','이순신','임꺽정','정난정',\n",
    "         '이이','이황','정도전','김철수1',\n",
    "          '김철수2','김철수3']\n",
    "sr"
   ]
  },
  {
   "cell_type": "code",
   "execution_count": null,
   "id": "13585390-772b-431e-a24e-ab92ba2357c5",
   "metadata": {},
   "outputs": [],
   "source": [
    "# ( 연습문제 )\n",
    "# 1. 국어점수가 가장큰값을 구하시요\n",
    "# 2. 국어점수가 가장큰값의 이름을 구하시요\n",
    "# 3. 국어점수가 80점이상인 값을 구하시요\n",
    "# 4. 국어 점수가 50점이상 80점이하인\n",
    "# 값을 구하시요\n",
    "# 5. 이름이 김으로 시작하는 데이터를\n",
    "# 구하시요"
   ]
  },
  {
   "cell_type": "code",
   "execution_count": 3,
   "id": "40bfd4c9-fe17-40aa-996e-09e7b876a58a",
   "metadata": {},
   "outputs": [
    {
     "data": {
      "text/plain": [
       "90"
      ]
     },
     "execution_count": 3,
     "metadata": {},
     "output_type": "execute_result"
    }
   ],
   "source": [
    "# 1. 국어점수가 가장큰값을 구하시요\n",
    "sr.max()"
   ]
  },
  {
   "cell_type": "code",
   "execution_count": 6,
   "id": "cb685930-afce-4e92-8ab1-3d03e7949897",
   "metadata": {},
   "outputs": [
    {
     "data": {
      "text/plain": [
       "Index(['홍길동', '이순신'], dtype='object')"
      ]
     },
     "execution_count": 6,
     "metadata": {},
     "output_type": "execute_result"
    }
   ],
   "source": [
    "# 2. 국어점수가 가장큰값의 이름을 구하시요\n",
    "# sr.idxmax() .. 동일한 데이터가 있을 경우 하나만 출력됨\n",
    "sr[sr == sr.max()].index"
   ]
  },
  {
   "cell_type": "code",
   "execution_count": 7,
   "id": "84dba4b8-90bf-457f-b213-0d5f91acbab7",
   "metadata": {},
   "outputs": [
    {
     "data": {
      "text/plain": [
       "홍길동     90\n",
       "이순신     90\n",
       "이황      80\n",
       "김철수1    88\n",
       "Name: 국어점수, dtype: int64"
      ]
     },
     "execution_count": 7,
     "metadata": {},
     "output_type": "execute_result"
    }
   ],
   "source": [
    "# 3. 국어점수가 80점이상인 값을 구하시요\n",
    "sr[sr >=80]"
   ]
  },
  {
   "cell_type": "code",
   "execution_count": 17,
   "id": "8d49bec0-374a-489e-a3b9-150a8ce8c3da",
   "metadata": {},
   "outputs": [
    {
     "data": {
      "text/plain": [
       "임꺽정    55\n",
       "정난정    60\n",
       "이이     76\n",
       "이황     80\n",
       "정도전    76\n",
       "Name: 국어점수, dtype: int64"
      ]
     },
     "execution_count": 17,
     "metadata": {},
     "output_type": "execute_result"
    }
   ],
   "source": [
    "# 4. 국어 점수가 50점이상 80점이하인 값을 구하시요\n",
    "sr[(sr >=50) & (sr <=80)]"
   ]
  },
  {
   "cell_type": "code",
   "execution_count": 32,
   "id": "f0181b4f-4cd8-45dd-9582-99e58490d1d6",
   "metadata": {},
   "outputs": [
    {
     "data": {
      "text/plain": [
       "김철수1    88\n",
       "김철수2    30\n",
       "김철수3    25\n",
       "Name: 국어점수, dtype: int64"
      ]
     },
     "execution_count": 32,
     "metadata": {},
     "output_type": "execute_result"
    }
   ],
   "source": [
    "# 5. 이름이 김으로 시작하는 데이터를 구하시요\n",
    "sr[sr.index.str.contains('^김')]"
   ]
  },
  {
   "cell_type": "code",
   "execution_count": null,
   "id": "191b52c3-91fe-43bd-890f-225f7c7e6a73",
   "metadata": {},
   "outputs": [],
   "source": [
    "# 6. 국어점수의 평균을 구하시요\n",
    "# 7. 국어점수의 총합을 구하시요\n",
    "# 8. 국어점수의 표준편차를 구하시요\n",
    "# 9. 국어점수가 40점이하인 데이터를 삭제하시요\n",
    "# 10. 국어점수가 50점이상인 데이터에 가산점 10%를 \n",
    "# 미만인경우는 20%를 부여하시요"
   ]
  },
  {
   "cell_type": "code",
   "execution_count": 33,
   "id": "90dc4681-83ec-4b4f-b6e3-ee044a352505",
   "metadata": {},
   "outputs": [
    {
     "data": {
      "text/plain": [
       "67.0"
      ]
     },
     "execution_count": 33,
     "metadata": {},
     "output_type": "execute_result"
    }
   ],
   "source": [
    "# 6. 국어점수의 평균을 구하시요\n",
    "sr.mean()"
   ]
  },
  {
   "cell_type": "code",
   "execution_count": 34,
   "id": "1d605d70-4a87-448c-b980-fe7c2a36f295",
   "metadata": {},
   "outputs": [
    {
     "data": {
      "text/plain": [
       "670"
      ]
     },
     "execution_count": 34,
     "metadata": {},
     "output_type": "execute_result"
    }
   ],
   "source": [
    "# 7. 국어점수의 총합을 구하시요\n",
    "sr.sum()"
   ]
  },
  {
   "cell_type": "code",
   "execution_count": 36,
   "id": "18660121-f3f7-4381-b110-42d69af5b6f9",
   "metadata": {},
   "outputs": [
    {
     "data": {
      "text/plain": [
       "23.935097428021656"
      ]
     },
     "execution_count": 36,
     "metadata": {},
     "output_type": "execute_result"
    }
   ],
   "source": [
    "# 8. 국어점수의 표준편차를 구하시요\n",
    "sr.std()"
   ]
  },
  {
   "cell_type": "code",
   "execution_count": 49,
   "id": "c3fc37db-b2ef-460b-84f8-6840dd89207c",
   "metadata": {},
   "outputs": [
    {
     "data": {
      "text/plain": [
       "홍길동     90\n",
       "이순신     90\n",
       "임꺽정     55\n",
       "정난정     60\n",
       "이이      76\n",
       "이황      80\n",
       "정도전     76\n",
       "김철수1    88\n",
       "Name: 국어점수, dtype: int64"
      ]
     },
     "execution_count": 49,
     "metadata": {},
     "output_type": "execute_result"
    }
   ],
   "source": [
    "# 9. 국어점수가 40점이하인 데이터를 삭제하시요\n",
    "# sr[sr<40]\n",
    "sr.drop(sr[sr<40].index)"
   ]
  },
  {
   "cell_type": "code",
   "execution_count": 51,
   "id": "3b71fa14-fb50-4e7d-93f0-becd377ccdc9",
   "metadata": {},
   "outputs": [
    {
     "data": {
      "text/plain": [
       "홍길동     99.0\n",
       "이순신     99.0\n",
       "임꺽정     60.5\n",
       "정난정     66.0\n",
       "이이      83.6\n",
       "이황      88.0\n",
       "정도전     83.6\n",
       "김철수1    96.8\n",
       "김철수2    36.0\n",
       "김철수3    30.0\n",
       "Name: 국어점수, dtype: float64"
      ]
     },
     "execution_count": 51,
     "metadata": {},
     "output_type": "execute_result"
    }
   ],
   "source": [
    "# 10. 국어점수가 50점이상인 데이터에 가산점 10%를 \n",
    "# 미만인경우는 20%를 부여하시요\n",
    "sr.apply(lambda v: v*1.1 if v >=50 else v*1.2)"
   ]
  },
  {
   "cell_type": "code",
   "execution_count": null,
   "id": "1ced70a7-f32f-485e-b5e0-ed8a25b893b6",
   "metadata": {},
   "outputs": [],
   "source": [
    "# 11. 국어점수 top 5를 구하시요\n",
    "# 12. 국어점수가 50점이상인 데이터의 바차트를 그리시요\n",
    "# 13. 국어점수의 범위(0~50,50~70,70~100)별 돗수를 구하시요 \n",
    "# ( 범위, 0~50,50~70,70~100)\n",
    "# 14. 아래처럼 출력하시요(70점이상 합격 미만 불합격)\n",
    "# ========================\n",
    "# 이름     국어   합격여부\n",
    "# =========================\n",
    "# 홍길동   90      합격\n",
    "# 이순신   90      합격\n",
    "# ...."
   ]
  },
  {
   "cell_type": "code",
   "execution_count": 52,
   "id": "dd41e9fc-63e1-4c1d-8a32-639b01d3bea7",
   "metadata": {},
   "outputs": [
    {
     "data": {
      "text/plain": [
       "홍길동     90\n",
       "이순신     90\n",
       "김철수1    88\n",
       "이황      80\n",
       "이이      76\n",
       "Name: 국어점수, dtype: int64"
      ]
     },
     "execution_count": 52,
     "metadata": {},
     "output_type": "execute_result"
    }
   ],
   "source": [
    "# 11. 국어점수 top 5를 구하시요\n",
    "sr.nlargest()"
   ]
  },
  {
   "cell_type": "code",
   "execution_count": 54,
   "id": "93d8b0a4-ca2b-46c9-a7b2-cb9ccc108c2f",
   "metadata": {},
   "outputs": [
    {
     "data": {
      "image/png": "[encoded data removed]",
      "text/plain": [
       "<Figure size 640x480 with 1 Axes>"
      ]
     },
     "metadata": {},
     "output_type": "display_data"
    }
   ],
   "source": [
    "# 12. 국어점수가 50점이상인 데이터의 바차트를 그리시요\n",
    "sr[sr>=50].plot(kind='bar')\n",
    "plt.show()"
   ]
  },
  {
   "cell_type": "code",
   "execution_count": 64,
   "id": "eb47d90c-d4f2-424d-9702-9c460b53cf72",
   "metadata": {},
   "outputs": [
    {
     "data": {
      "text/plain": [
       "국어점수\n",
       "(70, 100]    6\n",
       "(0, 50]      2\n",
       "(50, 70]     2\n",
       "Name: count, dtype: int64"
      ]
     },
     "execution_count": 64,
     "metadata": {},
     "output_type": "execute_result"
    }
   ],
   "source": [
    "# 13. 국어점수의 범위(0~50,50~70,70~100)별 돗수를 구하시요. (범위: 0~50,50~70,70~100)\n",
    "pd.cut(sr,[0,50,70,100]).value_counts()"
   ]
  },
  {
   "cell_type": "code",
   "execution_count": 70,
   "id": "ba219ede-3b50-44cc-9ed6-fd8a9a2f4a27",
   "metadata": {},
   "outputs": [
    {
     "name": "stdout",
     "output_type": "stream",
     "text": [
      "홍길동\t90\t합격\n",
      "이순신\t90\t합격\n",
      "임꺽정\t55\t불합격\n",
      "정난정\t60\t불합격\n",
      "이이\t76\t합격\n",
      "이황\t80\t합격\n",
      "정도전\t76\t합격\n",
      "김철수1\t88\t합격\n",
      "김철수2\t30\t불합격\n",
      "김철수3\t25\t불합격\n"
     ]
    }
   ],
   "source": [
    "# 14. 아래처럼 출력하시요(70점이상 합격 미만 불합격)\n",
    "# ========================\n",
    "# 이름     국어   합격여부\n",
    "# =========================\n",
    "# 홍길동   90      합격\n",
    "# 이순신   90      합격\n",
    "# ....\n",
    "\n",
    "# sr.apply(lambda v: '합격' if v >=70 else '불합격')\n",
    "for i, v in sr.items():\n",
    "    print(i, v, '합격' if v >=70 else '불합격', sep='\\t')\n"
   ]
  }
 ],
 "metadata": {
  "kernelspec": {
   "display_name": "Python [conda env:base] *",
   "language": "python",
   "name": "conda-base-py"
  },
  "language_info": {
   "codemirror_mode": {
    "name": "ipython",
    "version": 3
   },
   "file_extension": ".py",
   "mimetype": "text/x-python",
   "name": "python",
   "nbconvert_exporter": "python",
   "pygments_lexer": "ipython3",
   "version": "3.12.7"
  }
 },
 "nbformat": 4,
 "nbformat_minor": 5
}
