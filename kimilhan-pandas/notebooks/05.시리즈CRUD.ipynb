{
 "cells": [
  {
   "cell_type": "code",
   "execution_count": 2,
   "id": "7599b25f-e807-43e9-8402-f5f7eef0ba73",
   "metadata": {},
   "outputs": [],
   "source": [
    "#생성, 추가, 수정, 삭제, 검색, 정렬"
   ]
  },
  {
   "cell_type": "code",
   "execution_count": 33,
   "id": "5867a560-645f-4a0e-aad7-ea94de732e23",
   "metadata": {},
   "outputs": [
    {
     "data": {
      "text/plain": [
       "a    10\n",
       "b    20\n",
       "c    30\n",
       "d    40\n",
       "e    50\n",
       "Name: kor, dtype: int64"
      ]
     },
     "execution_count": 33,
     "metadata": {},
     "output_type": "execute_result"
    }
   ],
   "source": [
    "import pandas as pd\n",
    "import numpy as np\n",
    "\n",
    "data = [10,20,30,40,50]\n",
    "sr = pd.Series(data, index=['a','b','c','d','e'], name='kor')\n",
    "sr"
   ]
  },
  {
   "cell_type": "code",
   "execution_count": 4,
   "id": "b6fd003d-dd86-45db-a482-b4aba97fe183",
   "metadata": {},
   "outputs": [
    {
     "data": {
      "text/plain": [
       "10"
      ]
     },
     "execution_count": 4,
     "metadata": {},
     "output_type": "execute_result"
    }
   ],
   "source": [
    "sr['a'] #sr['a'], sr.ilic[0], sr.loc['a']"
   ]
  },
  {
   "cell_type": "code",
   "execution_count": 5,
   "id": "f9d5d879-ddb5-4c90-bcfb-6ff73c6bfa52",
   "metadata": {},
   "outputs": [],
   "source": [
    "sr['a'] = 100"
   ]
  },
  {
   "cell_type": "code",
   "execution_count": 6,
   "id": "e2035099-3ffa-4c89-9a62-89504e857330",
   "metadata": {},
   "outputs": [
    {
     "data": {
      "text/plain": [
       "a    100\n",
       "b     20\n",
       "c     30\n",
       "d     40\n",
       "e     50\n",
       "Name: kor, dtype: int64"
      ]
     },
     "execution_count": 6,
     "metadata": {},
     "output_type": "execute_result"
    }
   ],
   "source": [
    "sr"
   ]
  },
  {
   "cell_type": "code",
   "execution_count": 9,
   "id": "0a88fa79-8210-4f33-87a5-12a5ec05fba1",
   "metadata": {},
   "outputs": [],
   "source": [
    "sr[1:4] = [1,2,3] #sr['b':'d'] = [1,2,3]"
   ]
  },
  {
   "cell_type": "code",
   "execution_count": 8,
   "id": "98f4d907-84e3-4639-aae3-43c72b815dbf",
   "metadata": {},
   "outputs": [
    {
     "data": {
      "text/plain": [
       "a    100\n",
       "b      1\n",
       "c      2\n",
       "d      3\n",
       "e     50\n",
       "Name: kor, dtype: int64"
      ]
     },
     "execution_count": 8,
     "metadata": {},
     "output_type": "execute_result"
    }
   ],
   "source": [
    "sr"
   ]
  },
  {
   "cell_type": "code",
   "execution_count": 10,
   "id": "360bc50f-180a-4d2c-b76b-9ec8d57f7b35",
   "metadata": {},
   "outputs": [],
   "source": [
    "sr[1:4] = sr[1:4]+2"
   ]
  },
  {
   "cell_type": "code",
   "execution_count": 11,
   "id": "17429eff-e12f-4ee3-a945-0d952ba538bd",
   "metadata": {},
   "outputs": [
    {
     "data": {
      "text/plain": [
       "a    100\n",
       "b      3\n",
       "c      4\n",
       "d      5\n",
       "e     50\n",
       "Name: kor, dtype: int64"
      ]
     },
     "execution_count": 11,
     "metadata": {},
     "output_type": "execute_result"
    }
   ],
   "source": [
    "sr"
   ]
  },
  {
   "cell_type": "code",
   "execution_count": 14,
   "id": "25303d9f-fe8b-4230-84a6-ac3845524d81",
   "metadata": {},
   "outputs": [],
   "source": [
    "data = [10,20,30,40,50]\n",
    "sr = pd.Series(data, index=['a','b','c','d','e'], name='kor')"
   ]
  },
  {
   "cell_type": "code",
   "execution_count": 15,
   "id": "99a35897-b325-4c18-84ca-b9ee2122fec3",
   "metadata": {},
   "outputs": [],
   "source": [
    "#30이상인 데이터에 5를 더한 값으로 수정하시오\n",
    "sr[sr >= 30] = sr[sr >= 30] + 5"
   ]
  },
  {
   "cell_type": "code",
   "execution_count": 16,
   "id": "2a1dddb6-8bb9-44b3-85b5-8e673bc02df6",
   "metadata": {},
   "outputs": [
    {
     "data": {
      "text/plain": [
       "a    10\n",
       "b    20\n",
       "c    35\n",
       "d    45\n",
       "e    55\n",
       "Name: kor, dtype: int64"
      ]
     },
     "execution_count": 16,
     "metadata": {},
     "output_type": "execute_result"
    }
   ],
   "source": [
    "sr"
   ]
  },
  {
   "cell_type": "code",
   "execution_count": 17,
   "id": "dc38db6e-0c83-4032-9de2-173c4ff2e3de",
   "metadata": {},
   "outputs": [],
   "source": [
    "sr['f'] = 100 #인덱스가 있으면 수정, 없으면 추가"
   ]
  },
  {
   "cell_type": "code",
   "execution_count": 18,
   "id": "21dbd065-b69d-4c20-9d73-bd70fc3d17e7",
   "metadata": {},
   "outputs": [
    {
     "data": {
      "text/plain": [
       "a     10\n",
       "b     20\n",
       "c     35\n",
       "d     45\n",
       "e     55\n",
       "f    100\n",
       "Name: kor, dtype: int64"
      ]
     },
     "execution_count": 18,
     "metadata": {},
     "output_type": "execute_result"
    }
   ],
   "source": [
    "sr"
   ]
  },
  {
   "cell_type": "code",
   "execution_count": 29,
   "id": "7b6ecd03-6701-4b60-9cca-fef0da7c6c0c",
   "metadata": {},
   "outputs": [
    {
     "data": {
      "text/plain": [
       "b    20\n",
       "c    30\n",
       "d    40\n",
       "e    50\n",
       "Name: kor, dtype: int64"
      ]
     },
     "execution_count": 29,
     "metadata": {},
     "output_type": "execute_result"
    }
   ],
   "source": [
    "# sr.drop(인덱스)\n",
    "sr.drop('a')"
   ]
  },
  {
   "cell_type": "code",
   "execution_count": 30,
   "id": "fffab093-3d0d-416c-a935-75568cade71f",
   "metadata": {},
   "outputs": [
    {
     "data": {
      "text/plain": [
       "a    10\n",
       "b    20\n",
       "c    30\n",
       "d    40\n",
       "e    50\n",
       "Name: kor, dtype: int64"
      ]
     },
     "execution_count": 30,
     "metadata": {},
     "output_type": "execute_result"
    }
   ],
   "source": [
    "sr #sr은 참조변수(객체)로 변하지 않음. drop으로 'a'가 삭제된 새로운 시리즈를 메모리에 메모리에 올리고 참조 변수가 없기 때문에 해당 메모리는 삭제된다."
   ]
  },
  {
   "cell_type": "code",
   "execution_count": 31,
   "id": "52eb6632-932e-47e5-aa01-dd09fea803c9",
   "metadata": {},
   "outputs": [],
   "source": [
    "#참조 변수 재할당\n",
    "sr = sr.drop('a') "
   ]
  },
  {
   "cell_type": "code",
   "execution_count": 32,
   "id": "3097deba-d893-419e-8e3f-3dcad0d85442",
   "metadata": {},
   "outputs": [
    {
     "data": {
      "text/plain": [
       "b    20\n",
       "c    30\n",
       "d    40\n",
       "e    50\n",
       "Name: kor, dtype: int64"
      ]
     },
     "execution_count": 32,
     "metadata": {},
     "output_type": "execute_result"
    }
   ],
   "source": [
    "sr"
   ]
  },
  {
   "cell_type": "code",
   "execution_count": 40,
   "id": "ae21f43b-a203-4e4c-8e67-4cd9b3109f11",
   "metadata": {},
   "outputs": [
    {
     "data": {
      "text/plain": [
       "a    10\n",
       "b    20\n",
       "c    30\n",
       "d    40\n",
       "e    50\n",
       "Name: kor, dtype: int64"
      ]
     },
     "execution_count": 40,
     "metadata": {},
     "output_type": "execute_result"
    }
   ],
   "source": [
    "data = [10,20,30,40,50]\n",
    "sr = pd.Series(data, index=['a','b','c','d','e'], name='kor')\n",
    "sr"
   ]
  },
  {
   "cell_type": "code",
   "execution_count": 41,
   "id": "2835402f-f041-4d66-8867-2074ff10e87a",
   "metadata": {},
   "outputs": [],
   "source": [
    "sr.drop('a', inplace=True)"
   ]
  },
  {
   "cell_type": "code",
   "execution_count": 42,
   "id": "a418df8a-a5c7-4925-97d5-f496f7623de6",
   "metadata": {},
   "outputs": [
    {
     "data": {
      "text/plain": [
       "b    20\n",
       "c    30\n",
       "d    40\n",
       "e    50\n",
       "Name: kor, dtype: int64"
      ]
     },
     "execution_count": 42,
     "metadata": {},
     "output_type": "execute_result"
    }
   ],
   "source": [
    "sr"
   ]
  },
  {
   "cell_type": "code",
   "execution_count": 43,
   "id": "5f8219f5-b039-407d-973f-8bf74d107565",
   "metadata": {},
   "outputs": [
    {
     "data": {
      "text/plain": [
       "c    30\n",
       "e    50\n",
       "Name: kor, dtype: int64"
      ]
     },
     "execution_count": 43,
     "metadata": {},
     "output_type": "execute_result"
    }
   ],
   "source": [
    "sr.drop(['b','d'])"
   ]
  },
  {
   "cell_type": "code",
   "execution_count": 44,
   "id": "d4f80fd4-4f1a-42d5-8204-b217fda2f1b3",
   "metadata": {},
   "outputs": [
    {
     "data": {
      "text/plain": [
       "a    100\n",
       "b     20\n",
       "c     30\n",
       "d     40\n",
       "e     50\n",
       "Name: kor, dtype: int64"
      ]
     },
     "execution_count": 44,
     "metadata": {},
     "output_type": "execute_result"
    }
   ],
   "source": [
    "data = [10,20,30,40,50]\n",
    "sr = pd.Series(data, index=['a','b','c','d','e'], name='kor')\n",
    "sr.iloc[0] = 100\n",
    "sr"
   ]
  },
  {
   "cell_type": "code",
   "execution_count": 45,
   "id": "67bfaaca-4617-451c-a95a-22ca3eb89373",
   "metadata": {},
   "outputs": [
    {
     "data": {
      "text/plain": [
       "b     20\n",
       "c     30\n",
       "d     40\n",
       "e     50\n",
       "a    100\n",
       "Name: kor, dtype: int64"
      ]
     },
     "execution_count": 45,
     "metadata": {},
     "output_type": "execute_result"
    }
   ],
   "source": [
    "sr.sort_values()"
   ]
  },
  {
   "cell_type": "code",
   "execution_count": 47,
   "id": "a1cb50ae-42c3-48ef-a35e-0b7668892b0f",
   "metadata": {},
   "outputs": [
    {
     "data": {
      "text/plain": [
       "a    100\n",
       "e     50\n",
       "d     40\n",
       "c     30\n",
       "b     20\n",
       "Name: kor, dtype: int64"
      ]
     },
     "execution_count": 47,
     "metadata": {},
     "output_type": "execute_result"
    }
   ],
   "source": [
    "sr.sort_values(ascending=False)"
   ]
  },
  {
   "cell_type": "code",
   "execution_count": 48,
   "id": "7709bdbe-6a7d-4b93-b005-8aacff565621",
   "metadata": {},
   "outputs": [
    {
     "data": {
      "text/plain": [
       "e     50\n",
       "d     40\n",
       "c     30\n",
       "b     20\n",
       "a    100\n",
       "Name: kor, dtype: int64"
      ]
     },
     "execution_count": 48,
     "metadata": {},
     "output_type": "execute_result"
    }
   ],
   "source": [
    "sr.sort_index(ascending=False)"
   ]
  },
  {
   "cell_type": "code",
   "execution_count": null,
   "id": "a7556255-961c-466d-b0f1-40b1862420cb",
   "metadata": {},
   "outputs": [],
   "source": []
  }
 ],
 "metadata": {
  "kernelspec": {
   "display_name": "Python [conda env:base] *",
   "language": "python",
   "name": "conda-base-py"
  },
  "language_info": {
   "codemirror_mode": {
    "name": "ipython",
    "version": 3
   },
   "file_extension": ".py",
   "mimetype": "text/x-python",
   "name": "python",
   "nbconvert_exporter": "python",
   "pygments_lexer": "ipython3",
   "version": "3.12.7"
  }
 },
 "nbformat": 4,
 "nbformat_minor": 5
}
