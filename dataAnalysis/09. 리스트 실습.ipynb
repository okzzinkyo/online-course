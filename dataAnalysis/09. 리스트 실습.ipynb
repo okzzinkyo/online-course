{
 "cells": [
  {
   "cell_type": "markdown",
   "id": "578dd18a",
   "metadata": {},
   "source": [
    "# 학생별 총점, 평균 구하기\n",
    "* 다음은 학생 별 [국어,영어,수학]점수가 저장된 리스트이다.\n",
    "<br>\n",
    "score_list = [[96,40,80],[96,86,76],[76,95,83],[89,96,69],[90,76,91]]\n",
    "<br>\n",
    "각 학생의 세 과목의 성적의[총첨,평균]을 구하여 리스트에 담으시오,\n",
    "<br>\n",
    "(평균은 반올림하여 소수점 1자리까지 표현한다.)"
   ]
  },
  {
   "cell_type": "code",
   "execution_count": 1,
   "id": "af71d946",
   "metadata": {},
   "outputs": [],
   "source": [
    "score_list = [[96,40,80],[96,86,76],[76,95,83],[89,96,69],[90,76,91]]\n",
    "stu_scores = []\n"
   ]
  },
  {
   "cell_type": "code",
   "execution_count": 2,
   "id": "bfb5a35f",
   "metadata": {},
   "outputs": [
    {
     "name": "stdout",
     "output_type": "stream",
     "text": [
      "[96, 40, 80]\n",
      "72.0\n",
      "[96, 86, 76]\n",
      "86.0\n",
      "[76, 95, 83]\n",
      "84.66666666666667\n",
      "[89, 96, 69]\n",
      "84.66666666666667\n",
      "[90, 76, 91]\n",
      "85.66666666666667\n",
      "[[216, 72.0], [258, 86.0], [254, 84.7], [254, 84.7], [257, 85.7]]\n"
     ]
    }
   ],
   "source": [
    "for i in score_list :\n",
    "#     print(i)\n",
    "    total = sum(i)\n",
    "    average = total / len(i)\n",
    "#     print(average)\n",
    "    stu_scores.append([total,round(average,1)])\n",
    "print(stu_scores)"
   ]
  },
  {
   "cell_type": "markdown",
   "id": "ff93db2d",
   "metadata": {},
   "source": [
    "# 과목별 평균 구하기\n",
    "* 각 과목의 리스트를 분리하고 과목별 평균을 구한다. 평균은 소수점 1자리까지 출력"
   ]
  },
  {
   "cell_type": "code",
   "execution_count": 3,
   "id": "86bea360",
   "metadata": {},
   "outputs": [
    {
     "name": "stdout",
     "output_type": "stream",
     "text": [
      "[96, 40, 80]\n",
      "[96, 86, 76]\n",
      "[76, 95, 83]\n",
      "[89, 96, 69]\n",
      "[90, 76, 91]\n",
      "kor_list: [96, 96, 76, 89, 90]\n",
      "eng_list: [40, 86, 95, 96, 76]\n",
      "math_list: [80, 76, 83, 69, 91]\n",
      "kor_average: 89.4\n",
      "eng_average: 78.6\n",
      "math_average: 79.8\n"
     ]
    }
   ],
   "source": [
    "score_list = [[96,40,80],[96,86,76],[76,95,83],[89,96,69],[90,76,91]]\n",
    "kor_list=[]\n",
    "eng_list=[]\n",
    "math_list=[]\n",
    "\n",
    "kor_average=0\n",
    "eng_average=0\n",
    "math_average=0\n",
    "\n",
    "#각 과목의 리스트 분리하기\n",
    "for i in score_list :\n",
    "#     print(i)\n",
    "    kor_list.append(i[0])\n",
    "    eng_list.append(i[1])\n",
    "    math_list.append(i[2])\n",
    "    \n",
    "print('kor_list:',kor_list)\n",
    "print('eng_list:',eng_list)\n",
    "print('math_list:',math_list)\n",
    "\n",
    "kor_average=sum(kor_list)/len(kor_list)\n",
    "eng_average=sum(eng_list)/len(eng_list)\n",
    "math_average=sum(math_list)/len(math_list)\n",
    "\n",
    "print('kor_average:',kor_average)\n",
    "print('eng_average:',eng_average)\n",
    "print('math_average:',math_average)\n"
   ]
  },
  {
   "cell_type": "markdown",
   "id": "f95732c0",
   "metadata": {},
   "source": [
    "# 랜덤 항목 추출하기"
   ]
  },
  {
   "cell_type": "code",
   "execution_count": 4,
   "id": "7c7c054a",
   "metadata": {},
   "outputs": [
    {
     "name": "stdout",
     "output_type": "stream",
     "text": [
      "오늘은 뭘먹지?\n"
     ]
    }
   ],
   "source": [
    "menulist=['한식','일식','중식','양식','분식','이탈리아식']\n",
    "print('오늘은 뭘먹지?')"
   ]
  },
  {
   "cell_type": "code",
   "execution_count": 5,
   "id": "3a675b5d",
   "metadata": {},
   "outputs": [
    {
     "data": {
      "text/plain": [
       "'중식'"
      ]
     },
     "execution_count": 5,
     "metadata": {},
     "output_type": "execute_result"
    }
   ],
   "source": [
    "import random\n",
    "random.choice(menulist)"
   ]
  },
  {
   "cell_type": "markdown",
   "id": "615020a7",
   "metadata": {},
   "source": [
    "* 메뉴를 입력받아 랜덤으로 메뉴를 정하는 프로그램을 작성합니다.<br>\n",
    "공백('')을 입력할 때까지 메뉴을 입력받는다."
   ]
  },
  {
   "cell_type": "code",
   "execution_count": 6,
   "id": "92c9e04a",
   "metadata": {},
   "outputs": [
    {
     "name": "stdout",
     "output_type": "stream",
     "text": [
      "메뉴:중식\n",
      "메뉴:한식\n",
      "메뉴:이탈리아식\n",
      "메뉴:양식\n",
      "메뉴:분식\n",
      "메뉴:일식\n",
      "메뉴:\n",
      "오늘의 메뉴는: 분식\n"
     ]
    }
   ],
   "source": [
    "menulist = []\n",
    "while True :\n",
    "    menu = input('메뉴:')\n",
    "    if menu == '':\n",
    "        break\n",
    "    menulist.append(menu)\n",
    "print('오늘의 메뉴는:', random.choice(menulist))"
   ]
  },
  {
   "cell_type": "code",
   "execution_count": null,
   "id": "26999631",
   "metadata": {},
   "outputs": [],
   "source": []
  }
 ],
 "metadata": {
  "kernelspec": {
   "display_name": "Python 3 (ipykernel)",
   "language": "python",
   "name": "python3"
  },
  "language_info": {
   "codemirror_mode": {
    "name": "ipython",
    "version": 3
   },
   "file_extension": ".py",
   "mimetype": "text/x-python",
   "name": "python",
   "nbconvert_exporter": "python",
   "pygments_lexer": "ipython3",
   "version": "3.11.5"
  },
  "toc": {
   "base_numbering": 1,
   "nav_menu": {},
   "number_sections": true,
   "sideBar": true,
   "skip_h1_title": false,
   "title_cell": "Table of Contents",
   "title_sidebar": "Contents",
   "toc_cell": false,
   "toc_position": {},
   "toc_section_display": true,
   "toc_window_display": false
  }
 },
 "nbformat": 4,
 "nbformat_minor": 5
}
