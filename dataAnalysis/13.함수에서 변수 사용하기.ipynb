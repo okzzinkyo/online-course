{
 "cells": [
  {
   "cell_type": "code",
   "execution_count": 1,
   "id": "bd2f8024",
   "metadata": {},
   "outputs": [
    {
     "name": "stdout",
     "output_type": "stream",
     "text": [
      "hello\n"
     ]
    }
   ],
   "source": [
    "# 전역변수\n",
    "# 함수 밖에서 생성된 변수\n",
    "# 함수 내에서도 사용할 수 있다.\n",
    "\n",
    "say1 ='hello'\n",
    "\n",
    "def sayhallo():\n",
    "    print(say1)\n",
    "    \n",
    "sayhallo()"
   ]
  },
  {
   "cell_type": "code",
   "execution_count": 4,
   "id": "f842250e",
   "metadata": {},
   "outputs": [
    {
     "ename": "NameError",
     "evalue": "name 'say2' is not defined",
     "output_type": "error",
     "traceback": [
      "\u001b[1;31m---------------------------------------------------------------------------\u001b[0m",
      "\u001b[1;31mNameError\u001b[0m                                 Traceback (most recent call last)",
      "Cell \u001b[1;32mIn[4], line 9\u001b[0m\n\u001b[0;32m      6\u001b[0m     say2 \u001b[38;5;241m=\u001b[39m \u001b[38;5;124m'\u001b[39m\u001b[38;5;124mgoodbye\u001b[39m\u001b[38;5;124m'\u001b[39m\n\u001b[0;32m      7\u001b[0m     \u001b[38;5;28mprint\u001b[39m(say2)\n\u001b[1;32m----> 9\u001b[0m saygoodbye(say2)\n",
      "\u001b[1;31mNameError\u001b[0m: name 'say2' is not defined"
     ]
    }
   ],
   "source": [
    "# 지역변수\n",
    "# 함수 내에서 생성된 변수\n",
    "# 함수 내에서만 사용할 수 있다.\n",
    "\n",
    "def saygoodbye():\n",
    "    say2 = 'goodbye'\n",
    "    print(say2)\n",
    "\n",
    "saygoodbye(say2)"
   ]
  },
  {
   "cell_type": "markdown",
   "id": "d7306962",
   "metadata": {},
   "source": [
    "* 전역변수를 함수 내에서 변경하기"
   ]
  },
  {
   "cell_type": "code",
   "execution_count": 11,
   "id": "a857e0c4",
   "metadata": {},
   "outputs": [
    {
     "name": "stdout",
     "output_type": "stream",
     "text": [
      "(12, -8)\n",
      "1\n"
     ]
    }
   ],
   "source": [
    "# 전역변수를 함수 내에서 변경하려고 하면 global 키워드를 사용하여 선언해줘야 한다.\n",
    "# global을 사용하지 않으면 동일한 이름의 지역변수가 생성되어 사용된다.\n",
    "n1 = 1\n",
    "n2 = 10\n",
    "def get_plus_minus():\n",
    "    n1 = 2\n",
    "    plus = n1+n2\n",
    "    minus = n1-n2\n",
    "    return plus, minus\n",
    "\n",
    "print(get_plus_minus())\n",
    "print(n1)"
   ]
  },
  {
   "cell_type": "code",
   "execution_count": 13,
   "id": "d7212dc1",
   "metadata": {},
   "outputs": [
    {
     "name": "stdout",
     "output_type": "stream",
     "text": [
      "(12, -8)\n",
      "2\n"
     ]
    }
   ],
   "source": [
    "n1 = 1\n",
    "n2 = 10\n",
    "def get_plus_minus():\n",
    "    global n1\n",
    "    n1 = 2\n",
    "    plus = n1+n2\n",
    "    minus = n1-n2\n",
    "    return plus, minus\n",
    "\n",
    "print(get_plus_minus())\n",
    "print(n1)"
   ]
  },
  {
   "cell_type": "code",
   "execution_count": null,
   "id": "a6685d17",
   "metadata": {},
   "outputs": [],
   "source": []
  }
 ],
 "metadata": {
  "kernelspec": {
   "display_name": "Python 3 (ipykernel)",
   "language": "python",
   "name": "python3"
  },
  "language_info": {
   "codemirror_mode": {
    "name": "ipython",
    "version": 3
   },
   "file_extension": ".py",
   "mimetype": "text/x-python",
   "name": "python",
   "nbconvert_exporter": "python",
   "pygments_lexer": "ipython3",
   "version": "3.11.5"
  },
  "toc": {
   "base_numbering": 1,
   "nav_menu": {},
   "number_sections": true,
   "sideBar": true,
   "skip_h1_title": false,
   "title_cell": "Table of Contents",
   "title_sidebar": "Contents",
   "toc_cell": false,
   "toc_position": {},
   "toc_section_display": true,
   "toc_window_display": false
  }
 },
 "nbformat": 4,
 "nbformat_minor": 5
}
