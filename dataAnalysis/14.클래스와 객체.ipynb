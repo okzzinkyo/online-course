{
 "cells": [
  {
   "cell_type": "markdown",
   "id": "29d54eac",
   "metadata": {},
   "source": [
    "# 자동차 클래스와 객체\n",
    "* 3가지 속성과 3가지 기능이 있는 자동차 객체 생성\n",
    "* 속성 :brand,model,color\n",
    "* 기응 :turn_on,turn_off, drive"
   ]
  },
  {
   "cell_type": "markdown",
   "id": "608939ce",
   "metadata": {},
   "source": [
    "## 자동차클래스 만들기"
   ]
  },
  {
   "cell_type": "code",
   "execution_count": 3,
   "id": "ca0e6677",
   "metadata": {},
   "outputs": [],
   "source": [
    "class Car :\n",
    "    # 생성자 - 클래스 생성 시, 가장 먼저 실행\n",
    "    def __init__(self,b,m,c) :\n",
    "        self.brand = b\n",
    "        self.model = m\n",
    "        self.color = c\n",
    "        \n",
    "        print(self.brand,self.model,self.color,'출고')\n",
    "    def turn_on(self):\n",
    "        print(self.brand,'시동을 겁니다.')\n",
    "    def turn_off(self):\n",
    "        print(self.brand,'시동을 끕니다.')\n",
    "    def drive(self):\n",
    "        print(self.brand,'주행중입니다.')"
   ]
  },
  {
   "cell_type": "markdown",
   "id": "b8620459",
   "metadata": {},
   "source": [
    "## 객체 생성하기\n",
    "* 객체명 = 클래스명(변수1,변수2,...)"
   ]
  },
  {
   "cell_type": "code",
   "execution_count": 5,
   "id": "1dce1d6b",
   "metadata": {},
   "outputs": [
    {
     "name": "stdout",
     "output_type": "stream",
     "text": [
      "현대자동차 소나타 화이트 출고\n",
      "르노삼성 SM7 블랙 출고\n"
     ]
    }
   ],
   "source": [
    "car1 = Car('현대자동차','소나타','화이트')\n",
    "car2 = Car('르노삼성','SM7','블랙')"
   ]
  },
  {
   "cell_type": "markdown",
   "id": "03b9eedd",
   "metadata": {},
   "source": [
    "## 메소드 호출하기\n",
    "* 객체명.메소드명(변수1,변수2,...)"
   ]
  },
  {
   "cell_type": "code",
   "execution_count": 11,
   "id": "e8c3cf61",
   "metadata": {},
   "outputs": [
    {
     "name": "stdout",
     "output_type": "stream",
     "text": [
      "현대자동차 시동을 겁니다.\n",
      "현대자동차 시동을 끕니다.\n",
      "현대자동차 주행중입니다.\n",
      "르노삼성 시동을 겁니다.\n",
      "르노삼성 시동을 끕니다.\n",
      "르노삼성 주행중입니다.\n"
     ]
    }
   ],
   "source": [
    "car1.turn_on()\n",
    "car1.turn_off()\n",
    "car1.drive()\n",
    "\n",
    "car2.turn_on()\n",
    "car2.turn_off()\n",
    "car2.drive()"
   ]
  },
  {
   "cell_type": "markdown",
   "id": "5ae0a932",
   "metadata": {},
   "source": [
    "# 객체의 메소드 목록 조회\n",
    "* dir(객체)"
   ]
  },
  {
   "cell_type": "code",
   "execution_count": 13,
   "id": "b7beaa80",
   "metadata": {},
   "outputs": [
    {
     "data": {
      "text/plain": [
       "['__add__',\n",
       " '__class__',\n",
       " '__class_getitem__',\n",
       " '__contains__',\n",
       " '__delattr__',\n",
       " '__delitem__',\n",
       " '__dir__',\n",
       " '__doc__',\n",
       " '__eq__',\n",
       " '__format__',\n",
       " '__ge__',\n",
       " '__getattribute__',\n",
       " '__getitem__',\n",
       " '__getstate__',\n",
       " '__gt__',\n",
       " '__hash__',\n",
       " '__iadd__',\n",
       " '__imul__',\n",
       " '__init__',\n",
       " '__init_subclass__',\n",
       " '__iter__',\n",
       " '__le__',\n",
       " '__len__',\n",
       " '__lt__',\n",
       " '__mul__',\n",
       " '__ne__',\n",
       " '__new__',\n",
       " '__reduce__',\n",
       " '__reduce_ex__',\n",
       " '__repr__',\n",
       " '__reversed__',\n",
       " '__rmul__',\n",
       " '__setattr__',\n",
       " '__setitem__',\n",
       " '__sizeof__',\n",
       " '__str__',\n",
       " '__subclasshook__',\n",
       " 'append',\n",
       " 'clear',\n",
       " 'copy',\n",
       " 'count',\n",
       " 'extend',\n",
       " 'index',\n",
       " 'insert',\n",
       " 'pop',\n",
       " 'remove',\n",
       " 'reverse',\n",
       " 'sort']"
      ]
     },
     "execution_count": 13,
     "metadata": {},
     "output_type": "execute_result"
    }
   ],
   "source": [
    "dir(list)"
   ]
  },
  {
   "cell_type": "markdown",
   "id": "f0b536da",
   "metadata": {},
   "source": [
    "# 함수, 메소드 사용법\n",
    "* help(함수명)"
   ]
  },
  {
   "cell_type": "code",
   "execution_count": 14,
   "id": "1542bfcd",
   "metadata": {},
   "outputs": [
    {
     "name": "stdout",
     "output_type": "stream",
     "text": [
      "Help on built-in function append:\n",
      "\n",
      "append(object, /) method of builtins.list instance\n",
      "    Append object to the end of the list.\n",
      "\n"
     ]
    }
   ],
   "source": [
    "a = [1,2,3]\n",
    "help(a.append)"
   ]
  },
  {
   "cell_type": "code",
   "execution_count": 15,
   "id": "b2275b56",
   "metadata": {},
   "outputs": [
    {
     "name": "stdout",
     "output_type": "stream",
     "text": [
      "Help on built-in function print in module builtins:\n",
      "\n",
      "print(*args, sep=' ', end='\\n', file=None, flush=False)\n",
      "    Prints the values to a stream, or to sys.stdout by default.\n",
      "    \n",
      "    sep\n",
      "      string inserted between values, default a space.\n",
      "    end\n",
      "      string appended after the last value, default a newline.\n",
      "    file\n",
      "      a file-like object (stream); defaults to the current sys.stdout.\n",
      "    flush\n",
      "      whether to forcibly flush the stream.\n",
      "\n"
     ]
    }
   ],
   "source": [
    "help(print)"
   ]
  },
  {
   "cell_type": "code",
   "execution_count": null,
   "id": "316889b4",
   "metadata": {},
   "outputs": [],
   "source": []
  }
 ],
 "metadata": {
  "kernelspec": {
   "display_name": "Python 3 (ipykernel)",
   "language": "python",
   "name": "python3"
  },
  "language_info": {
   "codemirror_mode": {
    "name": "ipython",
    "version": 3
   },
   "file_extension": ".py",
   "mimetype": "text/x-python",
   "name": "python",
   "nbconvert_exporter": "python",
   "pygments_lexer": "ipython3",
   "version": "3.11.5"
  },
  "toc": {
   "base_numbering": 1,
   "nav_menu": {},
   "number_sections": true,
   "sideBar": true,
   "skip_h1_title": false,
   "title_cell": "Table of Contents",
   "title_sidebar": "Contents",
   "toc_cell": false,
   "toc_position": {},
   "toc_section_display": true,
   "toc_window_display": false
  }
 },
 "nbformat": 4,
 "nbformat_minor": 5
}
