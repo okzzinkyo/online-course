{
 "cells": [
  {
   "cell_type": "code",
   "execution_count": 2,
   "id": "07619bde",
   "metadata": {},
   "outputs": [
    {
     "data": {
      "text/plain": [
       "{'김밥': 2000, '떡볶이': 2500, '어묵': 2000, '튀김': 3000}"
      ]
     },
     "execution_count": 2,
     "metadata": {},
     "output_type": "execute_result"
    }
   ],
   "source": [
    "menu = {'김밥':2000,'떡볶이':2500,'어묵':2000,'튀김':3000}\n",
    "menu"
   ]
  },
  {
   "cell_type": "code",
   "execution_count": 5,
   "id": "ab61a30a",
   "metadata": {},
   "outputs": [
    {
     "data": {
      "text/plain": [
       "{'김밥': 2000, '떡볶이': 2500, '어묵': 2000, '튀김': 3000}"
      ]
     },
     "execution_count": 5,
     "metadata": {},
     "output_type": "execute_result"
    }
   ],
   "source": [
    "menu = {'김밥':2000,\n",
    "        '떡볶이':2500,\n",
    "        '어묵':2000,\n",
    "        '튀김':3000}\n",
    "menu"
   ]
  },
  {
   "cell_type": "markdown",
   "id": "c365cbe9",
   "metadata": {},
   "source": [
    "* dict 사용\n",
    "<br>\n",
    "키에 따옴표(\")를 쓰지 않는다."
   ]
  },
  {
   "cell_type": "code",
   "execution_count": 6,
   "id": "6be1fb1f",
   "metadata": {},
   "outputs": [
    {
     "data": {
      "text/plain": [
       "{'김밥': 2000, '떡볶이': 2500, '어묵': 2000, '튀김': 3000}"
      ]
     },
     "execution_count": 6,
     "metadata": {},
     "output_type": "execute_result"
    }
   ],
   "source": [
    "menu1 = dict(김밥=2000,떡볶이=2500,어묵=2000,튀김=3000)\n",
    "menu1"
   ]
  },
  {
   "cell_type": "markdown",
   "id": "905d32fe",
   "metadata": {},
   "source": [
    "* dict(zip(key리스트,value리스트))"
   ]
  },
  {
   "cell_type": "code",
   "execution_count": 11,
   "id": "e114effb",
   "metadata": {},
   "outputs": [
    {
     "data": {
      "text/plain": [
       "{'김밥': 2000, '떡볶이': 2500, '어묵': 2000, '튀김': 3000}"
      ]
     },
     "execution_count": 11,
     "metadata": {},
     "output_type": "execute_result"
    }
   ],
   "source": [
    "key_list = ['김밥','떡볶이','어묵','튀김']\n",
    "value_list =[2000,2500,2000,3000]\n",
    "menu2 = dict(zip(key_list,value_list))\n",
    "menu2"
   ]
  },
  {
   "cell_type": "markdown",
   "id": "5d916300",
   "metadata": {},
   "source": [
    "* 튜플로 key 값 전달\n",
    "* dict([(key,value)])"
   ]
  },
  {
   "cell_type": "code",
   "execution_count": 14,
   "id": "d3558407",
   "metadata": {},
   "outputs": [
    {
     "data": {
      "text/plain": [
       "{'김밥': 2000, '떡볶이': 2500, '어묵': 2000, '튀김': 3000}"
      ]
     },
     "execution_count": 14,
     "metadata": {},
     "output_type": "execute_result"
    }
   ],
   "source": [
    "menu3 = dict([('김밥',2000),('떡볶이',2500),('어묵',2000),('튀김',3000)])\n",
    "menu3"
   ]
  },
  {
   "cell_type": "markdown",
   "id": "4c7ff3be",
   "metadata": {},
   "source": [
    "* 딕셔너리 형태로 key 값 전달\n",
    "* dict({key:value})\n"
   ]
  },
  {
   "cell_type": "code",
   "execution_count": 13,
   "id": "d4ea6042",
   "metadata": {},
   "outputs": [
    {
     "data": {
      "text/plain": [
       "{'김밥': 2000, '떡볶이': 2500, '어묵': 2000, '튀김': 3000}"
      ]
     },
     "execution_count": 13,
     "metadata": {},
     "output_type": "execute_result"
    }
   ],
   "source": [
    "menu4 = dict({'김밥':2000,'떡볶이':2500,'어묵':2000,'튀김':3000})\n",
    "menu4"
   ]
  },
  {
   "cell_type": "markdown",
   "id": "60630893",
   "metadata": {},
   "source": [
    "* 딕셔너리의 key에는 숫자,문자열,부울형,튜플을 사용할 수 있다. <br>\n",
    "key = hashable = 변하지 않는다\n",
    "* 중복 사용 불가"
   ]
  },
  {
   "cell_type": "markdown",
   "id": "dc357236",
   "metadata": {},
   "source": [
    "*  key 값으로 딕셔너리 값 추출"
   ]
  },
  {
   "cell_type": "code",
   "execution_count": 15,
   "id": "6613552b",
   "metadata": {},
   "outputs": [
    {
     "data": {
      "text/plain": [
       "2000"
      ]
     },
     "execution_count": 15,
     "metadata": {},
     "output_type": "execute_result"
    }
   ],
   "source": [
    "menu4['김밥']"
   ]
  },
  {
   "cell_type": "markdown",
   "id": "ecda5c0e",
   "metadata": {},
   "source": [
    "* key 존재여부 확인"
   ]
  },
  {
   "cell_type": "code",
   "execution_count": 16,
   "id": "871d7451",
   "metadata": {},
   "outputs": [
    {
     "data": {
      "text/plain": [
       "False"
      ]
     },
     "execution_count": 16,
     "metadata": {},
     "output_type": "execute_result"
    }
   ],
   "source": [
    "'참치김밥' in menu4"
   ]
  },
  {
   "cell_type": "markdown",
   "id": "199d900d",
   "metadata": {},
   "source": [
    "* 딕셔너리명.get(key,msg)\n",
    "<br> 존재하지 않는 key로 추출 시도해도 오류가 발생하지 않는다.\n",
    "<br> 존재하지 않는 key로 추출 시도할 경우 msg를 설정할 수 있다."
   ]
  },
  {
   "cell_type": "code",
   "execution_count": 18,
   "id": "cbc078fd",
   "metadata": {},
   "outputs": [
    {
     "name": "stdout",
     "output_type": "stream",
     "text": [
      "None\n",
      "존재하지 않는 메뉴입니다.\n"
     ]
    }
   ],
   "source": [
    "print(menu4.get('참치김밥'))\n",
    "print(menu4.get('참치김밥','존재하지 않는 메뉴입니다.'))"
   ]
  },
  {
   "cell_type": "code",
   "execution_count": null,
   "id": "22d8acf2",
   "metadata": {},
   "outputs": [],
   "source": []
  }
 ],
 "metadata": {
  "kernelspec": {
   "display_name": "Python 3 (ipykernel)",
   "language": "python",
   "name": "python3"
  },
  "language_info": {
   "codemirror_mode": {
    "name": "ipython",
    "version": 3
   },
   "file_extension": ".py",
   "mimetype": "text/x-python",
   "name": "python",
   "nbconvert_exporter": "python",
   "pygments_lexer": "ipython3",
   "version": "3.11.5"
  },
  "toc": {
   "base_numbering": 1,
   "nav_menu": {},
   "number_sections": true,
   "sideBar": true,
   "skip_h1_title": false,
   "title_cell": "Table of Contents",
   "title_sidebar": "Contents",
   "toc_cell": false,
   "toc_position": {},
   "toc_section_display": true,
   "toc_window_display": false
  }
 },
 "nbformat": 4,
 "nbformat_minor": 5
}
