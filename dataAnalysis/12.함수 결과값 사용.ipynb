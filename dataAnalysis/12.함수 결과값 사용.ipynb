{
 "cells": [
  {
   "cell_type": "code",
   "execution_count": 2,
   "id": "91342f01",
   "metadata": {},
   "outputs": [
    {
     "name": "stdout",
     "output_type": "stream",
     "text": [
      "3\n",
      "plus: 3\n"
     ]
    }
   ],
   "source": [
    "# 두 수를 매개변수로 받아 더한 후 결과를 리턴하는 함수 만들기\n",
    "def get_plus(n1,n2) :\n",
    "    return n1+n2\n",
    "\n",
    "print(get_plus(1,2))\n",
    "\n",
    "plus = get_plus(1,2)\n",
    "print('plus:', plus)"
   ]
  },
  {
   "cell_type": "code",
   "execution_count": 5,
   "id": "def3583f",
   "metadata": {},
   "outputs": [
    {
     "name": "stdout",
     "output_type": "stream",
     "text": [
      "(3, -1)\n",
      "3 -1\n"
     ]
    }
   ],
   "source": [
    "# 두 수를 매개변수로 받아 더한값과 뺀 값을 리턴하는 함수 만들기\n",
    "# 여러개의 값을 하나의 튜플로 묶어서 반환\n",
    "\n",
    "def get_plus_minus(n1,n2) :\n",
    "    return n1+n2 , n1-n2\n",
    "\n",
    "result = get_plus_minus(1,2)\n",
    "print(result)\n",
    "\n",
    "plus,minus = get_plus_minus(1,2)\n",
    "print(plus,minus)"
   ]
  },
  {
   "cell_type": "code",
   "execution_count": 6,
   "id": "c6ef2533",
   "metadata": {},
   "outputs": [
    {
     "data": {
      "text/plain": [
       "'홀수'"
      ]
     },
     "execution_count": 6,
     "metadata": {},
     "output_type": "execute_result"
    }
   ],
   "source": [
    "# 정수를 입력받아 0, 짝수, 홀수 여부를 리턴하는 함수 만들기\n",
    "def is_odd_even(n):\n",
    "    if n == 0 :\n",
    "        result = 0\n",
    "    elif n%2 == 0 :\n",
    "        result = '짝수'\n",
    "    else :\n",
    "        result = '홀수'\n",
    "        \n",
    "    return result\n",
    "\n",
    "is_odd_even(21)"
   ]
  },
  {
   "cell_type": "code",
   "execution_count": 7,
   "id": "0099b960",
   "metadata": {},
   "outputs": [
    {
     "data": {
      "text/plain": [
       "'홀수'"
      ]
     },
     "execution_count": 7,
     "metadata": {},
     "output_type": "execute_result"
    }
   ],
   "source": [
    "def is_odd_even(n):\n",
    "    if n == 0 :\n",
    "        return 0\n",
    "    elif n%2 == 0 :\n",
    "        return '짝수'\n",
    "    else :\n",
    "        return '홀수'\n",
    "        \n",
    "is_odd_even(21)"
   ]
  },
  {
   "cell_type": "markdown",
   "id": "111dba3c",
   "metadata": {},
   "source": [
    "### 연습문제\n",
    "* 소수 여부 판단하기 매개변수로 전달받은 수가 소수인지 아닌지 판별하는 함수를 작성하고 호출하세요.\n",
    "* 소수란: 1과 자기 자신으로만 나누어 떨어지는 1보다 큰 양의 정수"
   ]
  },
  {
   "cell_type": "code",
   "execution_count": 9,
   "id": "598e9715",
   "metadata": {},
   "outputs": [
    {
     "data": {
      "text/plain": [
       "False"
      ]
     },
     "execution_count": 9,
     "metadata": {},
     "output_type": "execute_result"
    }
   ],
   "source": [
    "def is_prime(n):\n",
    "    if n<=1 :\n",
    "        return False\n",
    "    \n",
    "    for i in range(2,n):\n",
    "        if n % i == 0:\n",
    "            return False\n",
    "    return True\n",
    "\n",
    "is_prime(15)"
   ]
  },
  {
   "cell_type": "code",
   "execution_count": null,
   "id": "c6a7ed42",
   "metadata": {},
   "outputs": [],
   "source": []
  }
 ],
 "metadata": {
  "kernelspec": {
   "display_name": "Python 3 (ipykernel)",
   "language": "python",
   "name": "python3"
  },
  "language_info": {
   "codemirror_mode": {
    "name": "ipython",
    "version": 3
   },
   "file_extension": ".py",
   "mimetype": "text/x-python",
   "name": "python",
   "nbconvert_exporter": "python",
   "pygments_lexer": "ipython3",
   "version": "3.11.5"
  },
  "toc": {
   "base_numbering": 1,
   "nav_menu": {},
   "number_sections": true,
   "sideBar": true,
   "skip_h1_title": false,
   "title_cell": "Table of Contents",
   "title_sidebar": "Contents",
   "toc_cell": false,
   "toc_position": {},
   "toc_section_display": true,
   "toc_window_display": false
  }
 },
 "nbformat": 4,
 "nbformat_minor": 5
}
