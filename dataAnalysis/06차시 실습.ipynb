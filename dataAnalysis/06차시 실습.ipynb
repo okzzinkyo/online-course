{
 "cells": [
  {
   "cell_type": "markdown",
   "id": "9c4f4f91",
   "metadata": {},
   "source": [
    "* while 반복문을 이용하여 0부터 100사이의 짝수의 합계와 홀수의 합계를 각각 구하여 출력하는 프로그램을 작성하시오.\n",
    "- 입력 형식 : 없음\n",
    "- 출력 형식 : 1부터 100까지 짝수합 : 2550, 홀수합 : 2500"
   ]
  },
  {
   "cell_type": "code",
   "execution_count": 7,
   "id": "f2265594",
   "metadata": {},
   "outputs": [
    {
     "name": "stdout",
     "output_type": "stream",
     "text": [
      "1부터 100까지 짝수의합:$2550, 홀수합: $2500\n"
     ]
    }
   ],
   "source": [
    "number = 0\n",
    "sumEven = 0\n",
    "sumOdd = 0\n",
    "\n",
    "while number <= 100 :\n",
    "    if number%2 == 0: \n",
    "        sumEven+=number\n",
    "    else :\n",
    "        sumOdd+=number\n",
    "        \n",
    "    number += 1\n",
    "\n",
    "print(f'1부터 100까지 짝수의합:${sumEven}, 홀수합: ${sumOdd}')"
   ]
  },
  {
   "cell_type": "code",
   "execution_count": null,
   "id": "db117701",
   "metadata": {},
   "outputs": [],
   "source": []
  }
 ],
 "metadata": {
  "kernelspec": {
   "display_name": "Python 3 (ipykernel)",
   "language": "python",
   "name": "python3"
  },
  "language_info": {
   "codemirror_mode": {
    "name": "ipython",
    "version": 3
   },
   "file_extension": ".py",
   "mimetype": "text/x-python",
   "name": "python",
   "nbconvert_exporter": "python",
   "pygments_lexer": "ipython3",
   "version": "3.11.5"
  },
  "toc": {
   "base_numbering": 1,
   "nav_menu": {},
   "number_sections": true,
   "sideBar": true,
   "skip_h1_title": false,
   "title_cell": "Table of Contents",
   "title_sidebar": "Contents",
   "toc_cell": false,
   "toc_position": {},
   "toc_section_display": true,
   "toc_window_display": false
  }
 },
 "nbformat": 4,
 "nbformat_minor": 5
}
