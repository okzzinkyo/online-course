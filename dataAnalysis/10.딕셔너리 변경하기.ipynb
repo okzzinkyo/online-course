{
 "cells": [
  {
   "cell_type": "markdown",
   "id": "377213a2",
   "metadata": {},
   "source": [
    "* 딕셔너리의 항목 추가/ 수정\n",
    "<br> - dict명[key]=값\n",
    "<br> 키가 존재하지 않으면 추가, 존재하면 수정\n",
    "<br> - setdefault(key,value)\n",
    "<br>이미 들어있는 키의 값은 수정할 수 없다."
   ]
  },
  {
   "cell_type": "code",
   "execution_count": 4,
   "id": "6c861e22",
   "metadata": {},
   "outputs": [
    {
     "name": "stdout",
     "output_type": "stream",
     "text": [
      "{'kor': 100, 'eng': 90, 'math': 85}\n",
      "{'kor': 100, 'eng': 90, 'math': 85, 'music': 95}\n"
     ]
    }
   ],
   "source": [
    "score = {'kor':100,'eng':90,'math':80}\n",
    "\n",
    "#math -> 85\n",
    "score['math'] = 85\n",
    "print(score)\n",
    "\n",
    "#music 95점 추가\n",
    "score['music'] = 95\n",
    "print(score)"
   ]
  },
  {
   "cell_type": "code",
   "execution_count": 5,
   "id": "d56962db",
   "metadata": {},
   "outputs": [
    {
     "name": "stdout",
     "output_type": "stream",
     "text": [
      "{'kor': 100, 'eng': 90, 'math': 80, 'music': None}\n"
     ]
    }
   ],
   "source": [
    "score = {'kor':100,'eng':90,'math':80}\n",
    "\n",
    "#music 점수 넣기 (key만 넣고 value를 생랼하면?\n",
    "score.setdefault('music')\n",
    "print(score)"
   ]
  },
  {
   "cell_type": "code",
   "execution_count": 6,
   "id": "561307c7",
   "metadata": {},
   "outputs": [
    {
     "name": "stdout",
     "output_type": "stream",
     "text": [
      "{'kor': 100, 'eng': 90, 'math': 80, 'music': 90}\n"
     ]
    }
   ],
   "source": [
    "score = {'kor':100,'eng':90,'math':80}\n",
    "score.setdefault('music',90)\n",
    "print(score)"
   ]
  },
  {
   "cell_type": "code",
   "execution_count": 8,
   "id": "469241ad",
   "metadata": {},
   "outputs": [
    {
     "name": "stdout",
     "output_type": "stream",
     "text": [
      "{'kor': 100, 'eng': 90, 'math': 80, 'music': 90}\n"
     ]
    }
   ],
   "source": [
    "# music 85점으로 수정  -> 수정안됨\n",
    "score.setdefault('music',85)\n",
    "print(score)"
   ]
  },
  {
   "cell_type": "markdown",
   "id": "24204597",
   "metadata": {},
   "source": [
    "* 딕셔너리의 여러 항목 추가\n",
    "<br> dict명.update(키=값)\n",
    "<br>키가 존재하면 수정, 존재하지 않으면 추가"
   ]
  },
  {
   "cell_type": "code",
   "execution_count": 14,
   "id": "fcc39496",
   "metadata": {},
   "outputs": [
    {
     "name": "stdout",
     "output_type": "stream",
     "text": [
      "{'kor': 100, 'eng': 90, 'math': 90, 'music': 90}\n"
     ]
    }
   ],
   "source": [
    "score = {'kor':100,'eng':90,'math':80}\n",
    "\n",
    "#math:90, music:90\n",
    "score.update(math=90, music=90)\n",
    "print(score)"
   ]
  },
  {
   "cell_type": "markdown",
   "id": "fef0da88",
   "metadata": {},
   "source": [
    "* dict명.update(zip([키 리스트],[값 리스트]))"
   ]
  },
  {
   "cell_type": "code",
   "execution_count": 13,
   "id": "d8168b57",
   "metadata": {},
   "outputs": [
    {
     "name": "stdout",
     "output_type": "stream",
     "text": [
      "{'kor': 100, 'eng': 90, 'math': 90, 'music': 90}\n"
     ]
    }
   ],
   "source": [
    "score = {'kor':100,'eng':90,'math':80}\n",
    "\n",
    "#math:90, music:90\n",
    "score.update(zip(['math', 'music'],[90,90]))\n",
    "print(score)"
   ]
  },
  {
   "cell_type": "markdown",
   "id": "a68d0688",
   "metadata": {},
   "source": [
    "* dict명.update([(키,값)])"
   ]
  },
  {
   "cell_type": "code",
   "execution_count": 15,
   "id": "479c9abb",
   "metadata": {},
   "outputs": [
    {
     "name": "stdout",
     "output_type": "stream",
     "text": [
      "{'kor': 100, 'eng': 90, 'math': 90, 'music': 90}\n"
     ]
    }
   ],
   "source": [
    "score = {'kor':100,'eng':90,'math':80}\n",
    "\n",
    "#math:90, music:90\n",
    "score.update([('math',90),('music',90)])\n",
    "print(score)"
   ]
  },
  {
   "cell_type": "markdown",
   "id": "31b1aeee",
   "metadata": {},
   "source": [
    "* dict명.update({키,값})"
   ]
  },
  {
   "cell_type": "code",
   "execution_count": 16,
   "id": "c34e1a73",
   "metadata": {},
   "outputs": [
    {
     "name": "stdout",
     "output_type": "stream",
     "text": [
      "{'kor': 100, 'eng': 90, 'math': 90, 'music': 90}\n"
     ]
    }
   ],
   "source": [
    "score = {'kor':100,'eng':90,'math':80}\n",
    "\n",
    "#math:90, music:90\n",
    "score.update({'math':90,'music':90})\n",
    "print(score)"
   ]
  },
  {
   "cell_type": "markdown",
   "id": "91f8b8ec",
   "metadata": {},
   "source": [
    "* del dict명[키] - 해당 key 삭제\n",
    "* dict명.clear() - 모든 항목 삭제\n",
    "* dict명.pop(키,기본값)"
   ]
  },
  {
   "cell_type": "code",
   "execution_count": 17,
   "id": "e17dd146",
   "metadata": {},
   "outputs": [
    {
     "name": "stdout",
     "output_type": "stream",
     "text": [
      "{'eng': 90, 'math': 80}\n"
     ]
    }
   ],
   "source": [
    "scores = {'kor':100,'eng':90,'math':80}\n",
    "\n",
    "del scores['kor']\n",
    "print(scores)"
   ]
  },
  {
   "cell_type": "code",
   "execution_count": 26,
   "id": "78c40937",
   "metadata": {},
   "outputs": [
    {
     "name": "stdout",
     "output_type": "stream",
     "text": [
      "100\n",
      "{'eng': 90, 'math': 80}\n"
     ]
    }
   ],
   "source": [
    "scores = {'kor':100,'eng':90,'math':80}\n",
    "\n",
    "kor = scores.pop('kor')\n",
    "print(kor)\n",
    "print(scores)"
   ]
  },
  {
   "cell_type": "code",
   "execution_count": 28,
   "id": "d1c251be",
   "metadata": {},
   "outputs": [
    {
     "name": "stdout",
     "output_type": "stream",
     "text": [
      "x\n",
      "{'kor': 100, 'eng': 90, 'math': 80}\n"
     ]
    }
   ],
   "source": [
    "# 키가 존재하지 않을 경우 pop 함수 사용\n",
    "\n",
    "scores = {'kor':100,'eng':90,'math':80}\n",
    "\n",
    "music = scores.pop('music','x')\n",
    "print(music)\n",
    "print(scores)"
   ]
  },
  {
   "cell_type": "code",
   "execution_count": 27,
   "id": "6280b7b8",
   "metadata": {},
   "outputs": [
    {
     "name": "stdout",
     "output_type": "stream",
     "text": [
      "{}\n"
     ]
    }
   ],
   "source": [
    "scores = {'kor':100,'eng':90,'math':80}\n",
    "\n",
    "scores.clear()\n",
    "print(scores)"
   ]
  },
  {
   "cell_type": "code",
   "execution_count": null,
   "id": "6b1f7147",
   "metadata": {},
   "outputs": [],
   "source": []
  }
 ],
 "metadata": {
  "kernelspec": {
   "display_name": "Python 3 (ipykernel)",
   "language": "python",
   "name": "python3"
  },
  "language_info": {
   "codemirror_mode": {
    "name": "ipython",
    "version": 3
   },
   "file_extension": ".py",
   "mimetype": "text/x-python",
   "name": "python",
   "nbconvert_exporter": "python",
   "pygments_lexer": "ipython3",
   "version": "3.11.5"
  },
  "toc": {
   "base_numbering": 1,
   "nav_menu": {},
   "number_sections": true,
   "sideBar": true,
   "skip_h1_title": false,
   "title_cell": "Table of Contents",
   "title_sidebar": "Contents",
   "toc_cell": false,
   "toc_position": {},
   "toc_section_display": true,
   "toc_window_display": false
  }
 },
 "nbformat": 4,
 "nbformat_minor": 5
}
