{
 "cells": [
  {
   "cell_type": "markdown",
   "id": "d98cab76",
   "metadata": {},
   "source": [
    "# 모듈 사용하기\n",
    "* import 모듈명"
   ]
  },
  {
   "cell_type": "code",
   "execution_count": 1,
   "id": "451a2fc1",
   "metadata": {},
   "outputs": [
    {
     "name": "stdout",
     "output_type": "stream",
     "text": [
      "3\n",
      "-1\n",
      "2\n",
      "0.5\n"
     ]
    }
   ],
   "source": [
    "import myCalc\n",
    "print(myCalc.get_plus(1,2))\n",
    "print(myCalc.get_minus(1,2))\n",
    "print(myCalc.get_multiply(1,2))\n",
    "print(myCalc.get_division(1,2))"
   ]
  },
  {
   "cell_type": "markdown",
   "id": "be6a0d1a",
   "metadata": {},
   "source": [
    "# 모듈 별칭\n",
    "* import 모듈명 as 별칭"
   ]
  },
  {
   "cell_type": "code",
   "execution_count": 2,
   "id": "573ad90e",
   "metadata": {},
   "outputs": [
    {
     "name": "stdout",
     "output_type": "stream",
     "text": [
      "3\n",
      "-1\n",
      "2\n",
      "0.5\n"
     ]
    }
   ],
   "source": [
    "import myCalc as calc\n",
    "print(calc.get_plus(1,2))\n",
    "print(calc.get_minus(1,2))\n",
    "print(calc.get_multiply(1,2))\n",
    "print(calc.get_division(1,2))"
   ]
  },
  {
   "cell_type": "markdown",
   "id": "938ba951",
   "metadata": {},
   "source": [
    "# 모듈 이름 붙이지 않고 함수 사용\n",
    "* form 모듈명 import 함수명1,변수명1,클래스명1"
   ]
  },
  {
   "cell_type": "code",
   "execution_count": 5,
   "id": "86e71d93",
   "metadata": {},
   "outputs": [
    {
     "name": "stdout",
     "output_type": "stream",
     "text": [
      "3\n",
      "-1\n"
     ]
    },
    {
     "ename": "NameError",
     "evalue": "name 'get_multiply' is not defined",
     "output_type": "error",
     "traceback": [
      "\u001b[1;31m---------------------------------------------------------------------------\u001b[0m",
      "\u001b[1;31mNameError\u001b[0m                                 Traceback (most recent call last)",
      "Cell \u001b[1;32mIn[5], line 4\u001b[0m\n\u001b[0;32m      2\u001b[0m \u001b[38;5;28mprint\u001b[39m(get_plus(\u001b[38;5;241m1\u001b[39m,\u001b[38;5;241m2\u001b[39m))\n\u001b[0;32m      3\u001b[0m \u001b[38;5;28mprint\u001b[39m(get_minus(\u001b[38;5;241m1\u001b[39m,\u001b[38;5;241m2\u001b[39m))\n\u001b[1;32m----> 4\u001b[0m \u001b[38;5;28mprint\u001b[39m(get_multiply(\u001b[38;5;241m1\u001b[39m,\u001b[38;5;241m2\u001b[39m))\n",
      "\u001b[1;31mNameError\u001b[0m: name 'get_multiply' is not defined"
     ]
    }
   ],
   "source": [
    "from myCalc import get_plus,get_minus\n",
    "print(get_plus(1,2))\n",
    "print(get_minus(1,2))\n",
    "print(get_multiply(1,2))"
   ]
  },
  {
   "cell_type": "code",
   "execution_count": 6,
   "id": "c10213c8",
   "metadata": {},
   "outputs": [
    {
     "name": "stdout",
     "output_type": "stream",
     "text": [
      "3\n",
      "-1\n",
      "2\n"
     ]
    }
   ],
   "source": [
    "from myCalc import *\n",
    "print(get_plus(1,2))\n",
    "print(get_minus(1,2))\n",
    "print(get_multiply(1,2))"
   ]
  },
  {
   "cell_type": "code",
   "execution_count": null,
   "id": "83b93ebf",
   "metadata": {},
   "outputs": [],
   "source": []
  }
 ],
 "metadata": {
  "kernelspec": {
   "display_name": "Python 3 (ipykernel)",
   "language": "python",
   "name": "python3"
  },
  "language_info": {
   "codemirror_mode": {
    "name": "ipython",
    "version": 3
   },
   "file_extension": ".py",
   "mimetype": "text/x-python",
   "name": "python",
   "nbconvert_exporter": "python",
   "pygments_lexer": "ipython3",
   "version": "3.11.5"
  },
  "toc": {
   "base_numbering": 1,
   "nav_menu": {},
   "number_sections": true,
   "sideBar": true,
   "skip_h1_title": false,
   "title_cell": "Table of Contents",
   "title_sidebar": "Contents",
   "toc_cell": false,
   "toc_position": {},
   "toc_section_display": true,
   "toc_window_display": false
  }
 },
 "nbformat": 4,
 "nbformat_minor": 5
}
