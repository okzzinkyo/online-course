{
 "cells": [
  {
   "cell_type": "markdown",
   "id": "7544ece4",
   "metadata": {},
   "source": [
    "# 산술연산"
   ]
  },
  {
   "cell_type": "code",
   "execution_count": 1,
   "id": "d93bb2ee",
   "metadata": {},
   "outputs": [
    {
     "name": "stdout",
     "output_type": "stream",
     "text": [
      "덧셈 a+b= 7\n",
      "뺄셈 a-b= -1\n",
      "곱셈 a*b= 12\n",
      "나눗셈 a/b= 0.75\n",
      "몫 a//b= 0\n",
      "나머지 a%b= 3\n",
      "거듭제곱 a**b= 81\n"
     ]
    }
   ],
   "source": [
    "a,b = 3,4\n",
    "print('덧셈 a+b=', a+b)\n",
    "print('뺄셈 a-b=', a-b)\n",
    "print('곱셈 a*b=', a*b)\n",
    "print('나눗셈 a/b=', a/b)\n",
    "print('몫 a//b=', a//b)\n",
    "print('나머지 a%b=', a%b)\n",
    "print('거듭제곱 a**b=', a**b)"
   ]
  },
  {
   "cell_type": "markdown",
   "id": "ef184f64",
   "metadata": {},
   "source": [
    "# 문자열연산"
   ]
  },
  {
   "cell_type": "code",
   "execution_count": 2,
   "id": "c13348ae",
   "metadata": {},
   "outputs": [
    {
     "data": {
      "text/plain": [
       "'goodmorning'"
      ]
     },
     "execution_count": 2,
     "metadata": {},
     "output_type": "execute_result"
    }
   ],
   "source": [
    "#문자열 더하기(문자열 연결하기)\n",
    "a = 'good'\n",
    "b = 'morning'\n",
    "\n",
    "a+b"
   ]
  },
  {
   "cell_type": "code",
   "execution_count": 3,
   "id": "8902d276",
   "metadata": {},
   "outputs": [
    {
     "data": {
      "text/plain": [
       "'hahaha'"
      ]
     },
     "execution_count": 3,
     "metadata": {},
     "output_type": "execute_result"
    }
   ],
   "source": [
    "#문자열 곱하기(문자열 반복하기)\n",
    "s = 'ha'\n",
    "s*3"
   ]
  },
  {
   "cell_type": "code",
   "execution_count": 4,
   "id": "d463d0f0",
   "metadata": {},
   "outputs": [
    {
     "name": "stdout",
     "output_type": "stream",
     "text": [
      "영어점수80\n"
     ]
    }
   ],
   "source": [
    "#문자열과 숫자형 더하기\n",
    "english = 80\n",
    "result = '영어점수' + str(english)\n",
    "print(result)"
   ]
  },
  {
   "cell_type": "markdown",
   "id": "578939ca",
   "metadata": {},
   "source": [
    "# 할당 연산자\n"
   ]
  },
  {
   "cell_type": "code",
   "execution_count": 5,
   "id": "f6fa3059",
   "metadata": {},
   "outputs": [
    {
     "name": "stdout",
     "output_type": "stream",
     "text": [
      "1 1 1\n"
     ]
    }
   ],
   "source": [
    "# a,b,c에 모두 1할당\n",
    "a = b = c =1\n",
    "print(a,b,c)"
   ]
  },
  {
   "cell_type": "code",
   "execution_count": 6,
   "id": "ff7f36bb",
   "metadata": {},
   "outputs": [
    {
     "name": "stdout",
     "output_type": "stream",
     "text": [
      "1 2 3\n"
     ]
    }
   ],
   "source": [
    "# a,b,c에 각각 1,2,3 할당\n",
    "a,b,c = 1,2,3\n",
    "print(a,b,c)"
   ]
  },
  {
   "cell_type": "markdown",
   "id": "065c3ee5",
   "metadata": {},
   "source": [
    "# 복합할당연산자"
   ]
  },
  {
   "cell_type": "code",
   "execution_count": 7,
   "id": "79edcb6c",
   "metadata": {},
   "outputs": [
    {
     "name": "stdout",
     "output_type": "stream",
     "text": [
      "30\n"
     ]
    }
   ],
   "source": [
    "x = 10\n",
    "x += 20\n",
    "# x + 20 = 30\n",
    "print(x)"
   ]
  },
  {
   "cell_type": "code",
   "execution_count": 8,
   "id": "89655940",
   "metadata": {},
   "outputs": [
    {
     "name": "stdout",
     "output_type": "stream",
     "text": [
      "24\n"
     ]
    }
   ],
   "source": [
    "x = 3\n",
    "y = 5\n",
    "x *= x+y\n",
    "# x*(x+y) = 3(3+5) = 24\n",
    "print(x)"
   ]
  },
  {
   "cell_type": "markdown",
   "id": "ae598077",
   "metadata": {},
   "source": [
    "# f스트링으로 출력하기"
   ]
  },
  {
   "cell_type": "code",
   "execution_count": 9,
   "id": "b8d3a4d2",
   "metadata": {},
   "outputs": [
    {
     "name": "stdout",
     "output_type": "stream",
     "text": [
      "이름:홍길동\n",
      "홍길동 님, 안녕하세요?\n"
     ]
    }
   ],
   "source": [
    "name = input('이름:')\n",
    "print(name,'님, 안녕하세요?')"
   ]
  },
  {
   "cell_type": "code",
   "execution_count": 10,
   "id": "abb8a648",
   "metadata": {},
   "outputs": [
    {
     "name": "stdout",
     "output_type": "stream",
     "text": [
      "홍길동님 안녕하세요\n"
     ]
    }
   ],
   "source": [
    "print(f'{name}님 안녕하세요')"
   ]
  },
  {
   "cell_type": "code",
   "execution_count": 11,
   "id": "a50e0561",
   "metadata": {},
   "outputs": [
    {
     "name": "stdout",
     "output_type": "stream",
     "text": [
      "나이:25\n",
      "나이는 25살이시군요. 내년이면 26살이 되시겠네요\n"
     ]
    }
   ],
   "source": [
    "age = int(input('나이:'))\n",
    "print(f'나이는 {age}살이시군요. 내년이면 {age+1}살이 되시겠네요')"
   ]
  },
  {
   "cell_type": "code",
   "execution_count": 12,
   "id": "03ea9916",
   "metadata": {},
   "outputs": [
    {
     "name": "stdout",
     "output_type": "stream",
     "text": [
      "첫번째숫자:6\n",
      "두번째숫자:2\n",
      "6+2=8\n"
     ]
    }
   ],
   "source": [
    "a = int(input('첫번째숫자:'))\n",
    "b = int(input('두번째숫자:'))\n",
    "print(f'{a}+{b}={a+b}')"
   ]
  },
  {
   "cell_type": "markdown",
   "id": "1df0bfb5",
   "metadata": {},
   "source": [
    "# 연습문제"
   ]
  },
  {
   "cell_type": "markdown",
   "id": "639b4873",
   "metadata": {},
   "source": [
    "화씨 온도를 입력받아 섭씨 온도로 변환하는 프로그램을 작성해보세요"
   ]
  },
  {
   "cell_type": "code",
   "execution_count": 13,
   "id": "1dff14ff",
   "metadata": {},
   "outputs": [
    {
     "name": "stdout",
     "output_type": "stream",
     "text": [
      "화씨온도:100\n",
      "화씨온도:100 --> 섭씨온도:37.77777777777778\n"
     ]
    }
   ],
   "source": [
    "#화씨온도 입력\n",
    "f = int(input('화씨온도:'))\n",
    "\n",
    "#섭씨온도로 계산\n",
    "c = (f - 32) * (5/9)\n",
    "\n",
    "print(f'화씨온도:{f} --> 섭씨온도:{c}')"
   ]
  }
 ],
 "metadata": {
  "kernelspec": {
   "display_name": "Python 3 (ipykernel)",
   "language": "python",
   "name": "python3"
  },
  "language_info": {
   "codemirror_mode": {
    "name": "ipython",
    "version": 3
   },
   "file_extension": ".py",
   "mimetype": "text/x-python",
   "name": "python",
   "nbconvert_exporter": "python",
   "pygments_lexer": "ipython3",
   "version": "3.11.5"
  },
  "toc": {
   "base_numbering": 1,
   "nav_menu": {},
   "number_sections": true,
   "sideBar": true,
   "skip_h1_title": false,
   "title_cell": "Table of Contents",
   "title_sidebar": "Contents",
   "toc_cell": false,
   "toc_position": {},
   "toc_section_display": true,
   "toc_window_display": false
  }
 },
 "nbformat": 4,
 "nbformat_minor": 5
}
