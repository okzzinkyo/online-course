{
 "cells": [
  {
   "cell_type": "markdown",
   "id": "38aadb3e",
   "metadata": {},
   "source": [
    "# 딕셔너리의 키,값 리스트 형태로 가져오기"
   ]
  },
  {
   "cell_type": "markdown",
   "id": "0b5a892d",
   "metadata": {},
   "source": [
    "## dict명.keys()\n",
    "* dict_key객체로 받아온다. 리스트처럼 사용할 수 있지만 리스트는 아니다."
   ]
  },
  {
   "cell_type": "code",
   "execution_count": 1,
   "id": "3d62d409",
   "metadata": {},
   "outputs": [
    {
     "data": {
      "text/plain": [
       "dict_keys(['kor', 'eng', 'math'])"
      ]
     },
     "execution_count": 1,
     "metadata": {},
     "output_type": "execute_result"
    }
   ],
   "source": [
    "scores = {'kor':100, 'eng':90,'math':80}\n",
    "scores.keys()"
   ]
  },
  {
   "cell_type": "markdown",
   "id": "3c958085",
   "metadata": {},
   "source": [
    "## dict명.values()\n",
    "* dict_values객체로 받아온다"
   ]
  },
  {
   "cell_type": "code",
   "execution_count": 2,
   "id": "7729b3f9",
   "metadata": {},
   "outputs": [
    {
     "data": {
      "text/plain": [
       "dict_values([100, 90, 80])"
      ]
     },
     "execution_count": 2,
     "metadata": {},
     "output_type": "execute_result"
    }
   ],
   "source": [
    "scores = {'kor':100, 'eng':90,'math':80}\n",
    "scores.values()"
   ]
  },
  {
   "cell_type": "markdown",
   "id": "5c12c770",
   "metadata": {},
   "source": [
    "## dict명.items()\n",
    "* dict_items객체로 받아온다"
   ]
  },
  {
   "cell_type": "code",
   "execution_count": 3,
   "id": "569c0e68",
   "metadata": {},
   "outputs": [
    {
     "data": {
      "text/plain": [
       "dict_items([('kor', 100), ('eng', 90), ('math', 80)])"
      ]
     },
     "execution_count": 3,
     "metadata": {},
     "output_type": "execute_result"
    }
   ],
   "source": [
    "scores = {'kor':100, 'eng':90,'math':80}\n",
    "scores.items()"
   ]
  },
  {
   "cell_type": "markdown",
   "id": "5fceedc0",
   "metadata": {},
   "source": [
    "# for문으로 딕셔너리 출력하기\n",
    "## for문으로 딕셔너리의 키만 출력하기"
   ]
  },
  {
   "cell_type": "code",
   "execution_count": 5,
   "id": "6d6f0890",
   "metadata": {},
   "outputs": [
    {
     "name": "stdout",
     "output_type": "stream",
     "text": [
      "kor\n",
      "eng\n",
      "math\n"
     ]
    }
   ],
   "source": [
    "scores = {'kor':100, 'eng':90,'math':80}\n",
    "\n",
    "for i in scores.keys():\n",
    "    print(i)"
   ]
  },
  {
   "cell_type": "code",
   "execution_count": 11,
   "id": "604ee31d",
   "metadata": {},
   "outputs": [
    {
     "name": "stdout",
     "output_type": "stream",
     "text": [
      "kor\n",
      "eng\n",
      "math\n"
     ]
    }
   ],
   "source": [
    "for i in scores :\n",
    "    print(i)"
   ]
  },
  {
   "cell_type": "markdown",
   "id": "59c62f59",
   "metadata": {},
   "source": [
    "##  for문으로 딕셔너리의 value만 출력하기"
   ]
  },
  {
   "cell_type": "code",
   "execution_count": 13,
   "id": "d19d8439",
   "metadata": {},
   "outputs": [
    {
     "name": "stdout",
     "output_type": "stream",
     "text": [
      "100\n",
      "90\n",
      "80\n"
     ]
    }
   ],
   "source": [
    "scores = {'kor':100, 'eng':90,'math':80}\n",
    "\n",
    "for i in scores.values():\n",
    "    print(i)"
   ]
  },
  {
   "cell_type": "markdown",
   "id": "fe61e5d5",
   "metadata": {},
   "source": [
    "## for문으로 딕셔너리의 key,value 출력하기"
   ]
  },
  {
   "cell_type": "code",
   "execution_count": 14,
   "id": "86727897",
   "metadata": {},
   "outputs": [
    {
     "name": "stdout",
     "output_type": "stream",
     "text": [
      "('kor', 100)\n",
      "('eng', 90)\n",
      "('math', 80)\n"
     ]
    }
   ],
   "source": [
    "scores = {'kor':100, 'eng':90,'math':80}\n",
    "\n",
    "for i in scores.items():\n",
    "    print(i)"
   ]
  },
  {
   "cell_type": "code",
   "execution_count": 17,
   "id": "9d5b51ef",
   "metadata": {},
   "outputs": [
    {
     "name": "stdout",
     "output_type": "stream",
     "text": [
      "kor 100\n",
      "eng 90\n",
      "math 80\n"
     ]
    }
   ],
   "source": [
    "scores = {'kor':100, 'eng':90,'math':80}\n",
    "\n",
    "for k,v in scores.items():\n",
    "    print(k,v)"
   ]
  },
  {
   "cell_type": "markdown",
   "id": "5faea127",
   "metadata": {},
   "source": [
    "# 딕셔너리 정렬하기\n",
    "## 키 정렬하기"
   ]
  },
  {
   "cell_type": "code",
   "execution_count": 18,
   "id": "c821e8a8",
   "metadata": {},
   "outputs": [
    {
     "data": {
      "text/plain": [
       "['eng', 'kor', 'math']"
      ]
     },
     "execution_count": 18,
     "metadata": {},
     "output_type": "execute_result"
    }
   ],
   "source": [
    "scores = {'kor':100, 'eng':90,'math':80}\n",
    "sorted(scores.keys())"
   ]
  },
  {
   "cell_type": "markdown",
   "id": "7065107c",
   "metadata": {},
   "source": [
    "## 값 정렬하기"
   ]
  },
  {
   "cell_type": "code",
   "execution_count": 19,
   "id": "9699eba7",
   "metadata": {},
   "outputs": [
    {
     "data": {
      "text/plain": [
       "[80, 90, 100]"
      ]
     },
     "execution_count": 19,
     "metadata": {},
     "output_type": "execute_result"
    }
   ],
   "source": [
    "scores = {'kor':100, 'eng':90,'math':80}\n",
    "sorted(scores.values())"
   ]
  },
  {
   "cell_type": "markdown",
   "id": "87307444",
   "metadata": {},
   "source": [
    "## (키,값) 정렬하기"
   ]
  },
  {
   "cell_type": "code",
   "execution_count": 20,
   "id": "dd598567",
   "metadata": {},
   "outputs": [
    {
     "data": {
      "text/plain": [
       "[('eng', 90), ('kor', 100), ('math', 80)]"
      ]
     },
     "execution_count": 20,
     "metadata": {},
     "output_type": "execute_result"
    }
   ],
   "source": [
    "scores = {'kor':100, 'eng':90,'math':80}\n",
    "sorted(scores.items())"
   ]
  },
  {
   "cell_type": "code",
   "execution_count": 21,
   "id": "c80ddf90",
   "metadata": {},
   "outputs": [
    {
     "ename": "AttributeError",
     "evalue": "'dict_keys' object has no attribute 'sort'",
     "output_type": "error",
     "traceback": [
      "\u001b[1;31m---------------------------------------------------------------------------\u001b[0m",
      "\u001b[1;31mAttributeError\u001b[0m                            Traceback (most recent call last)",
      "Cell \u001b[1;32mIn[21], line 2\u001b[0m\n\u001b[0;32m      1\u001b[0m \u001b[38;5;66;03m# .sort()는 지원하지 않음\u001b[39;00m\n\u001b[1;32m----> 2\u001b[0m scores\u001b[38;5;241m.\u001b[39mkeys()\u001b[38;5;241m.\u001b[39msort()\n",
      "\u001b[1;31mAttributeError\u001b[0m: 'dict_keys' object has no attribute 'sort'"
     ]
    }
   ],
   "source": [
    "# .sort()는 지원하지 않음\n",
    "scores.keys().sort()"
   ]
  },
  {
   "cell_type": "code",
   "execution_count": null,
   "id": "8e89aa9d",
   "metadata": {},
   "outputs": [],
   "source": []
  }
 ],
 "metadata": {
  "kernelspec": {
   "display_name": "Python 3 (ipykernel)",
   "language": "python",
   "name": "python3"
  },
  "language_info": {
   "codemirror_mode": {
    "name": "ipython",
    "version": 3
   },
   "file_extension": ".py",
   "mimetype": "text/x-python",
   "name": "python",
   "nbconvert_exporter": "python",
   "pygments_lexer": "ipython3",
   "version": "3.11.5"
  },
  "toc": {
   "base_numbering": 1,
   "nav_menu": {},
   "number_sections": true,
   "sideBar": true,
   "skip_h1_title": false,
   "title_cell": "Table of Contents",
   "title_sidebar": "Contents",
   "toc_cell": false,
   "toc_position": {},
   "toc_section_display": true,
   "toc_window_display": false
  }
 },
 "nbformat": 4,
 "nbformat_minor": 5
}
