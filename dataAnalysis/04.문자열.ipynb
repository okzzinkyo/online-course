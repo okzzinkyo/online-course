{
 "cells": [
  {
   "cell_type": "markdown",
   "id": "1284e838",
   "metadata": {},
   "source": [
    "# 문자열 인덱싱"
   ]
  },
  {
   "cell_type": "code",
   "execution_count": 3,
   "id": "479fb82a",
   "metadata": {},
   "outputs": [
    {
     "name": "stdout",
     "output_type": "stream",
     "text": [
      "H\n",
      "H\n",
      "W\n",
      "W\n"
     ]
    }
   ],
   "source": [
    "a = 'Hello World'\n",
    "# H\n",
    "print(a[0])\n",
    "print(a[-11])\n",
    "# W\n",
    "print(a[6])\n",
    "print(a[-5])"
   ]
  },
  {
   "cell_type": "markdown",
   "id": "ab4a769b",
   "metadata": {},
   "source": [
    "범위 밖의 index를 사용하면?"
   ]
  },
  {
   "cell_type": "code",
   "execution_count": 6,
   "id": "297329ac",
   "metadata": {},
   "outputs": [
    {
     "ename": "IndexError",
     "evalue": "string index out of range",
     "output_type": "error",
     "traceback": [
      "\u001b[1;31m---------------------------------------------------------------------------\u001b[0m",
      "\u001b[1;31mIndexError\u001b[0m                                Traceback (most recent call last)",
      "Cell \u001b[1;32mIn[6], line 2\u001b[0m\n\u001b[0;32m      1\u001b[0m a \u001b[38;5;241m=\u001b[39m \u001b[38;5;124m'\u001b[39m\u001b[38;5;124mHello World\u001b[39m\u001b[38;5;124m'\u001b[39m\n\u001b[1;32m----> 2\u001b[0m \u001b[38;5;28mprint\u001b[39m(a[\u001b[38;5;241m11\u001b[39m])\n",
      "\u001b[1;31mIndexError\u001b[0m: string index out of range"
     ]
    }
   ],
   "source": [
    "a = 'Hello World'\n",
    "print(a[11])"
   ]
  },
  {
   "cell_type": "markdown",
   "id": "fdb56707",
   "metadata": {},
   "source": [
    "# 문자열 슬라이싱"
   ]
  },
  {
   "cell_type": "code",
   "execution_count": 19,
   "id": "f4281b19",
   "metadata": {},
   "outputs": [
    {
     "name": "stdout",
     "output_type": "stream",
     "text": [
      "Hello\n",
      "Hello\n",
      "World\n",
      "World\n"
     ]
    }
   ],
   "source": [
    "a = 'Hello World'\n",
    "# 'Hello'\n",
    "print(a[0:5])\n",
    "print(a[-11:-6])\n",
    "# 'world'\n",
    "print(a[6:11])\n",
    "print(a[-5:])"
   ]
  },
  {
   "cell_type": "markdown",
   "id": "a12d4c00",
   "metadata": {},
   "source": [
    "첫번째와 마지막 인덱스는 생략 가능"
   ]
  },
  {
   "cell_type": "code",
   "execution_count": 22,
   "id": "27d2e0a1",
   "metadata": {},
   "outputs": [
    {
     "name": "stdout",
     "output_type": "stream",
     "text": [
      "Hello\n",
      "World\n",
      "Hello World\n"
     ]
    }
   ],
   "source": [
    "a = 'Hello World'\n",
    "# 'Hello'\n",
    "print(a[:5])\n",
    "\n",
    "# 'world'\n",
    "print(a[6:])\n",
    "\n",
    "# Hello World\n",
    "print(a[:])"
   ]
  },
  {
   "cell_type": "markdown",
   "id": "1f26835d",
   "metadata": {},
   "source": [
    "한문자씩 건너뛰어 출력하기"
   ]
  },
  {
   "cell_type": "code",
   "execution_count": 24,
   "id": "8638efc1",
   "metadata": {},
   "outputs": [
    {
     "name": "stdout",
     "output_type": "stream",
     "text": [
      "HloWrd\n"
     ]
    }
   ],
   "source": [
    "print(a[::2])"
   ]
  },
  {
   "cell_type": "markdown",
   "id": "37f808ff",
   "metadata": {},
   "source": [
    "역순으로 출력하기"
   ]
  },
  {
   "cell_type": "code",
   "execution_count": 25,
   "id": "9d55e5bd",
   "metadata": {},
   "outputs": [
    {
     "name": "stdout",
     "output_type": "stream",
     "text": [
      "drWolH\n"
     ]
    }
   ],
   "source": [
    "print(a[::-2])"
   ]
  },
  {
   "cell_type": "markdown",
   "id": "9b6c9a2d",
   "metadata": {},
   "source": [
    "# 문자열 함수"
   ]
  },
  {
   "cell_type": "markdown",
   "id": "c288d119",
   "metadata": {},
   "source": [
    "## 문자열 교체하기\n",
    "* 문자열.replace(찾을문자열, 교체할문자열)"
   ]
  },
  {
   "cell_type": "code",
   "execution_count": 28,
   "id": "67f213a2",
   "metadata": {},
   "outputs": [
    {
     "data": {
      "text/plain": [
       "'나는 딸기우유 좋아. 딸기우유 최고'"
      ]
     },
     "execution_count": 28,
     "metadata": {},
     "output_type": "execute_result"
    }
   ],
   "source": [
    "a = '나는 초코우유 좋아. 초코우유 최고'\n",
    "a.replace('초코', '딸기')"
   ]
  },
  {
   "cell_type": "markdown",
   "id": "54d30f19",
   "metadata": {},
   "source": [
    "## 문자의 위치 찾기\n",
    "* 문자열.find(문자)"
   ]
  },
  {
   "cell_type": "code",
   "execution_count": 30,
   "id": "3f00918f",
   "metadata": {},
   "outputs": [
    {
     "name": "stdout",
     "output_type": "stream",
     "text": [
      "1\n",
      "2\n"
     ]
    }
   ],
   "source": [
    "a ='Hello, Python!!!'\n",
    "\n",
    "# e의 위치\n",
    "print(a.find('e'))\n",
    "\n",
    "#l의 위치  - 여러개가 있으면, 제일 처음 만나는 문자의 위치를 찾아서 출력\n",
    "print(a.find('l'))"
   ]
  },
  {
   "cell_type": "markdown",
   "id": "ee58e0aa",
   "metadata": {},
   "source": [
    "## 소문자로 변횐하기"
   ]
  },
  {
   "cell_type": "code",
   "execution_count": 31,
   "id": "5fe496a4",
   "metadata": {},
   "outputs": [
    {
     "data": {
      "text/plain": [
       "'hello, python!!!'"
      ]
     },
     "execution_count": 31,
     "metadata": {},
     "output_type": "execute_result"
    }
   ],
   "source": [
    "a.lower()"
   ]
  },
  {
   "cell_type": "markdown",
   "id": "4c595adb",
   "metadata": {},
   "source": [
    "## 대문자로 변확하기"
   ]
  },
  {
   "cell_type": "code",
   "execution_count": 32,
   "id": "cd04204f",
   "metadata": {},
   "outputs": [
    {
     "data": {
      "text/plain": [
       "'HELLO, PYTHON!!!'"
      ]
     },
     "execution_count": 32,
     "metadata": {},
     "output_type": "execute_result"
    }
   ],
   "source": [
    "a.upper()"
   ]
  },
  {
   "cell_type": "markdown",
   "id": "ca7261af",
   "metadata": {},
   "source": [
    "## 문자열 나누기"
   ]
  },
  {
   "cell_type": "code",
   "execution_count": 34,
   "id": "623410fb",
   "metadata": {},
   "outputs": [
    {
     "data": {
      "text/plain": [
       "['010', '123', '4567']"
      ]
     },
     "execution_count": 34,
     "metadata": {},
     "output_type": "execute_result"
    }
   ],
   "source": [
    "phone = '010-123-4567'\n",
    "phone.split('-')"
   ]
  },
  {
   "cell_type": "code",
   "execution_count": 35,
   "id": "23ae4025",
   "metadata": {},
   "outputs": [
    {
     "data": {
      "text/plain": [
       "['abc', 'naver.com']"
      ]
     },
     "execution_count": 35,
     "metadata": {},
     "output_type": "execute_result"
    }
   ],
   "source": [
    "email = 'abc@naver.com'\n",
    "email.split('@')"
   ]
  },
  {
   "cell_type": "markdown",
   "id": "a246dbb8",
   "metadata": {},
   "source": [
    "# 문자열 나누기"
   ]
  },
  {
   "cell_type": "markdown",
   "id": "37c4c3ff",
   "metadata": {},
   "source": [
    "* 사용자의 영문 이름을 입력받아 성과 이름 순서를 바꾸어서 출력하는 프로그램을 작성하세요.<br>\n",
    "성과 이름은 공백으로 구분합니다."
   ]
  },
  {
   "cell_type": "code",
   "execution_count": 39,
   "id": "da44ecd1",
   "metadata": {},
   "outputs": [
    {
     "name": "stdout",
     "output_type": "stream",
     "text": [
      "영문 이름:ock jinkyung\n",
      " jinkyung ock\n"
     ]
    }
   ],
   "source": [
    "name = input('영문 이름:')\n",
    "space = name.find(' ')\n",
    "firstName = name[:space]\n",
    "lastName = name[space:]\n",
    "\n",
    "print(lastName, firstName)"
   ]
  },
  {
   "cell_type": "code",
   "execution_count": null,
   "id": "a05635b5",
   "metadata": {},
   "outputs": [],
   "source": []
  }
 ],
 "metadata": {
  "kernelspec": {
   "display_name": "Python 3 (ipykernel)",
   "language": "python",
   "name": "python3"
  },
  "language_info": {
   "codemirror_mode": {
    "name": "ipython",
    "version": 3
   },
   "file_extension": ".py",
   "mimetype": "text/x-python",
   "name": "python",
   "nbconvert_exporter": "python",
   "pygments_lexer": "ipython3",
   "version": "3.11.5"
  },
  "toc": {
   "base_numbering": 1,
   "nav_menu": {},
   "number_sections": true,
   "sideBar": true,
   "skip_h1_title": false,
   "title_cell": "Table of Contents",
   "title_sidebar": "Contents",
   "toc_cell": false,
   "toc_position": {},
   "toc_section_display": true,
   "toc_window_display": false
  }
 },
 "nbformat": 4,
 "nbformat_minor": 5
}
