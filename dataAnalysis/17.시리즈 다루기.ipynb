{
 "cells": [
  {
   "cell_type": "code",
   "execution_count": 2,
   "id": "735a8960",
   "metadata": {},
   "outputs": [],
   "source": [
    "import pandas as pd"
   ]
  },
  {
   "cell_type": "markdown",
   "id": "ec5f8b74",
   "metadata": {},
   "source": [
    "# 시리즈 만들기\n",
    "* pd.Series(리스트)\n",
    "* 시리즈 : 엑셀시트의 열 1개를 의미한다.(1차원 리스트형태)"
   ]
  },
  {
   "cell_type": "code",
   "execution_count": 10,
   "id": "653f90d3",
   "metadata": {},
   "outputs": [
    {
     "data": {
      "text/plain": [
       "0    amy\n",
       "1    170\n",
       "2    240\n",
       "dtype: object"
      ]
     },
     "execution_count": 10,
     "metadata": {},
     "output_type": "execute_result"
    }
   ],
   "source": [
    "# 시리즈 만들기\n",
    "s = pd.Series(['amy',170,240])\n",
    "s.index\n",
    "s\n",
    "\n",
    "# 문자열과 숫자가 섞여있는경우 문자열로 인식한다."
   ]
  },
  {
   "cell_type": "code",
   "execution_count": 8,
   "id": "a021b1c3",
   "metadata": {},
   "outputs": [
    {
     "data": {
      "text/plain": [
       "pandas.core.series.Series"
      ]
     },
     "execution_count": 8,
     "metadata": {},
     "output_type": "execute_result"
    }
   ],
   "source": [
    "# 타입 확인하기\n",
    "type(s)"
   ]
  },
  {
   "cell_type": "markdown",
   "id": "a0f6e00d",
   "metadata": {},
   "source": [
    "# 시리즈의 index와 value 가져오기"
   ]
  },
  {
   "cell_type": "code",
   "execution_count": 13,
   "id": "15da4a43",
   "metadata": {},
   "outputs": [
    {
     "data": {
      "text/plain": [
       "RangeIndex(start=0, stop=3, step=1)"
      ]
     },
     "execution_count": 13,
     "metadata": {},
     "output_type": "execute_result"
    }
   ],
   "source": [
    "# 시리즈 인덱스 가져오기\n",
    "s.index"
   ]
  },
  {
   "cell_type": "code",
   "execution_count": 14,
   "id": "1a9ebc57",
   "metadata": {},
   "outputs": [
    {
     "data": {
      "text/plain": [
       "array(['amy', 170, 240], dtype=object)"
      ]
     },
     "execution_count": 14,
     "metadata": {},
     "output_type": "execute_result"
    }
   ],
   "source": [
    "# 시리즈 데이터 가져오기\n",
    "s.values"
   ]
  },
  {
   "cell_type": "markdown",
   "id": "b26a48e3",
   "metadata": {},
   "source": [
    "# 시리즈의 index 지정하기"
   ]
  },
  {
   "cell_type": "code",
   "execution_count": 15,
   "id": "d5c6beef",
   "metadata": {},
   "outputs": [],
   "source": [
    "# 시리즈 index 지정하기\n",
    "s.index = ['name','height','footsize']"
   ]
  },
  {
   "cell_type": "code",
   "execution_count": 16,
   "id": "ad3686ab",
   "metadata": {},
   "outputs": [
    {
     "data": {
      "text/plain": [
       "name        amy\n",
       "height      170\n",
       "footsize    240\n",
       "dtype: object"
      ]
     },
     "execution_count": 16,
     "metadata": {},
     "output_type": "execute_result"
    }
   ],
   "source": [
    "#  시리즈 출력하기\n",
    "s"
   ]
  },
  {
   "cell_type": "code",
   "execution_count": 17,
   "id": "4956e54f",
   "metadata": {},
   "outputs": [
    {
     "data": {
      "text/plain": [
       "Index(['name', 'height', 'footsize'], dtype='object')"
      ]
     },
     "execution_count": 17,
     "metadata": {},
     "output_type": "execute_result"
    }
   ],
   "source": [
    "# 인덱스 확인하기\n",
    "s.index"
   ]
  },
  {
   "cell_type": "code",
   "execution_count": 20,
   "id": "2bd889a2",
   "metadata": {},
   "outputs": [
    {
     "data": {
      "text/plain": [
       "array(['amy', 170, 240], dtype=object)"
      ]
     },
     "execution_count": 20,
     "metadata": {},
     "output_type": "execute_result"
    }
   ],
   "source": [
    "# 데이터 확인하기\n",
    "s.values"
   ]
  },
  {
   "cell_type": "markdown",
   "id": "e6bec0e5",
   "metadata": {},
   "source": [
    "# 시리즈의 통계값 사용하기\n",
    "* 평균: mean()\n",
    "* 최소값 : min()\n",
    "* 최대값 : max()\n",
    "* 중간값 : median()\n",
    "* 표준편차 : std()\n",
    "* 시리즈의 통계값은 시리즈의 value가 모두 숫자형일 때 사용할 수 있다."
   ]
  },
  {
   "cell_type": "code",
   "execution_count": 21,
   "id": "20e886de",
   "metadata": {},
   "outputs": [],
   "source": [
    "s2 = pd.Series([10,20,30,40,50])"
   ]
  },
  {
   "cell_type": "code",
   "execution_count": 23,
   "id": "1adc2917",
   "metadata": {},
   "outputs": [
    {
     "name": "stdout",
     "output_type": "stream",
     "text": [
      "평균: 30.0\n",
      "최소값: 10\n",
      "최대값: 50\n",
      "중간값: 30.0\n",
      "표준편차: 15.811388300841896\n"
     ]
    }
   ],
   "source": [
    "print('평균:', s2.mean())\n",
    "print('최소값:', s2.min())\n",
    "print('최대값:', s2.max())\n",
    "print('중간값:', s2.median())\n",
    "print('표준편차:', s2.std())"
   ]
  },
  {
   "cell_type": "code",
   "execution_count": 24,
   "id": "8efc4390",
   "metadata": {},
   "outputs": [
    {
     "data": {
      "text/plain": [
       "count     5.000000\n",
       "mean     30.000000\n",
       "std      15.811388\n",
       "min      10.000000\n",
       "25%      20.000000\n",
       "50%      30.000000\n",
       "75%      40.000000\n",
       "max      50.000000\n",
       "dtype: float64"
      ]
     },
     "execution_count": 24,
     "metadata": {},
     "output_type": "execute_result"
    }
   ],
   "source": [
    "# 요약 통계\n",
    "s2.describe()"
   ]
  },
  {
   "cell_type": "markdown",
   "id": "c70a7c64",
   "metadata": {},
   "source": [
    "# 시리즈 주요 메서드\n",
    "* 값 정렬 : sort_values()\n",
    "* 인덱스 정렬 : sort_index()\n",
    "* 인덱스 리셋 : reset_index() ==> 행번호로 인덱스 재지정\n",
    "* 특정 값을 가진 시리즈 값을 교체: replace(찾을값, 교체할 값)\n",
    "* 시리즈를 데이터 프레임으로 변환 : to_frame()"
   ]
  },
  {
   "cell_type": "code",
   "execution_count": 25,
   "id": "e82ff2d1",
   "metadata": {},
   "outputs": [],
   "source": [
    "s3 = pd.Series([1,3,2,4,10])"
   ]
  },
  {
   "cell_type": "code",
   "execution_count": 26,
   "id": "d94cd335",
   "metadata": {},
   "outputs": [
    {
     "data": {
      "text/plain": [
       "0    1\n",
       "1    3\n",
       "2    2\n",
       "3    4\n",
       "4    5\n",
       "dtype: int64"
      ]
     },
     "execution_count": 26,
     "metadata": {},
     "output_type": "execute_result"
    }
   ],
   "source": [
    "# s3의 value 중 10을 5로 교체\n",
    "s3 = s3.replace(10,5)\n",
    "s3"
   ]
  },
  {
   "cell_type": "code",
   "execution_count": 27,
   "id": "1918f039",
   "metadata": {},
   "outputs": [
    {
     "data": {
      "text/plain": [
       "0    1\n",
       "2    2\n",
       "1    3\n",
       "3    4\n",
       "4    5\n",
       "dtype: int64"
      ]
     },
     "execution_count": 27,
     "metadata": {},
     "output_type": "execute_result"
    }
   ],
   "source": [
    "# s3 정렬(디폴트는 오름차순 : ascending = True)\n",
    "s3.sort_values()"
   ]
  },
  {
   "cell_type": "code",
   "execution_count": 28,
   "id": "af9298d0",
   "metadata": {},
   "outputs": [
    {
     "data": {
      "text/plain": [
       "4    5\n",
       "3    4\n",
       "1    3\n",
       "2    2\n",
       "0    1\n",
       "dtype: int64"
      ]
     },
     "execution_count": 28,
     "metadata": {},
     "output_type": "execute_result"
    }
   ],
   "source": [
    "# s3 정렬 (내림차순 : ascending = False)\n",
    "s3.sort_values(ascending = False)"
   ]
  },
  {
   "cell_type": "code",
   "execution_count": 29,
   "id": "b775faf9",
   "metadata": {},
   "outputs": [
    {
     "data": {
      "text/html": [
       "<div>\n",
       "<style scoped>\n",
       "    .dataframe tbody tr th:only-of-type {\n",
       "        vertical-align: middle;\n",
       "    }\n",
       "\n",
       "    .dataframe tbody tr th {\n",
       "        vertical-align: top;\n",
       "    }\n",
       "\n",
       "    .dataframe thead th {\n",
       "        text-align: right;\n",
       "    }\n",
       "</style>\n",
       "<table border=\"1\" class=\"dataframe\">\n",
       "  <thead>\n",
       "    <tr style=\"text-align: right;\">\n",
       "      <th></th>\n",
       "      <th>0</th>\n",
       "    </tr>\n",
       "  </thead>\n",
       "  <tbody>\n",
       "    <tr>\n",
       "      <th>0</th>\n",
       "      <td>1</td>\n",
       "    </tr>\n",
       "    <tr>\n",
       "      <th>1</th>\n",
       "      <td>3</td>\n",
       "    </tr>\n",
       "    <tr>\n",
       "      <th>2</th>\n",
       "      <td>2</td>\n",
       "    </tr>\n",
       "    <tr>\n",
       "      <th>3</th>\n",
       "      <td>4</td>\n",
       "    </tr>\n",
       "    <tr>\n",
       "      <th>4</th>\n",
       "      <td>5</td>\n",
       "    </tr>\n",
       "  </tbody>\n",
       "</table>\n",
       "</div>"
      ],
      "text/plain": [
       "   0\n",
       "0  1\n",
       "1  3\n",
       "2  2\n",
       "3  4\n",
       "4  5"
      ]
     },
     "execution_count": 29,
     "metadata": {},
     "output_type": "execute_result"
    }
   ],
   "source": [
    "# s3을 데이터프레임으로 만들기\n",
    "s3.to_frame()"
   ]
  },
  {
   "cell_type": "code",
   "execution_count": 31,
   "id": "0a850f31",
   "metadata": {},
   "outputs": [
    {
     "data": {
      "text/plain": [
       "name        amy\n",
       "height      170\n",
       "footsize    240\n",
       "dtype: object"
      ]
     },
     "execution_count": 31,
     "metadata": {},
     "output_type": "execute_result"
    }
   ],
   "source": [
    "# 시리즈 인덱스 새로 만들기\n",
    "s"
   ]
  },
  {
   "cell_type": "code",
   "execution_count": 32,
   "id": "ba4597aa",
   "metadata": {},
   "outputs": [
    {
     "data": {
      "text/html": [
       "<div>\n",
       "<style scoped>\n",
       "    .dataframe tbody tr th:only-of-type {\n",
       "        vertical-align: middle;\n",
       "    }\n",
       "\n",
       "    .dataframe tbody tr th {\n",
       "        vertical-align: top;\n",
       "    }\n",
       "\n",
       "    .dataframe thead th {\n",
       "        text-align: right;\n",
       "    }\n",
       "</style>\n",
       "<table border=\"1\" class=\"dataframe\">\n",
       "  <thead>\n",
       "    <tr style=\"text-align: right;\">\n",
       "      <th></th>\n",
       "      <th>index</th>\n",
       "      <th>0</th>\n",
       "    </tr>\n",
       "  </thead>\n",
       "  <tbody>\n",
       "    <tr>\n",
       "      <th>0</th>\n",
       "      <td>name</td>\n",
       "      <td>amy</td>\n",
       "    </tr>\n",
       "    <tr>\n",
       "      <th>1</th>\n",
       "      <td>height</td>\n",
       "      <td>170</td>\n",
       "    </tr>\n",
       "    <tr>\n",
       "      <th>2</th>\n",
       "      <td>footsize</td>\n",
       "      <td>240</td>\n",
       "    </tr>\n",
       "  </tbody>\n",
       "</table>\n",
       "</div>"
      ],
      "text/plain": [
       "      index    0\n",
       "0      name  amy\n",
       "1    height  170\n",
       "2  footsize  240"
      ]
     },
     "execution_count": 32,
     "metadata": {},
     "output_type": "execute_result"
    }
   ],
   "source": [
    "s.reset_index()"
   ]
  },
  {
   "cell_type": "code",
   "execution_count": null,
   "id": "3972c103",
   "metadata": {},
   "outputs": [],
   "source": []
  }
 ],
 "metadata": {
  "kernelspec": {
   "display_name": "Python 3 (ipykernel)",
   "language": "python",
   "name": "python3"
  },
  "language_info": {
   "codemirror_mode": {
    "name": "ipython",
    "version": 3
   },
   "file_extension": ".py",
   "mimetype": "text/x-python",
   "name": "python",
   "nbconvert_exporter": "python",
   "pygments_lexer": "ipython3",
   "version": "3.11.5"
  },
  "toc": {
   "base_numbering": 1,
   "nav_menu": {},
   "number_sections": true,
   "sideBar": true,
   "skip_h1_title": false,
   "title_cell": "Table of Contents",
   "title_sidebar": "Contents",
   "toc_cell": false,
   "toc_position": {},
   "toc_section_display": true,
   "toc_window_display": false
  }
 },
 "nbformat": 4,
 "nbformat_minor": 5
}
