{
 "cells": [
  {
   "cell_type": "markdown",
   "id": "5448b7a5",
   "metadata": {},
   "source": [
    "# 람다표현식\n",
    "* lambda 매개변수1,매개변수2,...: 수식 \n",
    "* 매개변수와 수식으로 이루어진 함수\n",
    "* 이름이 없는 익명함수\n",
    "* 다른 함수의 인수로 넣을 때 주로 사용"
   ]
  },
  {
   "cell_type": "code",
   "execution_count": 2,
   "id": "e44f726e",
   "metadata": {},
   "outputs": [
    {
     "data": {
      "text/plain": [
       "(1, 2)"
      ]
     },
     "execution_count": 2,
     "metadata": {},
     "output_type": "execute_result"
    }
   ],
   "source": [
    "# 두 수를 매개변수로 받아 더한 결과를 리턴하는 함수\n",
    "\n",
    "def get_plus(n1,n2):\n",
    "    return n1,n2\n",
    "\n",
    "get_plus(1,2)"
   ]
  },
  {
   "cell_type": "code",
   "execution_count": 4,
   "id": "b357240d",
   "metadata": {},
   "outputs": [
    {
     "data": {
      "text/plain": [
       "3"
      ]
     },
     "execution_count": 4,
     "metadata": {},
     "output_type": "execute_result"
    }
   ],
   "source": [
    "#람다표현식으로 만들기\n",
    "lambda n1,n2:n1+n2\n",
    "\n",
    "#람다표현식 사용하기\n",
    "(lambda n1,n2:n1+n2)(1,2)"
   ]
  },
  {
   "cell_type": "code",
   "execution_count": 6,
   "id": "e44fbb4a",
   "metadata": {},
   "outputs": [
    {
     "data": {
      "text/plain": [
       "8"
      ]
     },
     "execution_count": 6,
     "metadata": {},
     "output_type": "execute_result"
    }
   ],
   "source": [
    "# 람다표현식을 프로그램 내에서 재사용하고 싶다면, 람다표현식을 변수에 담아서 사용한다.\n",
    "lambda_plus =  lambda n1,n2:n1+n2\n",
    "\n",
    "# 변수로 람다표현식 담아 호출하기\n",
    "lambda_plus(1,2)\n",
    "lambda_plus(3,5)"
   ]
  },
  {
   "cell_type": "markdown",
   "id": "64848cbe",
   "metadata": {},
   "source": [
    "# map함수\n",
    "* 리스트나 튜플의 각 요소를 지정된 함수로 처리해주는 함수\n",
    "* 원본을 변경하지 않고 새 리스트, 튜플을 생성하여 반환한다.\n",
    "* list(map(함수,리스트))\n",
    "* tuple(map(함수,튜플))"
   ]
  },
  {
   "cell_type": "code",
   "execution_count": 8,
   "id": "26748e7c",
   "metadata": {},
   "outputs": [
    {
     "name": "stdout",
     "output_type": "stream",
     "text": [
      "['1', '2', '3', '4']\n",
      "[1, 2, 3, 4]\n"
     ]
    }
   ],
   "source": [
    "a = ['1','2','3','4']\n",
    "b = list(map(int,a))\n",
    "\n",
    "print(a)\n",
    "print(b)"
   ]
  },
  {
   "cell_type": "markdown",
   "id": "432910d7",
   "metadata": {},
   "source": [
    "* map함수에 람다표현식 사용"
   ]
  },
  {
   "cell_type": "code",
   "execution_count": 10,
   "id": "d5810448",
   "metadata": {},
   "outputs": [
    {
     "name": "stdout",
     "output_type": "stream",
     "text": [
      "[1, 2, 3, 4, 5]\n",
      "[2, 3, 4, 5, 6]\n"
     ]
    }
   ],
   "source": [
    "# l1에 1을 더한 l2 만들기\n",
    "l1 = [1,2,3,4,5]\n",
    "l2 = list(map((lambda x:x+1),l1))\n",
    "\n",
    "print(l1)\n",
    "print(l2)"
   ]
  },
  {
   "cell_type": "markdown",
   "id": "0b40c2c9",
   "metadata": {},
   "source": [
    "* 람다표현식에 조건부표현식 사용하기"
   ]
  },
  {
   "cell_type": "code",
   "execution_count": 11,
   "id": "af4018ed",
   "metadata": {},
   "outputs": [
    {
     "data": {
      "text/plain": [
       "['1', 2.0, '3', 4.0, '5', 6.0, '7', 8.0, '9', 10.0]"
      ]
     },
     "execution_count": 11,
     "metadata": {},
     "output_type": "execute_result"
    }
   ],
   "source": [
    "# 짝수는float 홀수는 str로 바꾸기\n",
    "l1 = [1,2,3,4,5,6,7,8,9,10]\n",
    "\n",
    "list(map((lambda x:float(x) if x%2==0 else str(x)),l1))"
   ]
  },
  {
   "cell_type": "code",
   "execution_count": null,
   "id": "d6e7f2f6",
   "metadata": {},
   "outputs": [],
   "source": []
  }
 ],
 "metadata": {
  "kernelspec": {
   "display_name": "Python 3 (ipykernel)",
   "language": "python",
   "name": "python3"
  },
  "language_info": {
   "codemirror_mode": {
    "name": "ipython",
    "version": 3
   },
   "file_extension": ".py",
   "mimetype": "text/x-python",
   "name": "python",
   "nbconvert_exporter": "python",
   "pygments_lexer": "ipython3",
   "version": "3.11.5"
  },
  "toc": {
   "base_numbering": 1,
   "nav_menu": {},
   "number_sections": true,
   "sideBar": true,
   "skip_h1_title": false,
   "title_cell": "Table of Contents",
   "title_sidebar": "Contents",
   "toc_cell": false,
   "toc_position": {},
   "toc_section_display": true,
   "toc_window_display": false
  }
 },
 "nbformat": 4,
 "nbformat_minor": 5
}
