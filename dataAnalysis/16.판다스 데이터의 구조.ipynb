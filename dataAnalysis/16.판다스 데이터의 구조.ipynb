{
 "cells": [
  {
   "cell_type": "markdown",
   "id": "63e33468",
   "metadata": {},
   "source": [
    "# 판라스란?\n",
    "\n",
    "* 데이터를 조작/분석하기 위한 라이브러리\n",
    "* 행/열로 이루어진 테이블 형태의 데이터를 다룬다.\n",
    "* 엑셀로 다루지 못하는 대용량 데이터를 다룰 수 있다.\n",
    "* Maplotlib, \n",
    "\n",
    "# Pandas 라이브러리 inport\n",
    "* 외부 패키지이지만 아나콘다에 기본적으로 설치되어 제공\n",
    "* 관용적으로 pd이라는 별칭을 사용."
   ]
  },
  {
   "cell_type": "code",
   "execution_count": 2,
   "id": "c1bc6ced",
   "metadata": {},
   "outputs": [],
   "source": [
    "import pandas as pd"
   ]
  },
  {
   "cell_type": "markdown",
   "id": "d88cd81d",
   "metadata": {},
   "source": [
    "# 데이터 프레임 만들기\n",
    "* 데이터프레임: 엑셀의 sheet와 동일한 개념이다.(2차원 형태의 표)"
   ]
  },
  {
   "cell_type": "markdown",
   "id": "5f8ca6fa",
   "metadata": {},
   "source": [
    "## 리스트로 만들기"
   ]
  },
  {
   "cell_type": "code",
   "execution_count": 9,
   "id": "da8a4be9",
   "metadata": {},
   "outputs": [
    {
     "data": {
      "text/html": [
       "<div>\n",
       "<style scoped>\n",
       "    .dataframe tbody tr th:only-of-type {\n",
       "        vertical-align: middle;\n",
       "    }\n",
       "\n",
       "    .dataframe tbody tr th {\n",
       "        vertical-align: top;\n",
       "    }\n",
       "\n",
       "    .dataframe thead th {\n",
       "        text-align: right;\n",
       "    }\n",
       "</style>\n",
       "<table border=\"1\" class=\"dataframe\">\n",
       "  <thead>\n",
       "    <tr style=\"text-align: right;\">\n",
       "      <th></th>\n",
       "      <th>0</th>\n",
       "      <th>1</th>\n",
       "      <th>2</th>\n",
       "    </tr>\n",
       "  </thead>\n",
       "  <tbody>\n",
       "    <tr>\n",
       "      <th>0</th>\n",
       "      <td>james</td>\n",
       "      <td>30</td>\n",
       "      <td>programer</td>\n",
       "    </tr>\n",
       "    <tr>\n",
       "      <th>1</th>\n",
       "      <td>amy</td>\n",
       "      <td>20</td>\n",
       "      <td>studemt</td>\n",
       "    </tr>\n",
       "    <tr>\n",
       "      <th>2</th>\n",
       "      <td>david</td>\n",
       "      <td>25</td>\n",
       "      <td>designer</td>\n",
       "    </tr>\n",
       "  </tbody>\n",
       "</table>\n",
       "</div>"
      ],
      "text/plain": [
       "       0   1          2\n",
       "0  james  30  programer\n",
       "1    amy  20    studemt\n",
       "2  david  25   designer"
      ]
     },
     "execution_count": 9,
     "metadata": {},
     "output_type": "execute_result"
    }
   ],
   "source": [
    "df = pd.DataFrame([['james',30,'programer'],\n",
    "['amy',20,'studemt'],\n",
    "['david',25,'designer']])\n",
    "\n",
    "df\n",
    "\n",
    "# 컬럼명을 전달하지 않은 경우,\n",
    "# 0부터 시작하는 정수로 index가 설정된다. "
   ]
  },
  {
   "cell_type": "code",
   "execution_count": 22,
   "id": "3697f3e0",
   "metadata": {},
   "outputs": [
    {
     "data": {
      "text/html": [
       "<div>\n",
       "<style scoped>\n",
       "    .dataframe tbody tr th:only-of-type {\n",
       "        vertical-align: middle;\n",
       "    }\n",
       "\n",
       "    .dataframe tbody tr th {\n",
       "        vertical-align: top;\n",
       "    }\n",
       "\n",
       "    .dataframe thead th {\n",
       "        text-align: right;\n",
       "    }\n",
       "</style>\n",
       "<table border=\"1\" class=\"dataframe\">\n",
       "  <thead>\n",
       "    <tr style=\"text-align: right;\">\n",
       "      <th></th>\n",
       "      <th>name</th>\n",
       "      <th>age</th>\n",
       "      <th>job</th>\n",
       "    </tr>\n",
       "  </thead>\n",
       "  <tbody>\n",
       "    <tr>\n",
       "      <th>a</th>\n",
       "      <td>james</td>\n",
       "      <td>30</td>\n",
       "      <td>programer</td>\n",
       "    </tr>\n",
       "    <tr>\n",
       "      <th>b</th>\n",
       "      <td>amy</td>\n",
       "      <td>20</td>\n",
       "      <td>studemt</td>\n",
       "    </tr>\n",
       "    <tr>\n",
       "      <th>c</th>\n",
       "      <td>david</td>\n",
       "      <td>25</td>\n",
       "      <td>designer</td>\n",
       "    </tr>\n",
       "  </tbody>\n",
       "</table>\n",
       "</div>"
      ],
      "text/plain": [
       "    name  age        job\n",
       "a  james   30  programer\n",
       "b    amy   20    studemt\n",
       "c  david   25   designer"
      ]
     },
     "execution_count": 22,
     "metadata": {},
     "output_type": "execute_result"
    }
   ],
   "source": [
    "df = pd.DataFrame([\n",
    "    ['james',30,'programer'],\n",
    "    ['amy',20,'studemt'],\n",
    "    ['david',25,'designer']],\n",
    "    columns=['name','age','job'],\n",
    "    index=['a','b','c'])\n",
    "df"
   ]
  },
  {
   "cell_type": "markdown",
   "id": "e4ea15ff",
   "metadata": {},
   "source": [
    "## 딕셔너리로 만들기"
   ]
  },
  {
   "cell_type": "code",
   "execution_count": 21,
   "id": "9abcce03",
   "metadata": {},
   "outputs": [
    {
     "data": {
      "text/html": [
       "<div>\n",
       "<style scoped>\n",
       "    .dataframe tbody tr th:only-of-type {\n",
       "        vertical-align: middle;\n",
       "    }\n",
       "\n",
       "    .dataframe tbody tr th {\n",
       "        vertical-align: top;\n",
       "    }\n",
       "\n",
       "    .dataframe thead th {\n",
       "        text-align: right;\n",
       "    }\n",
       "</style>\n",
       "<table border=\"1\" class=\"dataframe\">\n",
       "  <thead>\n",
       "    <tr style=\"text-align: right;\">\n",
       "      <th></th>\n",
       "      <th>name</th>\n",
       "      <th>age</th>\n",
       "      <th>job</th>\n",
       "    </tr>\n",
       "  </thead>\n",
       "  <tbody>\n",
       "    <tr>\n",
       "      <th>a</th>\n",
       "      <td>james</td>\n",
       "      <td>30</td>\n",
       "      <td>programer</td>\n",
       "    </tr>\n",
       "    <tr>\n",
       "      <th>b</th>\n",
       "      <td>amy</td>\n",
       "      <td>20</td>\n",
       "      <td>studemt</td>\n",
       "    </tr>\n",
       "    <tr>\n",
       "      <th>c</th>\n",
       "      <td>david</td>\n",
       "      <td>25</td>\n",
       "      <td>designer</td>\n",
       "    </tr>\n",
       "  </tbody>\n",
       "</table>\n",
       "</div>"
      ],
      "text/plain": [
       "    name  age        job\n",
       "a  james   30  programer\n",
       "b    amy   20    studemt\n",
       "c  david   25   designer"
      ]
     },
     "execution_count": 21,
     "metadata": {},
     "output_type": "execute_result"
    }
   ],
   "source": [
    "df = pd.DataFrame({\n",
    "    'name':['james','amy','david'],\n",
    "    'age':[30,20,25],\n",
    "    'job':['programer','studemt','designer']},\n",
    "    index = ['a','b','c']\n",
    ")\n",
    "df"
   ]
  },
  {
   "cell_type": "markdown",
   "id": "a4f7c7bd",
   "metadata": {},
   "source": [
    "## csv 파일에서 데이터를 읽어와 만들기\n",
    "* pd.read_csv(파일경로)\n",
    "* csvc파일"
   ]
  },
  {
   "cell_type": "code",
   "execution_count": null,
   "id": "3dca2563",
   "metadata": {},
   "outputs": [],
   "source": [
    "# df = pd.read_csv('data/scores.csv')"
   ]
  }
 ],
 "metadata": {
  "kernelspec": {
   "display_name": "Python 3 (ipykernel)",
   "language": "python",
   "name": "python3"
  },
  "language_info": {
   "codemirror_mode": {
    "name": "ipython",
    "version": 3
   },
   "file_extension": ".py",
   "mimetype": "text/x-python",
   "name": "python",
   "nbconvert_exporter": "python",
   "pygments_lexer": "ipython3",
   "version": "3.11.5"
  },
  "toc": {
   "base_numbering": 1,
   "nav_menu": {},
   "number_sections": true,
   "sideBar": true,
   "skip_h1_title": false,
   "title_cell": "Table of Contents",
   "title_sidebar": "Contents",
   "toc_cell": false,
   "toc_position": {},
   "toc_section_display": true,
   "toc_window_display": false
  }
 },
 "nbformat": 4,
 "nbformat_minor": 5
}
