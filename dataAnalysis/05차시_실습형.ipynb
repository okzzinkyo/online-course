{
 "cells": [
  {
   "cell_type": "code",
   "execution_count": 8,
   "id": "452f30d0",
   "metadata": {},
   "outputs": [
    {
     "name": "stdout",
     "output_type": "stream",
     "text": [
      "단을 입력하세요.7\n",
      "7*9 = 63\n",
      "7*8 = 56\n",
      "7*7 = 49\n",
      "7*6 = 42\n",
      "7*5 = 35\n",
      "7*4 = 28\n",
      "7*3 = 21\n",
      "7*2 = 14\n",
      "7*1 = 7\n"
     ]
    }
   ],
   "source": [
    "number = int(input('단을 입력하세요.'))\n",
    "for i in range(9,0,-1) :\n",
    "    print(f'{number}*{i} = {number*i}')"
   ]
  },
  {
   "cell_type": "code",
   "execution_count": null,
   "id": "316c22e3",
   "metadata": {},
   "outputs": [],
   "source": []
  }
 ],
 "metadata": {
  "kernelspec": {
   "display_name": "Python 3 (ipykernel)",
   "language": "python",
   "name": "python3"
  },
  "language_info": {
   "codemirror_mode": {
    "name": "ipython",
    "version": 3
   },
   "file_extension": ".py",
   "mimetype": "text/x-python",
   "name": "python",
   "nbconvert_exporter": "python",
   "pygments_lexer": "ipython3",
   "version": "3.11.5"
  },
  "toc": {
   "base_numbering": 1,
   "nav_menu": {},
   "number_sections": true,
   "sideBar": true,
   "skip_h1_title": false,
   "title_cell": "Table of Contents",
   "title_sidebar": "Contents",
   "toc_cell": false,
   "toc_position": {},
   "toc_section_display": true,
   "toc_window_display": false
  }
 },
 "nbformat": 4,
 "nbformat_minor": 5
}
