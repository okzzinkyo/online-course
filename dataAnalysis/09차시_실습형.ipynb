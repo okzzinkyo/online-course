{
 "cells": [
  {
   "cell_type": "markdown",
   "id": "dc81c610",
   "metadata": {},
   "source": [
    "* Q. 이름에 아무것도 입력하지 않고 엔터를 칠 때까지 반복하여 이름, 전화번호를 입력받아 딕셔너리에 저장하고, 저장이 끝나면 딕셔너리를 출력하시오.\n",
    "* 딕셔너리에 저장할 때, 이름을 key, 전화번호를 value로 저장한다."
   ]
  },
  {
   "cell_type": "code",
   "execution_count": 2,
   "id": "7242a822",
   "metadata": {},
   "outputs": [
    {
     "name": "stdout",
     "output_type": "stream",
     "text": [
      "이름:홍길동\n",
      "전화번호:010-123-4567\n",
      "이름:홍길은\n",
      "전화번호:010-234-5678\n",
      "이름:홍길순\n",
      "전화번호:010-345-6789\n",
      "이름:\n",
      "{'홍길동': '010-123-4567', '홍길은': '010-234-5678', '홍길순': '010-345-6789'}\n"
     ]
    }
   ],
   "source": [
    "userInfo = {}\n",
    "\n",
    "while True :\n",
    "    inputName = input('이름:')\n",
    "    \n",
    "    if inputName == '' :\n",
    "        break\n",
    "        \n",
    "    inputPhoneNumber = input('전화번호:')\n",
    "    \n",
    "    userInfo[inputName] = inputPhoneNumber\n",
    "    \n",
    "print(dict(userInfo))\n",
    "    "
   ]
  },
  {
   "cell_type": "code",
   "execution_count": null,
   "id": "30fe4d32",
   "metadata": {},
   "outputs": [],
   "source": []
  }
 ],
 "metadata": {
  "kernelspec": {
   "display_name": "Python 3 (ipykernel)",
   "language": "python",
   "name": "python3"
  },
  "language_info": {
   "codemirror_mode": {
    "name": "ipython",
    "version": 3
   },
   "file_extension": ".py",
   "mimetype": "text/x-python",
   "name": "python",
   "nbconvert_exporter": "python",
   "pygments_lexer": "ipython3",
   "version": "3.11.5"
  },
  "toc": {
   "base_numbering": 1,
   "nav_menu": {},
   "number_sections": true,
   "sideBar": true,
   "skip_h1_title": false,
   "title_cell": "Table of Contents",
   "title_sidebar": "Contents",
   "toc_cell": false,
   "toc_position": {},
   "toc_section_display": true,
   "toc_window_display": false
  }
 },
 "nbformat": 4,
 "nbformat_minor": 5
}
