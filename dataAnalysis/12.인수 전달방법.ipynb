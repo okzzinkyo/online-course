{
 "cells": [
  {
   "cell_type": "markdown",
   "id": "50d6b844",
   "metadata": {},
   "source": [
    "* 위치 인수"
   ]
  },
  {
   "cell_type": "code",
   "execution_count": 28,
   "id": "1fecae54",
   "metadata": {},
   "outputs": [
    {
     "name": "stdout",
     "output_type": "stream",
     "text": [
      "홍길동님 안녕하세요\n",
      "홍길동님 다음에 또 뵐게요\n"
     ]
    }
   ],
   "source": [
    "def hi(name,msg):\n",
    "    return f'{name}님 {msg}'\n",
    "\n",
    "print(hi('홍길동', \"안녕하세요\"))\n",
    "print(hi('홍길동', \"다음에 또 뵐게요\"))"
   ]
  },
  {
   "cell_type": "markdown",
   "id": "767d4ad5",
   "metadata": {},
   "source": [
    "* 디폴트 인수"
   ]
  },
  {
   "cell_type": "code",
   "execution_count": 25,
   "id": "23a4133e",
   "metadata": {},
   "outputs": [
    {
     "name": "stdout",
     "output_type": "stream",
     "text": [
      "홍길동님 안녕하세요\n",
      "홍길동님 다음에 또 뵐게요\n"
     ]
    }
   ],
   "source": [
    "def hi(name,msg='안녕하세요'):\n",
    "    return f'{name}님 {msg}'\n",
    "\n",
    "print(hi('홍길동'))\n",
    "print(hi('홍길동', \"다음에 또 뵐게요\"))"
   ]
  },
  {
   "cell_type": "markdown",
   "id": "d89ea0f2",
   "metadata": {},
   "source": [
    "* 키워드 인수"
   ]
  },
  {
   "cell_type": "code",
   "execution_count": 6,
   "id": "6b64e6b9",
   "metadata": {},
   "outputs": [
    {
     "name": "stdout",
     "output_type": "stream",
     "text": [
      "-20\n",
      "-20\n"
     ]
    }
   ],
   "source": [
    "# 함수를 호출할 때 인수의 이름을 명시하면, 순서를 바꾸어 전달할 수 있다.\n",
    "\n",
    "def get_minus(x,y,z) :\n",
    "    return x-y-z\n",
    "\n",
    "print(get_minus(5,10,15))\n",
    "print(get_minus(5,z=15,y=10))"
   ]
  },
  {
   "cell_type": "markdown",
   "id": "691881de",
   "metadata": {},
   "source": [
    "* 가변 인수"
   ]
  },
  {
   "cell_type": "code",
   "execution_count": 10,
   "id": "4c757cf7",
   "metadata": {},
   "outputs": [
    {
     "data": {
      "text/plain": [
       "3.0"
      ]
     },
     "execution_count": 10,
     "metadata": {},
     "output_type": "execute_result"
    }
   ],
   "source": [
    "# 가변적인 수를 하나의 리스트/튜플로 받아서 수의 평균을 리턴히는 함수\n",
    "\n",
    "def average(args) :\n",
    "    return sum(args)/len(args)\n",
    "\n",
    "average([1,2,3])\n",
    "average([1,2,3,4,5])"
   ]
  },
  {
   "cell_type": "code",
   "execution_count": 17,
   "id": "11d9d188",
   "metadata": {},
   "outputs": [
    {
     "name": "stdout",
     "output_type": "stream",
     "text": [
      "(1, 2, 3)\n",
      "(1, 2, 3, 4, 5)\n"
     ]
    },
    {
     "data": {
      "text/plain": [
       "3.0"
      ]
     },
     "execution_count": 17,
     "metadata": {},
     "output_type": "execute_result"
    }
   ],
   "source": [
    "# 매개변수에 \"*\"를 붙이면 여러개의 인수를 하나의 튜플로 받는다.\n",
    "# 인수의 갯수는 가변적이다.\n",
    "\n",
    "def average(*args) :\n",
    "#     print(args)\n",
    "    return sum(args)/len(args)\n",
    "\n",
    "average(1,2,3)\n",
    "average(1,2,3,4,5) "
   ]
  },
  {
   "cell_type": "code",
   "execution_count": null,
   "id": "10c1bb44",
   "metadata": {},
   "outputs": [],
   "source": [
    "print"
   ]
  }
 ],
 "metadata": {
  "kernelspec": {
   "display_name": "Python 3 (ipykernel)",
   "language": "python",
   "name": "python3"
  },
  "language_info": {
   "codemirror_mode": {
    "name": "ipython",
    "version": 3
   },
   "file_extension": ".py",
   "mimetype": "text/x-python",
   "name": "python",
   "nbconvert_exporter": "python",
   "pygments_lexer": "ipython3",
   "version": "3.11.5"
  },
  "toc": {
   "base_numbering": 1,
   "nav_menu": {},
   "number_sections": true,
   "sideBar": true,
   "skip_h1_title": false,
   "title_cell": "Table of Contents",
   "title_sidebar": "Contents",
   "toc_cell": false,
   "toc_position": {},
   "toc_section_display": true,
   "toc_window_display": false
  }
 },
 "nbformat": 4,
 "nbformat_minor": 5
}
