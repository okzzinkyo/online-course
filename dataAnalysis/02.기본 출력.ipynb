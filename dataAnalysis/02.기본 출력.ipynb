{
 "cells": [
  {
   "cell_type": "code",
   "execution_count": 1,
   "id": "fed8a6be",
   "metadata": {},
   "outputs": [
    {
     "name": "stdout",
     "output_type": "stream",
     "text": [
      "hello\n",
      "hello\n"
     ]
    }
   ],
   "source": [
    "# hello 출력하기\n",
    "print('hello')\n",
    "print(\"hello\")"
   ]
  },
  {
   "cell_type": "code",
   "execution_count": 2,
   "id": "498a0338",
   "metadata": {},
   "outputs": [
    {
     "name": "stdout",
     "output_type": "stream",
     "text": [
      "hello python\n"
     ]
    }
   ],
   "source": [
    "#hello, python 출력하기\n",
    "print('hello', 'python')"
   ]
  },
  {
   "cell_type": "code",
   "execution_count": 4,
   "id": "06c92210",
   "metadata": {},
   "outputs": [
    {
     "name": "stdout",
     "output_type": "stream",
     "text": [
      "1+1= 2\n"
     ]
    }
   ],
   "source": [
    "#계산식 출력하기(1+1=2)\n",
    "print('1+1=',1+1)"
   ]
  },
  {
   "cell_type": "markdown",
   "id": "3d4400be",
   "metadata": {},
   "source": [
    "### 구분자 지정"
   ]
  },
  {
   "cell_type": "code",
   "execution_count": 6,
   "id": "87d92ae4",
   "metadata": {
    "scrolled": true
   },
   "outputs": [
    {
     "name": "stdout",
     "output_type": "stream",
     "text": [
      "python java c++\n",
      "python,java,c++\n"
     ]
    }
   ],
   "source": [
    "# ,로 구분\n",
    "print('python','java','c++')\n",
    "print('python','java','c++',sep=',')"
   ]
  },
  {
   "cell_type": "code",
   "execution_count": 8,
   "id": "f0c680a4",
   "metadata": {
    "scrolled": true
   },
   "outputs": [
    {
     "name": "stdout",
     "output_type": "stream",
     "text": [
      "1+1=2\n"
     ]
    }
   ],
   "source": [
    "# 공백없이 붙여서 출력\n",
    "print('1+1=',1+1,sep=\"\")"
   ]
  },
  {
   "cell_type": "markdown",
   "id": "7ebdef6a",
   "metadata": {},
   "source": [
    "### 끝문자 지정"
   ]
  },
  {
   "cell_type": "code",
   "execution_count": 10,
   "id": "bc3eeda2",
   "metadata": {},
   "outputs": [
    {
     "name": "stdout",
     "output_type": "stream",
     "text": [
      "안녕하세요 반갑습니다.\n"
     ]
    }
   ],
   "source": [
    "# 공백으로 끝내기\n",
    "print('안녕하세요', end=' ')\n",
    "print('반갑습니다.')"
   ]
  },
  {
   "cell_type": "code",
   "execution_count": 11,
   "id": "6fa04ce7",
   "metadata": {},
   "outputs": [
    {
     "name": "stdout",
     "output_type": "stream",
     "text": [
      "안녕하세요!!반갑습니다!!"
     ]
    }
   ],
   "source": [
    "# 느낌표(!)로 끝내기\n",
    "print('안녕하세요', end='!!')\n",
    "print('반갑습니다',end='!!')"
   ]
  },
  {
   "cell_type": "markdown",
   "id": "ffce162d",
   "metadata": {},
   "source": [
    "### 여러 줄 한 번에 출력하기"
   ]
  },
  {
   "cell_type": "code",
   "execution_count": 12,
   "id": "1cbea50f",
   "metadata": {},
   "outputs": [
    {
     "name": "stdout",
     "output_type": "stream",
     "text": [
      "\n",
      "안녕하세요\n",
      "항ㄴㄹㅇ;ㅇ닐;\n",
      "ㅈㅈㅈㅈ\n",
      "\n"
     ]
    }
   ],
   "source": [
    "print('''\n",
    "안녕하세요\n",
    "항ㄴㄹㅇ;ㅇ닐;\n",
    "ㅈㅈㅈㅈ\n",
    "''')"
   ]
  }
 ],
 "metadata": {
  "kernelspec": {
   "display_name": "Python 3 (ipykernel)",
   "language": "python",
   "name": "python3"
  },
  "language_info": {
   "codemirror_mode": {
    "name": "ipython",
    "version": 3
   },
   "file_extension": ".py",
   "mimetype": "text/x-python",
   "name": "python",
   "nbconvert_exporter": "python",
   "pygments_lexer": "ipython3",
   "version": "3.11.5"
  },
  "toc": {
   "base_numbering": 1,
   "nav_menu": {},
   "number_sections": true,
   "sideBar": true,
   "skip_h1_title": false,
   "title_cell": "Table of Contents",
   "title_sidebar": "Contents",
   "toc_cell": false,
   "toc_position": {},
   "toc_section_display": true,
   "toc_window_display": false
  }
 },
 "nbformat": 4,
 "nbformat_minor": 5
}
