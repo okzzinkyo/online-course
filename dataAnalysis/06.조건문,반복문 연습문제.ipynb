{
 "cells": [
  {
   "cell_type": "markdown",
   "id": "68635309",
   "metadata": {},
   "source": [
    "* 1~100 사이의 정답 숫자를 랜덤으로 하나 정하고, 정답 숫자를 맞출 때까지 숫자를 입력하는 게임\n",
    "* 내가 입력한 숫자가 정답보다 작으면 'DOWN', 정답보다 크면 'UP' 출력하고 숫자를 다시 입력받는다.\n",
    "* 정답을 맞추면 '정답!'이라고 출력하고 게임을 끝낸다."
   ]
  },
  {
   "cell_type": "code",
   "execution_count": 1,
   "id": "2da18e4e",
   "metadata": {},
   "outputs": [
    {
     "name": "stdout",
     "output_type": "stream",
     "text": [
      "31\n",
      "예상숫자:5\n",
      "UP\n",
      "예상숫자:10\n",
      "UP\n",
      "예상숫자:8\n",
      "UP\n",
      "예상숫자:8\n",
      "UP\n",
      "예상숫자:90\n",
      "DOWN\n",
      "예상숫자:31\n",
      "정답!\n"
     ]
    }
   ],
   "source": [
    "# 정답 숫자 생성\n",
    "import random\n",
    "num = random.randrange(1,100)\n",
    "print(num)\n",
    "\n",
    "while True :\n",
    "    answer = int(input('예상숫자:'))\n",
    "    if num == answer :\n",
    "        print('정답!')\n",
    "        break\n",
    "    if num > answer :\n",
    "        print('UP')\n",
    "    elif num < answer :\n",
    "        print('DOWN')"
   ]
  },
  {
   "cell_type": "markdown",
   "id": "fba4cc43",
   "metadata": {},
   "source": [
    "* 기회는 5번만 주어진다.\n",
    "* 5회가 넘으면 '횟수초과' 메세지와 함께 정답을 알려준다\n",
    "* 정답을 맞추면 몇번째에 맞추었는지 출력"
   ]
  },
  {
   "cell_type": "code",
   "execution_count": 2,
   "id": "d26c68f9",
   "metadata": {},
   "outputs": [
    {
     "name": "stdout",
     "output_type": "stream",
     "text": [
      "60\n",
      "예상숫자:50\n",
      "UP\n",
      "예상숫자:40\n",
      "UP\n",
      "예상숫자:60\n",
      "정답!\n",
      "3번반에 맞추었습니다.\n"
     ]
    }
   ],
   "source": [
    "# 횟수\n",
    "cnt = 0\n",
    "\n",
    "# 정답 숫자 생성\n",
    "import random\n",
    "num = random.randrange(1,100)\n",
    "print(num)\n",
    "\n",
    "while True :\n",
    "    \n",
    "    cnt += 1\n",
    "    if cnt > 5 :\n",
    "        print('횟수초과: 정답은',num)\n",
    "        break\n",
    "        \n",
    "    answer = int(input('예상숫자:'))\n",
    "    if num == answer :\n",
    "        print('정답!')\n",
    "        print(f'{cnt}번반에 맞추었습니다.')\n",
    "        break\n",
    "    \n",
    "    if num > answer :\n",
    "        print('UP')\n",
    "    elif num < answer :\n",
    "        print('DOWN')"
   ]
  },
  {
   "cell_type": "markdown",
   "id": "13f3ce1f",
   "metadata": {},
   "source": [
    "* 두 수와 사칙연산기호(+,-,*,/)을 입력받아 연산 기호에 따라 연산 결과를 출력하는 프로그램\n",
    "* 사칙연산기호가 아닌 경우 '잘못입력하셨습니다'출력"
   ]
  },
  {
   "cell_type": "code",
   "execution_count": 3,
   "id": "a0bb5ce9",
   "metadata": {},
   "outputs": [
    {
     "name": "stdout",
     "output_type": "stream",
     "text": [
      "숫자1:4\n",
      "숫자2:8\n",
      "연산기호:-\n",
      "4-8=-4\n"
     ]
    }
   ],
   "source": [
    "num1 = int(input('숫자1:'))\n",
    "num2 = int(input('숫자2:'))\n",
    "op = input('연산기호:')\n",
    "\n",
    "if op=='+':\n",
    "    print(f'{num1}+{num2}={num1+num2}')\n",
    "elif op=='-':\n",
    "    print(f'{num1}-{num2}={num1-num2}')\n",
    "elif op=='*':\n",
    "    print(f'{num1}*{num2}={num1*num2}')    \n",
    "elif op=='/':\n",
    "    print(f'{num1}/{num2}={num1/num2}')\n",
    "else :\n",
    "    print('잘못입력하셨습니다.')"
   ]
  },
  {
   "cell_type": "markdown",
   "id": "3ad07e6f",
   "metadata": {},
   "source": [
    "* 물건 구매가를 입력받고, 금액에 따른 할인율을 계산하여 구매가,할인율,할인금액,지불금액을 출력하는 프로그램 "
   ]
  },
  {
   "cell_type": "code",
   "execution_count": 6,
   "id": "181feb52",
   "metadata": {},
   "outputs": [
    {
     "name": "stdout",
     "output_type": "stream",
     "text": [
      "물건구매가:100000\n",
      "\n",
      "구매가:100000\n",
      "할인율:10%\n",
      "할인금액:10000\n",
      "지불금액:90000\n",
      "\n"
     ]
    }
   ],
   "source": [
    "price = int(input('물건구매가:'))\n",
    "if price >= 100000 :\n",
    "    dc = 10\n",
    "elif price >= 50000 :\n",
    "    dc = 7\n",
    "elif price >= 10000 :\n",
    "    dc = 5\n",
    "else :\n",
    "    dc = 0\n",
    "print(f'''\n",
    "구매가:{price}\n",
    "할인율:{dc}%\n",
    "할인금액:{int(price*(dc/100))}\n",
    "지불금액:{int(price*(1-(dc/100)))}\n",
    "''')"
   ]
  }
 ],
 "metadata": {
  "kernelspec": {
   "display_name": "Python 3 (ipykernel)",
   "language": "python",
   "name": "python3"
  },
  "language_info": {
   "codemirror_mode": {
    "name": "ipython",
    "version": 3
   },
   "file_extension": ".py",
   "mimetype": "text/x-python",
   "name": "python",
   "nbconvert_exporter": "python",
   "pygments_lexer": "ipython3",
   "version": "3.11.5"
  },
  "toc": {
   "base_numbering": 1,
   "nav_menu": {},
   "number_sections": true,
   "sideBar": true,
   "skip_h1_title": false,
   "title_cell": "Table of Contents",
   "title_sidebar": "Contents",
   "toc_cell": false,
   "toc_position": {},
   "toc_section_display": true,
   "toc_window_display": false
  }
 },
 "nbformat": 4,
 "nbformat_minor": 5
}
