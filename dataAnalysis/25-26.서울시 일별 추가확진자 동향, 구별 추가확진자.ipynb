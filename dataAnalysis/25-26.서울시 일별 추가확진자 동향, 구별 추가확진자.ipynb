{
 "cells": [
  {
   "cell_type": "code",
   "execution_count": 1,
   "id": "fc0d3bc3",
   "metadata": {},
   "outputs": [],
   "source": [
    "import pandas as pd\n",
    "import matplotlib.pyplot as plt"
   ]
  },
  {
   "cell_type": "code",
   "execution_count": 4,
   "id": "fd8edceb",
   "metadata": {},
   "outputs": [
    {
     "data": {
      "image/png": "[encoded data removed]",
      "text/plain": [
       "<Figure size 640x480 with 1 Axes>"
      ]
     },
     "metadata": {},
     "output_type": "display_data"
    }
   ],
   "source": [
    "plt.plot([1,2,3],[4,5,6])\n",
    "plt.title('그래프')\n",
    "plt.show()"
   ]
  },
  {
   "cell_type": "code",
   "execution_count": 3,
   "id": "eff03c4d",
   "metadata": {},
   "outputs": [],
   "source": [
    "# 그래프를 노트북 안에 그리기 위해 설정\n",
    "%matplotlib inline\n",
    "\n",
    "# 필요한 패키지와 라이브러리 가져온다.\n",
    "import matplotlib as mpl\n",
    "import matplotlib.pyplot as plt\n",
    "import matplotlib.font_manager as fm\n",
    "\n",
    "# 그래프에서 마이너스 폰트 깨지는 문제에 대한 대처\n",
    "mpl.rcParams['axes.unicode_minus'] = False\n",
    "\n",
    "# 폰트 지정하기\n",
    "plt.rcParams['font.family'] = 'Gulim'"
   ]
  },
  {
   "cell_type": "code",
   "execution_count": 5,
   "id": "f9f685f8",
   "metadata": {},
   "outputs": [
    {
     "data": {
      "text/plain": [
       "['New Gulim', 'Gulim']"
      ]
     },
     "execution_count": 5,
     "metadata": {},
     "output_type": "execute_result"
    }
   ],
   "source": [
    "# 폰트 확인하기\n",
    "[f.name for f in fm.fontManager.ttflist if 'Gulim' in f.name]"
   ]
  },
  {
   "cell_type": "markdown",
   "id": "7e21859e",
   "metadata": {},
   "source": [
    "* 데이터 수집<br>\n",
    "https://data.seoul.go.kr/dataList/OA-20470/F/1/datasetView.do"
   ]
  },
  {
   "cell_type": "markdown",
   "id": "240b0473",
   "metadata": {},
   "source": [
    "# 데이터 불러오기"
   ]
  },
  {
   "cell_type": "code",
   "execution_count": 15,
   "id": "78da5e84",
   "metadata": {},
   "outputs": [],
   "source": [
    "# df = pd.read_csv('data/서울시_자치구별_코로나 확진자, 사망자 현황(일자별).csv')\n",
    "# 데이터 encoding이 안된 경우\n",
    "# df = pd.read_csv('data/서울시_자치구별_코로나 확진자, 사망자 현황(일자별).csv',encoding='cp949')\n",
    "df = pd.read_csv('data/서울시 만5세 이하 코로나19 확진자 현황(2021~2022년).csv')"
   ]
  },
  {
   "cell_type": "code",
   "execution_count": 16,
   "id": "8aff8a38",
   "metadata": {},
   "outputs": [
    {
     "data": {
      "text/html": [
       "<div>\n",
       "<style scoped>\n",
       "    .dataframe tbody tr th:only-of-type {\n",
       "        vertical-align: middle;\n",
       "    }\n",
       "\n",
       "    .dataframe tbody tr th {\n",
       "        vertical-align: top;\n",
       "    }\n",
       "\n",
       "    .dataframe thead th {\n",
       "        text-align: right;\n",
       "    }\n",
       "</style>\n",
       "<table border=\"1\" class=\"dataframe\">\n",
       "  <thead>\n",
       "    <tr style=\"text-align: right;\">\n",
       "      <th></th>\n",
       "      <th>날짜</th>\n",
       "      <th>만5세 이하 코로나19 확진자 수(명)</th>\n",
       "    </tr>\n",
       "  </thead>\n",
       "  <tbody>\n",
       "    <tr>\n",
       "      <th>0</th>\n",
       "      <td>2021-03-01</td>\n",
       "      <td>6</td>\n",
       "    </tr>\n",
       "    <tr>\n",
       "      <th>1</th>\n",
       "      <td>2021-03-02</td>\n",
       "      <td>7</td>\n",
       "    </tr>\n",
       "    <tr>\n",
       "      <th>2</th>\n",
       "      <td>2021-03-03</td>\n",
       "      <td>2</td>\n",
       "    </tr>\n",
       "    <tr>\n",
       "      <th>3</th>\n",
       "      <td>2021-03-04</td>\n",
       "      <td>1</td>\n",
       "    </tr>\n",
       "    <tr>\n",
       "      <th>4</th>\n",
       "      <td>2021-03-05</td>\n",
       "      <td>1</td>\n",
       "    </tr>\n",
       "    <tr>\n",
       "      <th>...</th>\n",
       "      <td>...</td>\n",
       "      <td>...</td>\n",
       "    </tr>\n",
       "    <tr>\n",
       "      <th>330</th>\n",
       "      <td>2022-01-27</td>\n",
       "      <td>115</td>\n",
       "    </tr>\n",
       "    <tr>\n",
       "      <th>331</th>\n",
       "      <td>2022-01-28</td>\n",
       "      <td>126</td>\n",
       "    </tr>\n",
       "    <tr>\n",
       "      <th>332</th>\n",
       "      <td>2022-01-29</td>\n",
       "      <td>144</td>\n",
       "    </tr>\n",
       "    <tr>\n",
       "      <th>333</th>\n",
       "      <td>2022-01-30</td>\n",
       "      <td>153</td>\n",
       "    </tr>\n",
       "    <tr>\n",
       "      <th>334</th>\n",
       "      <td>2022-01-31</td>\n",
       "      <td>177</td>\n",
       "    </tr>\n",
       "  </tbody>\n",
       "</table>\n",
       "<p>335 rows × 2 columns</p>\n",
       "</div>"
      ],
      "text/plain": [
       "             날짜  만5세 이하 코로나19 확진자 수(명)\n",
       "0    2021-03-01                      6\n",
       "1    2021-03-02                      7\n",
       "2    2021-03-03                      2\n",
       "3    2021-03-04                      1\n",
       "4    2021-03-05                      1\n",
       "..          ...                    ...\n",
       "330  2022-01-27                    115\n",
       "331  2022-01-28                    126\n",
       "332  2022-01-29                    144\n",
       "333  2022-01-30                    153\n",
       "334  2022-01-31                    177\n",
       "\n",
       "[335 rows x 2 columns]"
      ]
     },
     "execution_count": 16,
     "metadata": {},
     "output_type": "execute_result"
    }
   ],
   "source": [
    "df"
   ]
  },
  {
   "cell_type": "markdown",
   "id": "6e25b407",
   "metadata": {},
   "source": [
    "# 데이터 확인 및 전처리\n",
    "## 컬럼별 데이터 확인"
   ]
  },
  {
   "cell_type": "code",
   "execution_count": 18,
   "id": "6a0723ca",
   "metadata": {},
   "outputs": [],
   "source": [
    "df['컬럼명'].unique()"
   ]
  },
  {
   "cell_type": "markdown",
   "id": "735f13fa",
   "metadata": {},
   "source": [
    "## 불필요한 컬럼 삭제"
   ]
  },
  {
   "cell_type": "code",
   "execution_count": 19,
   "id": "7f9c2ba8",
   "metadata": {},
   "outputs": [],
   "source": [
    "df.drop(columns=['컬럼명리스트'],inplace=Ture)"
   ]
  },
  {
   "cell_type": "markdown",
   "id": "b25716e9",
   "metadata": {},
   "source": [
    "## 자료형 변환"
   ]
  },
  {
   "cell_type": "code",
   "execution_count": 21,
   "id": "d80ef5fb",
   "metadata": {},
   "outputs": [
    {
     "data": {
      "text/plain": [
       "날짜                       object\n",
       "만5세 이하 코로나19 확진자 수(명)     int64\n",
       "dtype: object"
      ]
     },
     "execution_count": 21,
     "metadata": {},
     "output_type": "execute_result"
    }
   ],
   "source": [
    "# 자료형 확인\n",
    "df.dtypes"
   ]
  },
  {
   "cell_type": "code",
   "execution_count": 26,
   "id": "09a0ac6f",
   "metadata": {},
   "outputs": [],
   "source": [
    "# 날짜 -> datetime\n",
    "df['날짜'] = pd.to_datetime(df['날짜'])"
   ]
  },
  {
   "cell_type": "code",
   "execution_count": 27,
   "id": "3c3e43bf",
   "metadata": {},
   "outputs": [
    {
     "data": {
      "text/plain": [
       "날짜                       datetime64[ns]\n",
       "만5세 이하 코로나19 확진자 수(명)             int64\n",
       "dtype: object"
      ]
     },
     "execution_count": 27,
     "metadata": {},
     "output_type": "execute_result"
    }
   ],
   "source": [
    "df.dtypes"
   ]
  },
  {
   "cell_type": "code",
   "execution_count": 23,
   "id": "50de0145",
   "metadata": {},
   "outputs": [
    {
     "data": {
      "text/html": [
       "<div>\n",
       "<style scoped>\n",
       "    .dataframe tbody tr th:only-of-type {\n",
       "        vertical-align: middle;\n",
       "    }\n",
       "\n",
       "    .dataframe tbody tr th {\n",
       "        vertical-align: top;\n",
       "    }\n",
       "\n",
       "    .dataframe thead th {\n",
       "        text-align: right;\n",
       "    }\n",
       "</style>\n",
       "<table border=\"1\" class=\"dataframe\">\n",
       "  <thead>\n",
       "    <tr style=\"text-align: right;\">\n",
       "      <th></th>\n",
       "      <th>날짜</th>\n",
       "      <th>만5세 이하 코로나19 확진자 수(명)</th>\n",
       "    </tr>\n",
       "  </thead>\n",
       "  <tbody>\n",
       "    <tr>\n",
       "      <th>0</th>\n",
       "      <td>False</td>\n",
       "      <td>False</td>\n",
       "    </tr>\n",
       "    <tr>\n",
       "      <th>1</th>\n",
       "      <td>False</td>\n",
       "      <td>False</td>\n",
       "    </tr>\n",
       "    <tr>\n",
       "      <th>2</th>\n",
       "      <td>False</td>\n",
       "      <td>False</td>\n",
       "    </tr>\n",
       "    <tr>\n",
       "      <th>3</th>\n",
       "      <td>False</td>\n",
       "      <td>False</td>\n",
       "    </tr>\n",
       "    <tr>\n",
       "      <th>4</th>\n",
       "      <td>False</td>\n",
       "      <td>False</td>\n",
       "    </tr>\n",
       "    <tr>\n",
       "      <th>...</th>\n",
       "      <td>...</td>\n",
       "      <td>...</td>\n",
       "    </tr>\n",
       "    <tr>\n",
       "      <th>330</th>\n",
       "      <td>False</td>\n",
       "      <td>False</td>\n",
       "    </tr>\n",
       "    <tr>\n",
       "      <th>331</th>\n",
       "      <td>False</td>\n",
       "      <td>False</td>\n",
       "    </tr>\n",
       "    <tr>\n",
       "      <th>332</th>\n",
       "      <td>False</td>\n",
       "      <td>False</td>\n",
       "    </tr>\n",
       "    <tr>\n",
       "      <th>333</th>\n",
       "      <td>False</td>\n",
       "      <td>False</td>\n",
       "    </tr>\n",
       "    <tr>\n",
       "      <th>334</th>\n",
       "      <td>False</td>\n",
       "      <td>False</td>\n",
       "    </tr>\n",
       "  </tbody>\n",
       "</table>\n",
       "<p>335 rows × 2 columns</p>\n",
       "</div>"
      ],
      "text/plain": [
       "        날짜  만5세 이하 코로나19 확진자 수(명)\n",
       "0    False                  False\n",
       "1    False                  False\n",
       "2    False                  False\n",
       "3    False                  False\n",
       "4    False                  False\n",
       "..     ...                    ...\n",
       "330  False                  False\n",
       "331  False                  False\n",
       "332  False                  False\n",
       "333  False                  False\n",
       "334  False                  False\n",
       "\n",
       "[335 rows x 2 columns]"
      ]
     },
     "execution_count": 23,
     "metadata": {},
     "output_type": "execute_result"
    }
   ],
   "source": [
    "# 역 컬럼의 value의 갯수\n",
    "df['지역'].nunique()\n",
    "# 지역 컬럼의 value 리스트\n",
    "df['지역'].unique()\n",
    "\n",
    "# 앞뒤 공백제거\n",
    "df['지역']=df['지역'].str.strip()"
   ]
  },
  {
   "cell_type": "code",
   "execution_count": null,
   "id": "832c36b3",
   "metadata": {},
   "outputs": [],
   "source": [
    "# 지역, 상태 -> category 형변환 \n",
    "# 형변환된 카테고리형 데이터에 문자열함수 적용시, 다시 문자열 형으로 변환된다.\n",
    "df['지역'] = df['지역'].astype('category')"
   ]
  },
  {
   "cell_type": "code",
   "execution_count": null,
   "id": "826e5cf0",
   "metadata": {},
   "outputs": [],
   "source": [
    "# 자료형 확인\n",
    "df.dtypes"
   ]
  },
  {
   "cell_type": "code",
   "execution_count": 28,
   "id": "c5dab3a4",
   "metadata": {},
   "outputs": [
    {
     "name": "stdout",
     "output_type": "stream",
     "text": [
      "<class 'pandas.core.frame.DataFrame'>\n",
      "RangeIndex: 335 entries, 0 to 334\n",
      "Data columns (total 2 columns):\n",
      " #   Column                 Non-Null Count  Dtype         \n",
      "---  ------                 --------------  -----         \n",
      " 0   날짜                     335 non-null    datetime64[ns]\n",
      " 1   만5세 이하 코로나19 확진자 수(명)  335 non-null    int64         \n",
      "dtypes: datetime64[ns](1), int64(1)\n",
      "memory usage: 5.4 KB\n"
     ]
    }
   ],
   "source": [
    "# 정보\n",
    "df.info()"
   ]
  },
  {
   "cell_type": "markdown",
   "id": "bef9efb9",
   "metadata": {},
   "source": [
    "## 결측치 분석"
   ]
  },
  {
   "cell_type": "code",
   "execution_count": 29,
   "id": "fcac4cae",
   "metadata": {},
   "outputs": [
    {
     "data": {
      "text/plain": [
       "날짜                       0\n",
       "만5세 이하 코로나19 확진자 수(명)    0\n",
       "dtype: int64"
      ]
     },
     "execution_count": 29,
     "metadata": {},
     "output_type": "execute_result"
    }
   ],
   "source": [
    "df.isnull().sum()"
   ]
  },
  {
   "cell_type": "markdown",
   "id": "166aad2e",
   "metadata": {},
   "source": [
    "# 구별 확진자 동향\n",
    "## 확진일-구별 확진자수 집계\n",
    "### 피봇테이블 만들기"
   ]
  },
  {
   "cell_type": "code",
   "execution_count": 32,
   "id": "84935875",
   "metadata": {},
   "outputs": [],
   "source": [
    "df_gu = pd.pivot_table(df,index='확진일',columns='지역',values='연변',aggfunc='count',margins=True)\n",
    "df_gu"
   ]
  },
  {
   "cell_type": "markdown",
   "id": "e9412eea",
   "metadata": {},
   "source": [
    "### 서울시 일별 추가확진자 동향"
   ]
  },
  {
   "cell_type": "code",
   "execution_count": null,
   "id": "24918ce2",
   "metadata": {},
   "outputs": [],
   "source": [
    "s_date = df_gu['All'][:-1]"
   ]
  },
  {
   "cell_type": "code",
   "execution_count": 35,
   "id": "975dee45",
   "metadata": {},
   "outputs": [],
   "source": [
    "# 서울시 일별 추가확진자가 많았던 순으로 보기\n",
    "s_date.sort_values(ascending=False)"
   ]
  },
  {
   "cell_type": "code",
   "execution_count": 36,
   "id": "29048c7e",
   "metadata": {},
   "outputs": [],
   "source": [
    "# 서울시 일별 추가확진자 시각화\n",
    "x=s_date.index\n",
    "y=s_date.values\n",
    "plt.plot(x,y)\n",
    "plt.title('서울시 일별 추가확진자(2021.09.28)')\n",
    "plt.xlabel('확진일')\n",
    "plt.ylabel('추가확진자수')\n",
    "plt.xticks(rotation=45)\n",
    "plt.show()"
   ]
  },
  {
   "cell_type": "markdown",
   "id": "eeff4686",
   "metadata": {},
   "source": [
    "### 서울시 구별 누적확진자 비교"
   ]
  },
  {
   "cell_type": "code",
   "execution_count": 39,
   "id": "afb18d8f",
   "metadata": {},
   "outputs": [],
   "source": [
    "# 서울시 구별 추가확진자가 많았던 순으로 보기\n",
    "s_gu = df_gu.loc['All'][:-1]\n",
    "s_gu = s_gu.sort_values(ascending=False) : 내림차순 정렬 "
   ]
  },
  {
   "cell_type": "code",
   "execution_count": 43,
   "id": "536c7dc5",
   "metadata": {},
   "outputs": [],
   "source": [
    "# 서울시 구별 누적확진자 많은 순으로 시각화\n",
    "x = s_gu.index\n",
    "y = s_gu.values\n",
    "\n",
    "plt.figure(ftgsize=(10,7)) \n",
    "# => 가로 10 세로 7로 label 사이즈 변경 반드시 그래프 그리기 전에 호출해야한다.\n",
    "\n",
    "plt.bar(x,y) : 세로\n",
    "plt.barh(x,y) : 가로\n",
    "\n",
    "plt.title('서울시 구별 추가확진자(2021.09.28)')"
   ]
  },
  {
   "cell_type": "markdown",
   "id": "458117f4",
   "metadata": {},
   "source": [
    "### 최근일 기준 지역별 추가확진자"
   ]
  },
  {
   "cell_type": "code",
   "execution_count": 51,
   "id": "e523b112",
   "metadata": {},
   "outputs": [],
   "source": [
    "# s_gu = df_gu.iloc[-2][:-1] : 마지막 All 행 제거\n",
    "# s_gu = s_gu.sort_values(ascending=False)"
   ]
  },
  {
   "cell_type": "code",
   "execution_count": null,
   "id": "1ed46c6a",
   "metadata": {},
   "outputs": [],
   "source": [
    "x=s_gu.index\n",
    "y=s_gu.values\n",
    "plt.figure(ftgsize=(10,7))\n",
    "plt.barh(x,y)\n",
    "plt.show()"
   ]
  },
  {
   "cell_type": "markdown",
   "id": "c39bf0d3",
   "metadata": {},
   "source": [
    "## 접촉력에 따른 확진 분석"
   ]
  },
  {
   "cell_type": "markdown",
   "id": "a811b7f2",
   "metadata": {},
   "source": [
    "### 접촉력에 따른 확진 건수 best10"
   ]
  },
  {
   "cell_type": "code",
   "execution_count": null,
   "id": "c1f6a39b",
   "metadata": {},
   "outputs": [],
   "source": [
    "# 값이 몇개가 있는지 알고 싶으면 value_counts() => value가 높은 순으로 sort 됨\n",
    "df['접촉력'].value_counts()[:10].to_frame()"
   ]
  },
  {
   "cell_type": "markdown",
   "id": "23e40c26",
   "metadata": {},
   "source": [
    "### 최군월에 접촉력에 따른 확진 건수 best10\n",
    "* 2021-09"
   ]
  },
  {
   "cell_type": "code",
   "execution_count": null,
   "id": "0b0e7de4",
   "metadata": {},
   "outputs": [],
   "source": [
    "dt[(df['확진일'].dt.year == 2021) & (df['확진일'].dt.month == 9)]['접촉력'].value_counts()[:10].to_frame()"
   ]
  }
 ],
 "metadata": {
  "kernelspec": {
   "display_name": "Python 3 (ipykernel)",
   "language": "python",
   "name": "python3"
  },
  "language_info": {
   "codemirror_mode": {
    "name": "ipython",
    "version": 3
   },
   "file_extension": ".py",
   "mimetype": "text/x-python",
   "name": "python",
   "nbconvert_exporter": "python",
   "pygments_lexer": "ipython3",
   "version": "3.11.5"
  },
  "toc": {
   "base_numbering": 1,
   "nav_menu": {},
   "number_sections": true,
   "sideBar": true,
   "skip_h1_title": false,
   "title_cell": "Table of Contents",
   "title_sidebar": "Contents",
   "toc_cell": false,
   "toc_position": {},
   "toc_section_display": true,
   "toc_window_display": false
  }
 },
 "nbformat": 4,
 "nbformat_minor": 5
}
