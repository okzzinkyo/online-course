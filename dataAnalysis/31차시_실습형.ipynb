{
 "cells": [
  {
   "cell_type": "code",
   "execution_count": 3,
   "id": "6a757919",
   "metadata": {
    "scrolled": false
   },
   "outputs": [
    {
     "data": {
      "text/html": [
       "<div>\n",
       "<style scoped>\n",
       "    .dataframe tbody tr th:only-of-type {\n",
       "        vertical-align: middle;\n",
       "    }\n",
       "\n",
       "    .dataframe tbody tr th {\n",
       "        vertical-align: top;\n",
       "    }\n",
       "\n",
       "    .dataframe thead th {\n",
       "        text-align: right;\n",
       "    }\n",
       "</style>\n",
       "<table border=\"1\" class=\"dataframe\">\n",
       "  <thead>\n",
       "    <tr style=\"text-align: right;\">\n",
       "      <th></th>\n",
       "      <th>사용월</th>\n",
       "      <th>호선명</th>\n",
       "      <th>지하철역</th>\n",
       "      <th>04시-05시 승차인원</th>\n",
       "      <th>04시-05시 하차인원</th>\n",
       "      <th>05시-06시 승차인원</th>\n",
       "      <th>05시-06시 하차인원</th>\n",
       "      <th>06시-07시 승차인원</th>\n",
       "      <th>06시-07시 하차인원</th>\n",
       "      <th>07시-08시 승차인원</th>\n",
       "      <th>...</th>\n",
       "      <th>23시-24시 하차인원</th>\n",
       "      <th>00시-01시 승차인원</th>\n",
       "      <th>00시-01시 하차인원</th>\n",
       "      <th>01시-02시 승차인원</th>\n",
       "      <th>01시-02시 하차인원</th>\n",
       "      <th>02시-03시 승차인원</th>\n",
       "      <th>02시-03시 하차인원</th>\n",
       "      <th>03시-04시 승차인원</th>\n",
       "      <th>03시-04시 하차인원</th>\n",
       "      <th>작업일자</th>\n",
       "    </tr>\n",
       "  </thead>\n",
       "  <tbody>\n",
       "    <tr>\n",
       "      <th>0</th>\n",
       "      <td>202108</td>\n",
       "      <td>1호선</td>\n",
       "      <td>동대문</td>\n",
       "      <td>415</td>\n",
       "      <td>11</td>\n",
       "      <td>10380</td>\n",
       "      <td>1815</td>\n",
       "      <td>7880</td>\n",
       "      <td>5352</td>\n",
       "      <td>12037</td>\n",
       "      <td>...</td>\n",
       "      <td>5983</td>\n",
       "      <td>7</td>\n",
       "      <td>1043</td>\n",
       "      <td>2</td>\n",
       "      <td>2</td>\n",
       "      <td>0</td>\n",
       "      <td>2</td>\n",
       "      <td>0</td>\n",
       "      <td>0</td>\n",
       "      <td>20210903</td>\n",
       "    </tr>\n",
       "    <tr>\n",
       "      <th>1</th>\n",
       "      <td>202108</td>\n",
       "      <td>1호선</td>\n",
       "      <td>동묘앞</td>\n",
       "      <td>84</td>\n",
       "      <td>3</td>\n",
       "      <td>2861</td>\n",
       "      <td>918</td>\n",
       "      <td>3286</td>\n",
       "      <td>4614</td>\n",
       "      <td>5128</td>\n",
       "      <td>...</td>\n",
       "      <td>1759</td>\n",
       "      <td>4</td>\n",
       "      <td>827</td>\n",
       "      <td>0</td>\n",
       "      <td>0</td>\n",
       "      <td>0</td>\n",
       "      <td>0</td>\n",
       "      <td>0</td>\n",
       "      <td>0</td>\n",
       "      <td>20210903</td>\n",
       "    </tr>\n",
       "    <tr>\n",
       "      <th>2</th>\n",
       "      <td>202108</td>\n",
       "      <td>1호선</td>\n",
       "      <td>서울역</td>\n",
       "      <td>483</td>\n",
       "      <td>11</td>\n",
       "      <td>7963</td>\n",
       "      <td>5533</td>\n",
       "      <td>10871</td>\n",
       "      <td>31479</td>\n",
       "      <td>31643</td>\n",
       "      <td>...</td>\n",
       "      <td>4968</td>\n",
       "      <td>21</td>\n",
       "      <td>444</td>\n",
       "      <td>1</td>\n",
       "      <td>1</td>\n",
       "      <td>0</td>\n",
       "      <td>0</td>\n",
       "      <td>0</td>\n",
       "      <td>0</td>\n",
       "      <td>20210903</td>\n",
       "    </tr>\n",
       "    <tr>\n",
       "      <th>3</th>\n",
       "      <td>202108</td>\n",
       "      <td>1호선</td>\n",
       "      <td>시청</td>\n",
       "      <td>6</td>\n",
       "      <td>0</td>\n",
       "      <td>1597</td>\n",
       "      <td>4399</td>\n",
       "      <td>2727</td>\n",
       "      <td>17957</td>\n",
       "      <td>5971</td>\n",
       "      <td>...</td>\n",
       "      <td>822</td>\n",
       "      <td>3</td>\n",
       "      <td>72</td>\n",
       "      <td>0</td>\n",
       "      <td>2</td>\n",
       "      <td>0</td>\n",
       "      <td>0</td>\n",
       "      <td>0</td>\n",
       "      <td>0</td>\n",
       "      <td>20210903</td>\n",
       "    </tr>\n",
       "    <tr>\n",
       "      <th>4</th>\n",
       "      <td>202108</td>\n",
       "      <td>1호선</td>\n",
       "      <td>신설동</td>\n",
       "      <td>247</td>\n",
       "      <td>6</td>\n",
       "      <td>6828</td>\n",
       "      <td>2721</td>\n",
       "      <td>7333</td>\n",
       "      <td>9771</td>\n",
       "      <td>14821</td>\n",
       "      <td>...</td>\n",
       "      <td>3747</td>\n",
       "      <td>15</td>\n",
       "      <td>390</td>\n",
       "      <td>0</td>\n",
       "      <td>0</td>\n",
       "      <td>0</td>\n",
       "      <td>0</td>\n",
       "      <td>0</td>\n",
       "      <td>0</td>\n",
       "      <td>20210903</td>\n",
       "    </tr>\n",
       "  </tbody>\n",
       "</table>\n",
       "<p>5 rows × 52 columns</p>\n",
       "</div>"
      ],
      "text/plain": [
       "      사용월  호선명 지하철역  04시-05시 승차인원  04시-05시 하차인원  05시-06시 승차인원  05시-06시 하차인원  \\\n",
       "0  202108  1호선  동대문           415            11         10380          1815   \n",
       "1  202108  1호선  동묘앞            84             3          2861           918   \n",
       "2  202108  1호선  서울역           483            11          7963          5533   \n",
       "3  202108  1호선   시청             6             0          1597          4399   \n",
       "4  202108  1호선  신설동           247             6          6828          2721   \n",
       "\n",
       "   06시-07시 승차인원  06시-07시 하차인원  07시-08시 승차인원  ...  23시-24시 하차인원  00시-01시 승차인원  \\\n",
       "0          7880          5352         12037  ...          5983             7   \n",
       "1          3286          4614          5128  ...          1759             4   \n",
       "2         10871         31479         31643  ...          4968            21   \n",
       "3          2727         17957          5971  ...           822             3   \n",
       "4          7333          9771         14821  ...          3747            15   \n",
       "\n",
       "   00시-01시 하차인원  01시-02시 승차인원  01시-02시 하차인원  02시-03시 승차인원  02시-03시 하차인원  \\\n",
       "0          1043             2             2             0             2   \n",
       "1           827             0             0             0             0   \n",
       "2           444             1             1             0             0   \n",
       "3            72             0             2             0             0   \n",
       "4           390             0             0             0             0   \n",
       "\n",
       "   03시-04시 승차인원  03시-04시 하차인원      작업일자  \n",
       "0             0             0  20210903  \n",
       "1             0             0  20210903  \n",
       "2             0             0  20210903  \n",
       "3             0             0  20210903  \n",
       "4             0             0  20210903  \n",
       "\n",
       "[5 rows x 52 columns]"
      ]
     },
     "execution_count": 3,
     "metadata": {},
     "output_type": "execute_result"
    }
   ],
   "source": [
    "import pandas as pd\n",
    "df = pd.read_csv('data/서울시 지하철 호선별 역별 시간대별 승하차 인원 정보.csv', encoding='cp949')\n",
    "df.head()"
   ]
  },
  {
   "cell_type": "code",
   "execution_count": 4,
   "id": "436ec630",
   "metadata": {},
   "outputs": [
    {
     "data": {
      "text/plain": [
       "dtype('int64')"
      ]
     },
     "execution_count": 4,
     "metadata": {},
     "output_type": "execute_result"
    }
   ],
   "source": [
    "df['사용월'].dtypes"
   ]
  },
  {
   "cell_type": "markdown",
   "id": "5d516c17",
   "metadata": {},
   "source": [
    "(1) 사용월 컬럼을 문자열형으로 변경하시오."
   ]
  },
  {
   "cell_type": "code",
   "execution_count": 8,
   "id": "c36c0890",
   "metadata": {},
   "outputs": [],
   "source": [
    "df['사용월'] = df['사용월'].astype('str')"
   ]
  },
  {
   "cell_type": "markdown",
   "id": "99dda72c",
   "metadata": {},
   "source": [
    "(2) 사당역의 2021년도 데이터를 출력형식과 같이 추출하여 새로운 데이터프레임 df1을 만드시오."
   ]
  },
  {
   "cell_type": "code",
   "execution_count": 18,
   "id": "2860f17d",
   "metadata": {
    "scrolled": false
   },
   "outputs": [
    {
     "ename": "TypeError",
     "evalue": "'numpy.ndarray' object is not callable",
     "output_type": "error",
     "traceback": [
      "\u001b[1;31m---------------------------------------------------------------------------\u001b[0m",
      "\u001b[1;31mTypeError\u001b[0m                                 Traceback (most recent call last)",
      "Cell \u001b[1;32mIn[18], line 1\u001b[0m\n\u001b[1;32m----> 1\u001b[0m df[\u001b[38;5;124m'\u001b[39m\u001b[38;5;124m사용월\u001b[39m\u001b[38;5;124m'\u001b[39m]\u001b[38;5;241m.\u001b[39mvalues()\u001b[38;5;241m.\u001b[39mstartswith(\u001b[38;5;241m2021\u001b[39m)\n",
      "\u001b[1;31mTypeError\u001b[0m: 'numpy.ndarray' object is not callable"
     ]
    }
   ],
   "source": [
    "df['사용월'].values.startswith(2021)"
   ]
  },
  {
   "cell_type": "markdown",
   "id": "4715445c",
   "metadata": {},
   "source": [
    "(3) (2)의 df1에서 사용월-호선별 승차인원 집계 테이블을 생성하시오."
   ]
  },
  {
   "cell_type": "code",
   "execution_count": null,
   "id": "168422a8",
   "metadata": {},
   "outputs": [],
   "source": []
  }
 ],
 "metadata": {
  "kernelspec": {
   "display_name": "Python 3 (ipykernel)",
   "language": "python",
   "name": "python3"
  },
  "language_info": {
   "codemirror_mode": {
    "name": "ipython",
    "version": 3
   },
   "file_extension": ".py",
   "mimetype": "text/x-python",
   "name": "python",
   "nbconvert_exporter": "python",
   "pygments_lexer": "ipython3",
   "version": "3.11.5"
  },
  "toc": {
   "base_numbering": 1,
   "nav_menu": {},
   "number_sections": true,
   "sideBar": true,
   "skip_h1_title": false,
   "title_cell": "Table of Contents",
   "title_sidebar": "Contents",
   "toc_cell": false,
   "toc_position": {},
   "toc_section_display": true,
   "toc_window_display": false
  }
 },
 "nbformat": 4,
 "nbformat_minor": 5
}
