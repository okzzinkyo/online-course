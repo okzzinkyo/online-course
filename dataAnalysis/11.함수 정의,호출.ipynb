{
 "cells": [
  {
   "cell_type": "code",
   "execution_count": 3,
   "id": "f61ba440",
   "metadata": {},
   "outputs": [
    {
     "name": "stdout",
     "output_type": "stream",
     "text": [
      "안녕하세요!\n",
      "저의 이름은 파이썬입니다.\n"
     ]
    }
   ],
   "source": [
    "# 함수 정의\n",
    "def introduce():\n",
    "    print('안녕하세요!')\n",
    "    print('저의 이름은 파이썬입니다.')\n",
    "     \n",
    "# 함수 호출\n",
    "introduce()"
   ]
  },
  {
   "cell_type": "code",
   "execution_count": 12,
   "id": "bd8729c3",
   "metadata": {},
   "outputs": [
    {
     "name": "stdout",
     "output_type": "stream",
     "text": [
      "안녕하세요!\n",
      "저의 이름은, 홍길동입니다.\n"
     ]
    }
   ],
   "source": [
    "# 매개변수 전달\n",
    "def introduce2(name):\n",
    "    print('안녕하세요!')\n",
    "    print('저의 이름은, ' +name+'입니다.')\n",
    "     \n",
    "# 함수 호출\n",
    "introduce2('홍길동')"
   ]
  },
  {
   "cell_type": "code",
   "execution_count": 19,
   "id": "62b5f0a0",
   "metadata": {},
   "outputs": [
    {
     "name": "stdout",
     "output_type": "stream",
     "text": [
      "안녕하세요!\n",
      "저의 이름은, 홍길동입니다.\n",
      "나이는, 100살입니다.\n",
      "안녕하세요!\n",
      "저의 이름은, 파이썬입니다.\n",
      "나이는, 20살입니다.\n"
     ]
    }
   ],
   "source": [
    "# 매개변수 여러개 전달\n",
    "def introduce3(name, age):\n",
    "    print('안녕하세요!')\n",
    "    print('저의 이름은, ' +name+'입니다.')\n",
    "    print('나이는, ' +str(age)+'살입니다.')\n",
    "     \n",
    "# 함수 호출\n",
    "introduce3('홍길동',100)\n",
    "introduce3('파이썬',20)"
   ]
  },
  {
   "cell_type": "markdown",
   "id": "5b9329af",
   "metadata": {},
   "source": [
    "* 이름과 나이를 입력받아 생일축하 메시지를 출력하는 함수 생성\n",
    "* 생일문구: 000님의 00번째 생일을 축하합니다!!"
   ]
  },
  {
   "cell_type": "code",
   "execution_count": 23,
   "id": "b7af0c55",
   "metadata": {},
   "outputs": [
    {
     "name": "stdout",
     "output_type": "stream",
     "text": [
      "이름:옥진경\n",
      "나이:30\n",
      "옥진경님의 30번째 생일을 축하합니다!!\n"
     ]
    }
   ],
   "source": [
    "name = input('이름:')\n",
    "age = input('나이:')\n",
    "\n",
    "def happymsg(name,age) :\n",
    "    print(f'{name}님의 {age}번째 생일을 축하합니다!!')\n",
    "\n",
    "happymsg(name,age)"
   ]
  },
  {
   "cell_type": "code",
   "execution_count": null,
   "id": "59b3f4ef",
   "metadata": {},
   "outputs": [],
   "source": []
  }
 ],
 "metadata": {
  "kernelspec": {
   "display_name": "Python 3 (ipykernel)",
   "language": "python",
   "name": "python3"
  },
  "language_info": {
   "codemirror_mode": {
    "name": "ipython",
    "version": 3
   },
   "file_extension": ".py",
   "mimetype": "text/x-python",
   "name": "python",
   "nbconvert_exporter": "python",
   "pygments_lexer": "ipython3",
   "version": "3.11.5"
  },
  "toc": {
   "base_numbering": 1,
   "nav_menu": {},
   "number_sections": true,
   "sideBar": true,
   "skip_h1_title": false,
   "title_cell": "Table of Contents",
   "title_sidebar": "Contents",
   "toc_cell": false,
   "toc_position": {},
   "toc_section_display": true,
   "toc_window_display": false
  }
 },
 "nbformat": 4,
 "nbformat_minor": 5
}
