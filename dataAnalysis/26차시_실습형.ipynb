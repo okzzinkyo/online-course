{
 "cells": [
  {
   "cell_type": "code",
   "execution_count": 3,
   "id": "6a757919",
   "metadata": {
    "scrolled": false
   },
   "outputs": [
    {
     "data": {
      "text/html": [
       "<div>\n",
       "<style scoped>\n",
       "    .dataframe tbody tr th:only-of-type {\n",
       "        vertical-align: middle;\n",
       "    }\n",
       "\n",
       "    .dataframe tbody tr th {\n",
       "        vertical-align: top;\n",
       "    }\n",
       "\n",
       "    .dataframe thead th {\n",
       "        text-align: right;\n",
       "    }\n",
       "</style>\n",
       "<table border=\"1\" class=\"dataframe\">\n",
       "  <thead>\n",
       "    <tr style=\"text-align: right;\">\n",
       "      <th></th>\n",
       "      <th>일련번호</th>\n",
       "      <th>지역</th>\n",
       "      <th>업력</th>\n",
       "      <th>대출년도</th>\n",
       "      <th>대출금액(백만원)</th>\n",
       "      <th>업종</th>\n",
       "    </tr>\n",
       "  </thead>\n",
       "  <tbody>\n",
       "    <tr>\n",
       "      <th>0</th>\n",
       "      <td>1</td>\n",
       "      <td>전북</td>\n",
       "      <td>15년미만</td>\n",
       "      <td>2021</td>\n",
       "      <td>50</td>\n",
       "      <td>NaN</td>\n",
       "    </tr>\n",
       "    <tr>\n",
       "      <th>1</th>\n",
       "      <td>2</td>\n",
       "      <td>전남</td>\n",
       "      <td>20년이상</td>\n",
       "      <td>2021</td>\n",
       "      <td>100</td>\n",
       "      <td>NaN</td>\n",
       "    </tr>\n",
       "    <tr>\n",
       "      <th>2</th>\n",
       "      <td>3</td>\n",
       "      <td>인천</td>\n",
       "      <td>5년미만</td>\n",
       "      <td>2021</td>\n",
       "      <td>200</td>\n",
       "      <td>NaN</td>\n",
       "    </tr>\n",
       "    <tr>\n",
       "      <th>3</th>\n",
       "      <td>4</td>\n",
       "      <td>인천</td>\n",
       "      <td>10년미만</td>\n",
       "      <td>2021</td>\n",
       "      <td>100</td>\n",
       "      <td>NaN</td>\n",
       "    </tr>\n",
       "    <tr>\n",
       "      <th>4</th>\n",
       "      <td>5</td>\n",
       "      <td>인천</td>\n",
       "      <td>20년미만</td>\n",
       "      <td>2021</td>\n",
       "      <td>150</td>\n",
       "      <td>NaN</td>\n",
       "    </tr>\n",
       "  </tbody>\n",
       "</table>\n",
       "</div>"
      ],
      "text/plain": [
       "   일련번호  지역     업력  대출년도  대출금액(백만원)  업종\n",
       "0     1  전북  15년미만  2021         50 NaN\n",
       "1     2  전남  20년이상  2021        100 NaN\n",
       "2     3  인천   5년미만  2021        200 NaN\n",
       "3     4  인천  10년미만  2021        100 NaN\n",
       "4     5  인천  20년미만  2021        150 NaN"
      ]
     },
     "execution_count": 3,
     "metadata": {},
     "output_type": "execute_result"
    }
   ],
   "source": [
    "import pandas as pd\n",
    "df = pd.read_csv('data/중소벤처기업진흥공단_코로나19 피해기업 지원현황_20210930.csv', encoding='cp949')\n",
    "df.head()"
   ]
  },
  {
   "cell_type": "code",
   "execution_count": 7,
   "id": "1c8a7f14",
   "metadata": {},
   "outputs": [
    {
     "data": {
      "text/plain": [
       "일련번호           int64\n",
       "지역            object\n",
       "업력            object\n",
       "대출년도           int64\n",
       "대출금액(백만원)      int64\n",
       "업종           float64\n",
       "dtype: object"
      ]
     },
     "execution_count": 7,
     "metadata": {},
     "output_type": "execute_result"
    }
   ],
   "source": [
    "# 자료형 확인\n",
    "df.dtypes"
   ]
  },
  {
   "cell_type": "code",
   "execution_count": 4,
   "id": "2860f17d",
   "metadata": {
    "scrolled": false
   },
   "outputs": [
    {
     "data": {
      "text/plain": [
       "array(['전북', '전남', '인천', '경북', '경기', '경남', '대구', '충남', '강원', '광주', '제주',\n",
       "       '울산', '충북', '대전', '서울', '부산', '세종'], dtype=object)"
      ]
     },
     "execution_count": 4,
     "metadata": {},
     "output_type": "execute_result"
    }
   ],
   "source": [
    "# 지역 자료형 변경\n",
    "df['지역'].unique()"
   ]
  },
  {
   "cell_type": "code",
   "execution_count": 9,
   "id": "acf4c67b",
   "metadata": {},
   "outputs": [],
   "source": [
    "df['지역'] = df['지역'].astype('category')"
   ]
  },
  {
   "cell_type": "code",
   "execution_count": 5,
   "id": "099e08c9",
   "metadata": {},
   "outputs": [
    {
     "data": {
      "text/plain": [
       "array(['15년미만', '20년이상', '5년미만', '10년미만', '20년미만', '3년미만', '7년미만', '1년미만'],\n",
       "      dtype=object)"
      ]
     },
     "execution_count": 5,
     "metadata": {},
     "output_type": "execute_result"
    }
   ],
   "source": [
    "# 업력 자료형 변경\n",
    "df['업력'].unique()"
   ]
  },
  {
   "cell_type": "code",
   "execution_count": 10,
   "id": "825d3db7",
   "metadata": {},
   "outputs": [],
   "source": [
    "df['업력'] = df['업력'].astype('category')"
   ]
  },
  {
   "cell_type": "code",
   "execution_count": 11,
   "id": "774adab3",
   "metadata": {},
   "outputs": [
    {
     "data": {
      "text/plain": [
       "일련번호            int64\n",
       "지역           category\n",
       "업력           category\n",
       "대출년도            int64\n",
       "대출금액(백만원)       int64\n",
       "업종            float64\n",
       "dtype: object"
      ]
     },
     "execution_count": 11,
     "metadata": {},
     "output_type": "execute_result"
    }
   ],
   "source": [
    "# 자료형 확인\n",
    "df.dtypes"
   ]
  },
  {
   "cell_type": "code",
   "execution_count": 12,
   "id": "40f62f74",
   "metadata": {},
   "outputs": [
    {
     "name": "stdout",
     "output_type": "stream",
     "text": [
      "<class 'pandas.core.frame.DataFrame'>\n",
      "RangeIndex: 4024 entries, 0 to 4023\n",
      "Data columns (total 6 columns):\n",
      " #   Column     Non-Null Count  Dtype   \n",
      "---  ------     --------------  -----   \n",
      " 0   일련번호       4024 non-null   int64   \n",
      " 1   지역         4024 non-null   category\n",
      " 2   업력         4024 non-null   category\n",
      " 3   대출년도       4024 non-null   int64   \n",
      " 4   대출금액(백만원)  4024 non-null   int64   \n",
      " 5   업종         0 non-null      float64 \n",
      "dtypes: category(2), float64(1), int64(3)\n",
      "memory usage: 134.8 KB\n"
     ]
    }
   ],
   "source": [
    "# 정보\n",
    "df.info()"
   ]
  },
  {
   "cell_type": "code",
   "execution_count": 13,
   "id": "884964d5",
   "metadata": {},
   "outputs": [
    {
     "data": {
      "text/plain": [
       "일련번호            0\n",
       "지역              0\n",
       "업력              0\n",
       "대출년도            0\n",
       "대출금액(백만원)       0\n",
       "업종           4024\n",
       "dtype: int64"
      ]
     },
     "execution_count": 13,
     "metadata": {},
     "output_type": "execute_result"
    }
   ],
   "source": [
    "# 결측치 확인\n",
    "df.isnull().sum()"
   ]
  },
  {
   "cell_type": "code",
   "execution_count": 18,
   "id": "900c48f1",
   "metadata": {},
   "outputs": [
    {
     "data": {
      "text/html": [
       "<div>\n",
       "<style scoped>\n",
       "    .dataframe tbody tr th:only-of-type {\n",
       "        vertical-align: middle;\n",
       "    }\n",
       "\n",
       "    .dataframe tbody tr th {\n",
       "        vertical-align: top;\n",
       "    }\n",
       "\n",
       "    .dataframe thead th {\n",
       "        text-align: right;\n",
       "    }\n",
       "</style>\n",
       "<table border=\"1\" class=\"dataframe\">\n",
       "  <thead>\n",
       "    <tr style=\"text-align: right;\">\n",
       "      <th>업력</th>\n",
       "      <th>10년미만</th>\n",
       "      <th>15년미만</th>\n",
       "      <th>1년미만</th>\n",
       "      <th>20년미만</th>\n",
       "      <th>20년이상</th>\n",
       "      <th>3년미만</th>\n",
       "      <th>5년미만</th>\n",
       "      <th>7년미만</th>\n",
       "      <th>All</th>\n",
       "    </tr>\n",
       "    <tr>\n",
       "      <th>지역</th>\n",
       "      <th></th>\n",
       "      <th></th>\n",
       "      <th></th>\n",
       "      <th></th>\n",
       "      <th></th>\n",
       "      <th></th>\n",
       "      <th></th>\n",
       "      <th></th>\n",
       "      <th></th>\n",
       "    </tr>\n",
       "  </thead>\n",
       "  <tbody>\n",
       "    <tr>\n",
       "      <th>강원</th>\n",
       "      <td>4800</td>\n",
       "      <td>4300</td>\n",
       "      <td>370</td>\n",
       "      <td>2050</td>\n",
       "      <td>4170</td>\n",
       "      <td>1770</td>\n",
       "      <td>1230</td>\n",
       "      <td>2410</td>\n",
       "      <td>21100</td>\n",
       "    </tr>\n",
       "    <tr>\n",
       "      <th>경기</th>\n",
       "      <td>23610</td>\n",
       "      <td>23220</td>\n",
       "      <td>1170</td>\n",
       "      <td>16580</td>\n",
       "      <td>17520</td>\n",
       "      <td>13630</td>\n",
       "      <td>20070</td>\n",
       "      <td>16590</td>\n",
       "      <td>132390</td>\n",
       "    </tr>\n",
       "    <tr>\n",
       "      <th>경남</th>\n",
       "      <td>12130</td>\n",
       "      <td>11570</td>\n",
       "      <td>540</td>\n",
       "      <td>9150</td>\n",
       "      <td>7605</td>\n",
       "      <td>5090</td>\n",
       "      <td>4920</td>\n",
       "      <td>6560</td>\n",
       "      <td>57565</td>\n",
       "    </tr>\n",
       "    <tr>\n",
       "      <th>경북</th>\n",
       "      <td>9040</td>\n",
       "      <td>10130</td>\n",
       "      <td>1420</td>\n",
       "      <td>7330</td>\n",
       "      <td>10450</td>\n",
       "      <td>3130</td>\n",
       "      <td>4010</td>\n",
       "      <td>3060</td>\n",
       "      <td>48570</td>\n",
       "    </tr>\n",
       "    <tr>\n",
       "      <th>광주</th>\n",
       "      <td>4180</td>\n",
       "      <td>4410</td>\n",
       "      <td>200</td>\n",
       "      <td>4030</td>\n",
       "      <td>3180</td>\n",
       "      <td>2160</td>\n",
       "      <td>880</td>\n",
       "      <td>1960</td>\n",
       "      <td>21000</td>\n",
       "    </tr>\n",
       "    <tr>\n",
       "      <th>대구</th>\n",
       "      <td>5300</td>\n",
       "      <td>5450</td>\n",
       "      <td>200</td>\n",
       "      <td>4100</td>\n",
       "      <td>5800</td>\n",
       "      <td>1750</td>\n",
       "      <td>3980</td>\n",
       "      <td>4550</td>\n",
       "      <td>31130</td>\n",
       "    </tr>\n",
       "    <tr>\n",
       "      <th>대전</th>\n",
       "      <td>2770</td>\n",
       "      <td>3250</td>\n",
       "      <td>50</td>\n",
       "      <td>2850</td>\n",
       "      <td>1650</td>\n",
       "      <td>800</td>\n",
       "      <td>1130</td>\n",
       "      <td>1250</td>\n",
       "      <td>13750</td>\n",
       "    </tr>\n",
       "    <tr>\n",
       "      <th>부산</th>\n",
       "      <td>6540</td>\n",
       "      <td>7490</td>\n",
       "      <td>630</td>\n",
       "      <td>3890</td>\n",
       "      <td>5150</td>\n",
       "      <td>4110</td>\n",
       "      <td>4040</td>\n",
       "      <td>3620</td>\n",
       "      <td>35470</td>\n",
       "    </tr>\n",
       "    <tr>\n",
       "      <th>서울</th>\n",
       "      <td>12380</td>\n",
       "      <td>11240</td>\n",
       "      <td>1130</td>\n",
       "      <td>6610</td>\n",
       "      <td>8110</td>\n",
       "      <td>7320</td>\n",
       "      <td>13750</td>\n",
       "      <td>11610</td>\n",
       "      <td>72150</td>\n",
       "    </tr>\n",
       "    <tr>\n",
       "      <th>세종</th>\n",
       "      <td>990</td>\n",
       "      <td>300</td>\n",
       "      <td>100</td>\n",
       "      <td>50</td>\n",
       "      <td>550</td>\n",
       "      <td>0</td>\n",
       "      <td>700</td>\n",
       "      <td>300</td>\n",
       "      <td>2990</td>\n",
       "    </tr>\n",
       "    <tr>\n",
       "      <th>울산</th>\n",
       "      <td>2200</td>\n",
       "      <td>3695</td>\n",
       "      <td>500</td>\n",
       "      <td>2800</td>\n",
       "      <td>2650</td>\n",
       "      <td>1000</td>\n",
       "      <td>2150</td>\n",
       "      <td>1350</td>\n",
       "      <td>16345</td>\n",
       "    </tr>\n",
       "    <tr>\n",
       "      <th>인천</th>\n",
       "      <td>4080</td>\n",
       "      <td>4450</td>\n",
       "      <td>250</td>\n",
       "      <td>5300</td>\n",
       "      <td>4710</td>\n",
       "      <td>3140</td>\n",
       "      <td>4360</td>\n",
       "      <td>3390</td>\n",
       "      <td>29680</td>\n",
       "    </tr>\n",
       "    <tr>\n",
       "      <th>전남</th>\n",
       "      <td>3350</td>\n",
       "      <td>4310</td>\n",
       "      <td>430</td>\n",
       "      <td>3790</td>\n",
       "      <td>4660</td>\n",
       "      <td>2000</td>\n",
       "      <td>2650</td>\n",
       "      <td>2950</td>\n",
       "      <td>24140</td>\n",
       "    </tr>\n",
       "    <tr>\n",
       "      <th>전북</th>\n",
       "      <td>3810</td>\n",
       "      <td>7290</td>\n",
       "      <td>300</td>\n",
       "      <td>2850</td>\n",
       "      <td>8240</td>\n",
       "      <td>3650</td>\n",
       "      <td>4170</td>\n",
       "      <td>3370</td>\n",
       "      <td>33680</td>\n",
       "    </tr>\n",
       "    <tr>\n",
       "      <th>제주</th>\n",
       "      <td>500</td>\n",
       "      <td>1720</td>\n",
       "      <td>0</td>\n",
       "      <td>1200</td>\n",
       "      <td>750</td>\n",
       "      <td>980</td>\n",
       "      <td>1850</td>\n",
       "      <td>1150</td>\n",
       "      <td>8150</td>\n",
       "    </tr>\n",
       "    <tr>\n",
       "      <th>충남</th>\n",
       "      <td>5480</td>\n",
       "      <td>7690</td>\n",
       "      <td>400</td>\n",
       "      <td>4050</td>\n",
       "      <td>4560</td>\n",
       "      <td>1500</td>\n",
       "      <td>2880</td>\n",
       "      <td>3900</td>\n",
       "      <td>30460</td>\n",
       "    </tr>\n",
       "    <tr>\n",
       "      <th>충북</th>\n",
       "      <td>5930</td>\n",
       "      <td>5010</td>\n",
       "      <td>0</td>\n",
       "      <td>3920</td>\n",
       "      <td>4220</td>\n",
       "      <td>2250</td>\n",
       "      <td>4750</td>\n",
       "      <td>3170</td>\n",
       "      <td>29250</td>\n",
       "    </tr>\n",
       "    <tr>\n",
       "      <th>All</th>\n",
       "      <td>107090</td>\n",
       "      <td>115525</td>\n",
       "      <td>7690</td>\n",
       "      <td>80550</td>\n",
       "      <td>93975</td>\n",
       "      <td>54280</td>\n",
       "      <td>77520</td>\n",
       "      <td>71190</td>\n",
       "      <td>607820</td>\n",
       "    </tr>\n",
       "  </tbody>\n",
       "</table>\n",
       "</div>"
      ],
      "text/plain": [
       "업력    10년미만   15년미만  1년미만  20년미만  20년이상   3년미만   5년미만   7년미만     All\n",
       "지역                                                                  \n",
       "강원     4800    4300   370   2050   4170   1770   1230   2410   21100\n",
       "경기    23610   23220  1170  16580  17520  13630  20070  16590  132390\n",
       "경남    12130   11570   540   9150   7605   5090   4920   6560   57565\n",
       "경북     9040   10130  1420   7330  10450   3130   4010   3060   48570\n",
       "광주     4180    4410   200   4030   3180   2160    880   1960   21000\n",
       "대구     5300    5450   200   4100   5800   1750   3980   4550   31130\n",
       "대전     2770    3250    50   2850   1650    800   1130   1250   13750\n",
       "부산     6540    7490   630   3890   5150   4110   4040   3620   35470\n",
       "서울    12380   11240  1130   6610   8110   7320  13750  11610   72150\n",
       "세종      990     300   100     50    550      0    700    300    2990\n",
       "울산     2200    3695   500   2800   2650   1000   2150   1350   16345\n",
       "인천     4080    4450   250   5300   4710   3140   4360   3390   29680\n",
       "전남     3350    4310   430   3790   4660   2000   2650   2950   24140\n",
       "전북     3810    7290   300   2850   8240   3650   4170   3370   33680\n",
       "제주      500    1720     0   1200    750    980   1850   1150    8150\n",
       "충남     5480    7690   400   4050   4560   1500   2880   3900   30460\n",
       "충북     5930    5010     0   3920   4220   2250   4750   3170   29250\n",
       "All  107090  115525  7690  80550  93975  54280  77520  71190  607820"
      ]
     },
     "execution_count": 18,
     "metadata": {},
     "output_type": "execute_result"
    }
   ],
   "source": [
    "pd.pivot_table(df,index='지역',columns='업력', values='대출금액(백만원)',aggfunc='sum', margins=True)"
   ]
  },
  {
   "cell_type": "code",
   "execution_count": null,
   "id": "4e30c009",
   "metadata": {},
   "outputs": [],
   "source": []
  }
 ],
 "metadata": {
  "kernelspec": {
   "display_name": "Python 3 (ipykernel)",
   "language": "python",
   "name": "python3"
  },
  "language_info": {
   "codemirror_mode": {
    "name": "ipython",
    "version": 3
   },
   "file_extension": ".py",
   "mimetype": "text/x-python",
   "name": "python",
   "nbconvert_exporter": "python",
   "pygments_lexer": "ipython3",
   "version": "3.11.5"
  },
  "toc": {
   "base_numbering": 1,
   "nav_menu": {},
   "number_sections": true,
   "sideBar": true,
   "skip_h1_title": false,
   "title_cell": "Table of Contents",
   "title_sidebar": "Contents",
   "toc_cell": false,
   "toc_position": {},
   "toc_section_display": true,
   "toc_window_display": false
  }
 },
 "nbformat": 4,
 "nbformat_minor": 5
}
