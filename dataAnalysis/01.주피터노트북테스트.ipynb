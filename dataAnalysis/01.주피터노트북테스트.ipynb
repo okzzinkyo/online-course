{
 "cells": [
  {
   "cell_type": "markdown",
   "id": "7e7b1212",
   "metadata": {},
   "source": [
    "# 제목"
   ]
  },
  {
   "cell_type": "markdown",
   "id": "16027e09",
   "metadata": {},
   "source": [
    "## 중제목"
   ]
  },
  {
   "cell_type": "markdown",
   "id": "af125243",
   "metadata": {},
   "source": [
    "### 소제목"
   ]
  },
  {
   "cell_type": "markdown",
   "id": "7d6bb68e",
   "metadata": {},
   "source": [
    "텍스트셀입니다.<br>\n",
    "텍스트셀입니다.\n",
    "\n",
    "\n",
    "텍스트셀입니다."
   ]
  },
  {
   "cell_type": "markdown",
   "id": "4c04f2e1",
   "metadata": {},
   "source": [
    "* 텍스트셀입니다."
   ]
  },
  {
   "cell_type": "code",
   "execution_count": null,
   "id": "96841fcd",
   "metadata": {},
   "outputs": [],
   "source": [
    "print('Hello')"
   ]
  },
  {
   "cell_type": "code",
   "execution_count": null,
   "id": "1e7a0cb9",
   "metadata": {},
   "outputs": [],
   "source": [
    "print('world')"
   ]
  },
  {
   "cell_type": "code",
   "execution_count": null,
   "id": "bf272453",
   "metadata": {},
   "outputs": [],
   "source": [
    "print('Hello')"
   ]
  }
 ],
 "metadata": {
  "kernelspec": {
   "display_name": "Python 3 (ipykernel)",
   "language": "python",
   "name": "python3"
  },
  "language_info": {
   "codemirror_mode": {
    "name": "ipython",
    "version": 3
   },
   "file_extension": ".py",
   "mimetype": "text/x-python",
   "name": "python",
   "nbconvert_exporter": "python",
   "pygments_lexer": "ipython3",
   "version": "3.11.5"
  }
 },
 "nbformat": 4,
 "nbformat_minor": 5
}
