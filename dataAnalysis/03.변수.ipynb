{
 "cells": [
  {
   "cell_type": "markdown",
   "id": "848bf3ca",
   "metadata": {},
   "source": [
    "# 변수의 자료형 결정 시기"
   ]
  },
  {
   "cell_type": "markdown",
   "id": "02767a52",
   "metadata": {},
   "source": [
    "## 변수에 값 할당하기"
   ]
  },
  {
   "cell_type": "markdown",
   "id": "31606292",
   "metadata": {},
   "source": [
    "<ul>\n",
    "    <li>변수명 = 변수값</li>\n",
    "    <li>변수에 값이 할당될 때 변수값의 자료형이 결정된다.</li>\n",
    "</ul>"
   ]
  },
  {
   "cell_type": "code",
   "execution_count": 4,
   "id": "d78966c2",
   "metadata": {},
   "outputs": [],
   "source": [
    "name = 'james'\n",
    "age = 20\n",
    "height = 175.0\n",
    "ischild = age<20"
   ]
  },
  {
   "cell_type": "markdown",
   "id": "39695aa7",
   "metadata": {},
   "source": [
    "## 변수 값, 자료형 출력하기"
   ]
  },
  {
   "cell_type": "markdown",
   "id": "9d422ca5",
   "metadata": {},
   "source": [
    "<ul>\n",
    "    <li>변수에 접근할 때는 변수명을 사용한다.</li>\n",
    "    <li>변수값 출력: print(변수명)</li>\n",
    "    <li>변수 자료형 출력 : print(type(변수명)).</li>\n",
    "</ul>"
   ]
  },
  {
   "cell_type": "markdown",
   "id": "75ccb8de",
   "metadata": {},
   "source": [
    "print(name)\n",
    "print(type(name))"
   ]
  },
  {
   "cell_type": "markdown",
   "id": "1efc7fa6",
   "metadata": {},
   "source": [
    "## 쌍따오표나 홑따옴표가 포함되어 있는 문자열"
   ]
  },
  {
   "cell_type": "code",
   "execution_count": 8,
   "id": "e0cb6c19",
   "metadata": {},
   "outputs": [
    {
     "name": "stdout",
     "output_type": "stream",
     "text": [
      "'낮말'은 새가 듣고 '밤말'은 쥐가 듣는다.\n"
     ]
    }
   ],
   "source": [
    "a = \"'낮말'은 새가 듣고 '밤말'은 쥐가 듣는다.\"\n",
    "print(a)"
   ]
  },
  {
   "cell_type": "code",
   "execution_count": 10,
   "id": "e9fef71b",
   "metadata": {},
   "outputs": [
    {
     "name": "stdout",
     "output_type": "stream",
     "text": [
      "\"시간은 금\"이라는 말이 있다.\n"
     ]
    }
   ],
   "source": [
    "b = '\"시간은 금\"이라는 말이 있다.'\n",
    "print(b)"
   ]
  },
  {
   "cell_type": "markdown",
   "id": "b9ffa471",
   "metadata": {},
   "source": [
    "# 키보드로 변수에 값 입력받기"
   ]
  },
  {
   "cell_type": "markdown",
   "id": "7285c499",
   "metadata": {},
   "source": [
    "input()<br>\n",
    "입력받은 값은 무조건 str"
   ]
  },
  {
   "cell_type": "code",
   "execution_count": 13,
   "id": "79c169c3",
   "metadata": {},
   "outputs": [
    {
     "name": "stdout",
     "output_type": "stream",
     "text": [
      "나이:20\n"
     ]
    }
   ],
   "source": [
    "a = input('나이:')"
   ]
  },
  {
   "cell_type": "code",
   "execution_count": 15,
   "id": "4c3be24e",
   "metadata": {},
   "outputs": [
    {
     "data": {
      "text/plain": [
       "str"
      ]
     },
     "execution_count": 15,
     "metadata": {},
     "output_type": "execute_result"
    }
   ],
   "source": [
    "type(a)"
   ]
  },
  {
   "cell_type": "markdown",
   "id": "9e449d43",
   "metadata": {},
   "source": [
    "## 자료형 변환하기"
   ]
  },
  {
   "cell_type": "code",
   "execution_count": 23,
   "id": "ffd98fce",
   "metadata": {},
   "outputs": [
    {
     "data": {
      "text/plain": [
       "int"
      ]
     },
     "execution_count": 23,
     "metadata": {},
     "output_type": "execute_result"
    }
   ],
   "source": [
    "age = int('20')\n",
    "type(age)"
   ]
  },
  {
   "cell_type": "code",
   "execution_count": 20,
   "id": "cb46258c",
   "metadata": {},
   "outputs": [
    {
     "data": {
      "text/plain": [
       "str"
      ]
     },
     "execution_count": 20,
     "metadata": {},
     "output_type": "execute_result"
    }
   ],
   "source": [
    "age = str(20)\n",
    "type(age)"
   ]
  },
  {
   "cell_type": "code",
   "execution_count": 22,
   "id": "875e82c2",
   "metadata": {},
   "outputs": [
    {
     "name": "stdout",
     "output_type": "stream",
     "text": [
      "20.0 <class 'float'>\n"
     ]
    }
   ],
   "source": [
    "age = float(20)\n",
    "print(age, type(age))"
   ]
  },
  {
   "cell_type": "code",
   "execution_count": 25,
   "id": "96f2d0dd",
   "metadata": {},
   "outputs": [
    {
     "name": "stdout",
     "output_type": "stream",
     "text": [
      "나이:20\n"
     ]
    }
   ],
   "source": [
    "a = int(input('나이:'))"
   ]
  },
  {
   "cell_type": "code",
   "execution_count": 26,
   "id": "44a37a2d",
   "metadata": {},
   "outputs": [
    {
     "data": {
      "text/plain": [
       "int"
      ]
     },
     "execution_count": 26,
     "metadata": {},
     "output_type": "execute_result"
    }
   ],
   "source": [
    "type(a)"
   ]
  },
  {
   "cell_type": "code",
   "execution_count": null,
   "id": "6330cbd0",
   "metadata": {},
   "outputs": [],
   "source": []
  }
 ],
 "metadata": {
  "kernelspec": {
   "display_name": "Python 3 (ipykernel)",
   "language": "python",
   "name": "python3"
  },
  "language_info": {
   "codemirror_mode": {
    "name": "ipython",
    "version": 3
   },
   "file_extension": ".py",
   "mimetype": "text/x-python",
   "name": "python",
   "nbconvert_exporter": "python",
   "pygments_lexer": "ipython3",
   "version": "3.11.5"
  },
  "toc": {
   "base_numbering": 1,
   "nav_menu": {},
   "number_sections": true,
   "sideBar": true,
   "skip_h1_title": false,
   "title_cell": "Table of Contents",
   "title_sidebar": "Contents",
   "toc_cell": false,
   "toc_position": {},
   "toc_section_display": true,
   "toc_window_display": false
  }
 },
 "nbformat": 4,
 "nbformat_minor": 5
}
