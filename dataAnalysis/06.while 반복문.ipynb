{
 "cells": [
  {
   "cell_type": "code",
   "execution_count": 1,
   "id": "df3973ec",
   "metadata": {},
   "outputs": [
    {
     "name": "stdout",
     "output_type": "stream",
     "text": [
      "1\n",
      "2\n",
      "3\n",
      "4\n",
      "5\n"
     ]
    }
   ],
   "source": [
    "for i in range(1,6) :\n",
    "    print(i)"
   ]
  },
  {
   "cell_type": "code",
   "execution_count": 2,
   "id": "a3414424",
   "metadata": {
    "scrolled": true
   },
   "outputs": [
    {
     "name": "stdout",
     "output_type": "stream",
     "text": [
      "0\n",
      "1\n",
      "2\n",
      "3\n",
      "4\n",
      "5\n"
     ]
    }
   ],
   "source": [
    "n = 0\n",
    "while n<=5:\n",
    "    print(n)\n",
    "    n += 1"
   ]
  },
  {
   "cell_type": "code",
   "execution_count": 3,
   "id": "1afa8ae4",
   "metadata": {},
   "outputs": [
    {
     "name": "stdout",
     "output_type": "stream",
     "text": [
      "55\n"
     ]
    }
   ],
   "source": [
    "total = 0\n",
    "for i in range(1,11):\n",
    "    total += i\n",
    "print(total)"
   ]
  },
  {
   "cell_type": "code",
   "execution_count": 4,
   "id": "9968ff7c",
   "metadata": {},
   "outputs": [
    {
     "name": "stdout",
     "output_type": "stream",
     "text": [
      "55\n"
     ]
    }
   ],
   "source": [
    "total = 0\n",
    "n = 1 \n",
    "while n <= 10:\n",
    "    total += n\n",
    "    n+=1\n",
    "print(total)"
   ]
  },
  {
   "cell_type": "markdown",
   "id": "8c36ba57",
   "metadata": {},
   "source": [
    "while문만 사용가능한 경우\n",
    "* 'q'를 입력할 때까지 반복하여 이름 입력받기"
   ]
  },
  {
   "cell_type": "code",
   "execution_count": 5,
   "id": "61bf0f29",
   "metadata": {},
   "outputs": [
    {
     "name": "stdout",
     "output_type": "stream",
     "text": [
      "이름:a\n",
      "이름:w\n",
      "이름:a\n",
      "이름:q\n"
     ]
    }
   ],
   "source": [
    "name = input('이름:')\n",
    "while name != 'q':\n",
    "    name = input('이름:')"
   ]
  },
  {
   "cell_type": "markdown",
   "id": "6f75b2bc",
   "metadata": {},
   "source": [
    "* break로 반복문 빠져나오기"
   ]
  },
  {
   "cell_type": "code",
   "execution_count": 6,
   "id": "b199b0a8",
   "metadata": {},
   "outputs": [
    {
     "name": "stdout",
     "output_type": "stream",
     "text": [
      "이름:d\n",
      "이름:f\n",
      "이름:f\n",
      "이름:q\n"
     ]
    }
   ],
   "source": [
    "while True :\n",
    "    name = input('이름:')\n",
    "    if name == 'q':\n",
    "        break"
   ]
  },
  {
   "cell_type": "markdown",
   "id": "7ae7a9e4",
   "metadata": {},
   "source": [
    "* 올바른 아이디/비밀번호를 입력할 때까지 아이디와 비밀번호를 입력하는 프로그램"
   ]
  },
  {
   "cell_type": "code",
   "execution_count": 7,
   "id": "71417e49",
   "metadata": {},
   "outputs": [
    {
     "name": "stdout",
     "output_type": "stream",
     "text": [
      "id:123d\n",
      "pwd:wddd\n",
      "id:weee\n",
      "pwd:dsss\n",
      "id:id123\n",
      "pwd:pwd123\n"
     ]
    }
   ],
   "source": [
    "id = 'id123'\n",
    "pwd = 'pwd123'\n",
    "\n",
    "while True :\n",
    "    input_id = input('id:')\n",
    "    input_pwd = input('pwd:')\n",
    "    if input_id == id and input_pwd == pwd :\n",
    "        break"
   ]
  },
  {
   "cell_type": "markdown",
   "id": "2eed594b",
   "metadata": {},
   "source": [
    "* 아이디가 잘못되었으면 '아이디를 확인하세요' 출력<br>\n",
    "비밀번호가 잘못되었으면 '비밀번호를 확인하세요' 출력"
   ]
  },
  {
   "cell_type": "code",
   "execution_count": 8,
   "id": "50ca135b",
   "metadata": {},
   "outputs": [
    {
     "name": "stdout",
     "output_type": "stream",
     "text": [
      "id:sssd\n",
      "pwd:weee\n",
      "아이디를 확인하세요\n",
      "비밀번호를 확인하세요\n",
      "id:id123\n",
      "pwd:opsdd555\n",
      "비밀번호를 확인하세요\n",
      "id:id123\n",
      "pwd:pwd123\n"
     ]
    }
   ],
   "source": [
    "while True :\n",
    "    input_id = input('id:')\n",
    "    input_pwd = input('pwd:')\n",
    "    if input_id == id and input_pwd == pwd :\n",
    "        break\n",
    "    if input_id != id :\n",
    "        print( '아이디를 확인하세요' )\n",
    "    if input_pwd != pwd :\n",
    "        print( '비밀번호를 확인하세요')"
   ]
  },
  {
   "cell_type": "markdown",
   "id": "bfd32675",
   "metadata": {},
   "source": [
    "* 사용자가 0을 입력할 땨까지 숫자를 입력받아 입력받은 숫자들의 합을 구하는 프로그램"
   ]
  },
  {
   "cell_type": "code",
   "execution_count": 12,
   "id": "9b534411",
   "metadata": {},
   "outputs": [
    {
     "name": "stdout",
     "output_type": "stream",
     "text": [
      "숫자:1\n",
      "숫자:2\n",
      "숫자:3\n",
      "숫자:4\n",
      "숫자:5\n",
      "숫자:6\n",
      "숫자:7\n",
      "숫자:8\n",
      "숫자:9\n",
      "숫자:10\n",
      "숫자:0\n",
      "55\n"
     ]
    }
   ],
   "source": [
    "total = 0\n",
    "\n",
    "while True:\n",
    "    num = int(input('숫자:'))\n",
    "    if num == 0 :\n",
    "        break\n",
    "    total += num\n",
    "print(total)"
   ]
  }
 ],
 "metadata": {
  "kernelspec": {
   "display_name": "Python 3 (ipykernel)",
   "language": "python",
   "name": "python3"
  },
  "language_info": {
   "codemirror_mode": {
    "name": "ipython",
    "version": 3
   },
   "file_extension": ".py",
   "mimetype": "text/x-python",
   "name": "python",
   "nbconvert_exporter": "python",
   "pygments_lexer": "ipython3",
   "version": "3.11.5"
  },
  "toc": {
   "base_numbering": 1,
   "nav_menu": {},
   "number_sections": true,
   "sideBar": true,
   "skip_h1_title": false,
   "title_cell": "Table of Contents",
   "title_sidebar": "Contents",
   "toc_cell": false,
   "toc_position": {},
   "toc_section_display": true,
   "toc_window_display": false
  }
 },
 "nbformat": 4,
 "nbformat_minor": 5
}
