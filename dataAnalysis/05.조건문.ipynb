{
 "cells": [
  {
   "cell_type": "code",
   "execution_count": 7,
   "id": "d7a8034e",
   "metadata": {},
   "outputs": [
    {
     "name": "stdout",
     "output_type": "stream",
     "text": [
      "점수:90\n",
      "합격\n",
      "축하합니다.\n",
      "수고하셨습니다.\n"
     ]
    }
   ],
   "source": [
    "# 점수를 입력받아, 점수가 60점 이상이면 '합격을' 출력한다.\n",
    "score = int(input('점수:'))\n",
    "if score >= 60 :\n",
    "    print('합격')\n",
    "    print('축하합니다.')\n",
    "print('수고하셨습니다.')"
   ]
  },
  {
   "cell_type": "code",
   "execution_count": 6,
   "id": "50f9ae35",
   "metadata": {},
   "outputs": [
    {
     "name": "stdout",
     "output_type": "stream",
     "text": [
      "점수:90\n",
      "합격\n"
     ]
    }
   ],
   "source": [
    "# 점수를 입력받아, 점수가 60점 이상이면 '합격을' 출력하고, 아니면 '불합격'을 출력한다.\n",
    "score = int(input('점수:'))\n",
    "if score >= 60 :\n",
    "    print('합격')\n",
    "else : \n",
    "    print('불합격')"
   ]
  },
  {
   "cell_type": "code",
   "execution_count": 19,
   "id": "d3a34b3e",
   "metadata": {},
   "outputs": [
    {
     "name": "stdout",
     "output_type": "stream",
     "text": [
      "점수:40\n",
      "grade: F\n"
     ]
    }
   ],
   "source": [
    "score = int(input('점수:'))\n",
    "\n",
    "if score >= 90 :\n",
    "    grade = 'A'\n",
    "elif score >= 80 :\n",
    "    grade = 'B'\n",
    "elif score >= 70 :\n",
    "    grade = 'C' \n",
    "elif score >= 60 :\n",
    "    grade = 'D'\n",
    "else :\n",
    "    grade = 'F'\n",
    "    \n",
    "print('grade:', grade)"
   ]
  },
  {
   "cell_type": "code",
   "execution_count": 25,
   "id": "cd318fa8",
   "metadata": {},
   "outputs": [
    {
     "name": "stdout",
     "output_type": "stream",
     "text": [
      "정수:4\n",
      "짝수\n"
     ]
    }
   ],
   "source": [
    "#정수를 입력받아 짝수/홀수를 판별하세요,\n",
    "num = int(input('정수:'))\n",
    "\n",
    "if num%2 == 1 :\n",
    "    print('홀수')\n",
    "elif num == 0 :\n",
    "    print(0)\n",
    "else :\n",
    "    print('짝수')"
   ]
  },
  {
   "cell_type": "code",
   "execution_count": null,
   "id": "f2aa5050",
   "metadata": {},
   "outputs": [],
   "source": []
  }
 ],
 "metadata": {
  "kernelspec": {
   "display_name": "Python 3 (ipykernel)",
   "language": "python",
   "name": "python3"
  },
  "language_info": {
   "codemirror_mode": {
    "name": "ipython",
    "version": 3
   },
   "file_extension": ".py",
   "mimetype": "text/x-python",
   "name": "python",
   "nbconvert_exporter": "python",
   "pygments_lexer": "ipython3",
   "version": "3.11.5"
  },
  "toc": {
   "base_numbering": 1,
   "nav_menu": {},
   "number_sections": true,
   "sideBar": true,
   "skip_h1_title": false,
   "title_cell": "Table of Contents",
   "title_sidebar": "Contents",
   "toc_cell": false,
   "toc_position": {},
   "toc_section_display": true,
   "toc_window_display": false
  }
 },
 "nbformat": 4,
 "nbformat_minor": 5
}
