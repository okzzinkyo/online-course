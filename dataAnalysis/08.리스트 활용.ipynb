{
 "cells": [
  {
   "cell_type": "markdown",
   "id": "ad21f19a",
   "metadata": {},
   "source": [
    "# 리스트 통계값"
   ]
  },
  {
   "cell_type": "markdown",
   "id": "e500b0ab",
   "metadata": {},
   "source": [
    "* 합계 : sum <br> - 리스트 모든 항목이 숫자\n",
    "<br>\n",
    "* 최소값 : min <br> - 혼합 리스트 X <br> - 숫자, 문자열 리스트에서만 사용가능\n",
    "<br>\n",
    "* 최대값 : max()\n",
    "* 평균 : sum()/len()\n",
    "* 특정 항목의 갯수 : count()"
   ]
  },
  {
   "cell_type": "code",
   "execution_count": 5,
   "id": "2264e92c",
   "metadata": {},
   "outputs": [
    {
     "name": "stdout",
     "output_type": "stream",
     "text": [
      "항목수: 8\n",
      "합계: 27\n",
      "최소값: 1\n",
      "최대값: 5\n",
      "평균: 3.375\n",
      "항목 5의 갯수: 2\n"
     ]
    }
   ],
   "source": [
    "l = [1,2,3,4,5,3,4,5]\n",
    "print('항목수:', len(l))\n",
    "print('합계:', sum(l))\n",
    "print('최소값:', min(l))\n",
    "print('최대값:', max(l))\n",
    "print('평균:', sum(l)/len(l))\n",
    "print('항목 5의 갯수:',l.count(5))"
   ]
  },
  {
   "cell_type": "markdown",
   "id": "1432c744",
   "metadata": {},
   "source": [
    "# 리스트 정렬"
   ]
  },
  {
   "cell_type": "markdown",
   "id": "24ea0bb2",
   "metadata": {},
   "source": [
    "* 원본 정렬 - 다시 원래 순서로 변경할 수 없다.\n",
    "<br> 오름차순 : 리스트명.sort()\n",
    "<br> 내림차순 : 리스트명.sort(reverse=True)"
   ]
  },
  {
   "cell_type": "code",
   "execution_count": 6,
   "id": "b63b7744",
   "metadata": {},
   "outputs": [
    {
     "data": {
      "text/plain": [
       "['범준', '수지', '수현', '지은', '찬혁']"
      ]
     },
     "execution_count": 6,
     "metadata": {},
     "output_type": "execute_result"
    }
   ],
   "source": [
    "friends = ['수지','지은','찬혁','수현','범준']\n",
    "friends.sort()\n",
    "friends"
   ]
  },
  {
   "cell_type": "markdown",
   "id": "ba059a37",
   "metadata": {},
   "source": [
    "* 새로운 리스트로 정렬\n",
    "<br> 오름차순 : sorted(리스트명)\n",
    "<br> 내림차순 : sorted(리스트명,reverse=True)"
   ]
  },
  {
   "cell_type": "code",
   "execution_count": 7,
   "id": "5b428c66",
   "metadata": {},
   "outputs": [
    {
     "name": "stdout",
     "output_type": "stream",
     "text": [
      "['수지', '지은', '찬혁', '수현', '범준']\n",
      "['범준', '수지', '수현', '지은', '찬혁']\n"
     ]
    }
   ],
   "source": [
    "friends = ['수지','지은','찬혁','수현','범준']\n",
    "sorted_friends = sorted(friends)\n",
    "\n",
    "print(friends)\n",
    "print(sorted_friends)"
   ]
  },
  {
   "cell_type": "markdown",
   "id": "91356884",
   "metadata": {},
   "source": [
    "* 리스트 순서를 역순으로\n",
    "reverse()"
   ]
  },
  {
   "cell_type": "code",
   "execution_count": 9,
   "id": "7f5503bd",
   "metadata": {},
   "outputs": [
    {
     "name": "stdout",
     "output_type": "stream",
     "text": [
      "['범준', '수현', '찬혁', '지은', '수지']\n",
      "['수지', '지은', '찬혁', '수현', '범준']\n"
     ]
    }
   ],
   "source": [
    "friends = ['수지','지은','찬혁','수현','범준']\n",
    "friends.reverse()\n",
    "print(friends)\n",
    "friends.reverse()\n",
    "print(friends)"
   ]
  },
  {
   "cell_type": "markdown",
   "id": "6f2ae4b8",
   "metadata": {},
   "source": [
    "# 2차원 리스트\n",
    "* 2차원 리스트 만들기\n",
    "<br>\n",
    "<br>\n",
    "10 20 30 <br>\n",
    "40 50 60"
   ]
  },
  {
   "cell_type": "code",
   "execution_count": 10,
   "id": "65f650f8",
   "metadata": {},
   "outputs": [
    {
     "data": {
      "text/plain": [
       "[[10, 20, 30], [40, 50, 60]]"
      ]
     },
     "execution_count": 10,
     "metadata": {},
     "output_type": "execute_result"
    }
   ],
   "source": [
    "l2 = [[10,20,30],[40,50,60]]\n",
    "l2"
   ]
  },
  {
   "cell_type": "code",
   "execution_count": 11,
   "id": "c827cff3",
   "metadata": {},
   "outputs": [
    {
     "name": "stdout",
     "output_type": "stream",
     "text": [
      "30\n"
     ]
    }
   ],
   "source": [
    "# 30\n",
    "print(l2[0][2])"
   ]
  },
  {
   "cell_type": "code",
   "execution_count": 12,
   "id": "b06709ce",
   "metadata": {},
   "outputs": [
    {
     "name": "stdout",
     "output_type": "stream",
     "text": [
      "60\n"
     ]
    }
   ],
   "source": [
    "# 60\n",
    "print(l2[1][2])"
   ]
  },
  {
   "cell_type": "markdown",
   "id": "46c7fc46",
   "metadata": {},
   "source": [
    "* 연습\n",
    "<br> 파일리스트에서 파일명과 확장자를 분리하여 다음과 같은 형태로 저장하는 리스트를 만들어라.\n",
    "<br>\n",
    "<br>\n",
    "file1 py <br>\n",
    "file2 txt <br>\n",
    "file3 pptx <br>"
   ]
  },
  {
   "cell_type": "code",
   "execution_count": 13,
   "id": "d5228f18",
   "metadata": {},
   "outputs": [],
   "source": [
    "file_list = ['file1.py','file2.txt','file3.pptx']\n",
    "name_extension = []"
   ]
  },
  {
   "cell_type": "code",
   "execution_count": 20,
   "id": "b6b45c1c",
   "metadata": {},
   "outputs": [
    {
     "name": "stdout",
     "output_type": "stream",
     "text": [
      "[['file1', 'py'], ['file2', 'txt'], ['file3', 'pptx']]\n"
     ]
    }
   ],
   "source": [
    "for i in file_list :\n",
    "    item = i.split('.')\n",
    "    name_extension.append(item)\n",
    "print(name_extension)"
   ]
  },
  {
   "cell_type": "code",
   "execution_count": null,
   "id": "3ef1a650",
   "metadata": {},
   "outputs": [],
   "source": []
  }
 ],
 "metadata": {
  "kernelspec": {
   "display_name": "Python 3 (ipykernel)",
   "language": "python",
   "name": "python3"
  },
  "language_info": {
   "codemirror_mode": {
    "name": "ipython",
    "version": 3
   },
   "file_extension": ".py",
   "mimetype": "text/x-python",
   "name": "python",
   "nbconvert_exporter": "python",
   "pygments_lexer": "ipython3",
   "version": "3.11.5"
  },
  "toc": {
   "base_numbering": 1,
   "nav_menu": {},
   "number_sections": true,
   "sideBar": true,
   "skip_h1_title": false,
   "title_cell": "Table of Contents",
   "title_sidebar": "Contents",
   "toc_cell": false,
   "toc_position": {},
   "toc_section_display": true,
   "toc_window_display": false
  }
 },
 "nbformat": 4,
 "nbformat_minor": 5
}
