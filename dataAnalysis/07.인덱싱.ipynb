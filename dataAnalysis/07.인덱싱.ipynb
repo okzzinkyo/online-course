{
 "cells": [
  {
   "cell_type": "code",
   "execution_count": 3,
   "id": "bbf1feda",
   "metadata": {},
   "outputs": [
    {
     "data": {
      "text/plain": [
       "6"
      ]
     },
     "execution_count": 3,
     "metadata": {},
     "output_type": "execute_result"
    }
   ],
   "source": [
    "l1 = ['축구','농구','배구','야구','족구','발야구']\n",
    "len(l1)"
   ]
  },
  {
   "cell_type": "code",
   "execution_count": 5,
   "id": "90370b5d",
   "metadata": {},
   "outputs": [
    {
     "name": "stdout",
     "output_type": "stream",
     "text": [
      "축구\n",
      "축구\n"
     ]
    }
   ],
   "source": [
    "# 축구\n",
    "print(l1[0])\n",
    "print(l1[-6])"
   ]
  },
  {
   "cell_type": "code",
   "execution_count": 7,
   "id": "a83860af",
   "metadata": {},
   "outputs": [
    {
     "name": "stdout",
     "output_type": "stream",
     "text": [
      "배구\n",
      "배구\n"
     ]
    }
   ],
   "source": [
    "#배구\n",
    "print(l1[2])\n",
    "print(l1[-4])"
   ]
  },
  {
   "cell_type": "code",
   "execution_count": 11,
   "id": "8abb15ba",
   "metadata": {},
   "outputs": [
    {
     "name": "stdout",
     "output_type": "stream",
     "text": [
      "발야구\n",
      "발야구\n"
     ]
    }
   ],
   "source": [
    "# 발야구\n",
    "print(l1[5])\n",
    "print(l1[-1])"
   ]
  },
  {
   "cell_type": "code",
   "execution_count": 12,
   "id": "08ae446c",
   "metadata": {},
   "outputs": [
    {
     "data": {
      "text/plain": [
       "6"
      ]
     },
     "execution_count": 12,
     "metadata": {},
     "output_type": "execute_result"
    }
   ],
   "source": [
    "t1 = ['스키','보드','스케이트','스케이트보드','수상스키', '웨이크보드']\n",
    "len(t1)"
   ]
  },
  {
   "cell_type": "code",
   "execution_count": 13,
   "id": "d0239779",
   "metadata": {},
   "outputs": [
    {
     "name": "stdout",
     "output_type": "stream",
     "text": [
      "스키\n",
      "스키\n"
     ]
    }
   ],
   "source": [
    "#스키\n",
    "print(t1[0])\n",
    "print(t1[-6])"
   ]
  },
  {
   "cell_type": "code",
   "execution_count": 14,
   "id": "8a2c8ee6",
   "metadata": {},
   "outputs": [
    {
     "name": "stdout",
     "output_type": "stream",
     "text": [
      "웨이크보드\n",
      "웨이크보드\n"
     ]
    }
   ],
   "source": [
    "#웨이크보드\n",
    "print(t1[5])\n",
    "print(t1[-1])"
   ]
  },
  {
   "cell_type": "markdown",
   "id": "90f891c1",
   "metadata": {},
   "source": [
    "* 중첩리스트 인덱싱"
   ]
  },
  {
   "cell_type": "code",
   "execution_count": 17,
   "id": "7317a31e",
   "metadata": {},
   "outputs": [
    {
     "data": {
      "text/plain": [
       "'수박'"
      ]
     },
     "execution_count": 17,
     "metadata": {},
     "output_type": "execute_result"
    }
   ],
   "source": [
    "#아래 리스트 l2에서 '수박'추출\n",
    "l2 = ['사과','오렌지','포도',['수박','바나나']]\n",
    "l2[3][0]"
   ]
  },
  {
   "cell_type": "code",
   "execution_count": 19,
   "id": "b20c9beb",
   "metadata": {},
   "outputs": [
    {
     "data": {
      "text/plain": [
       "'Life'"
      ]
     },
     "execution_count": 19,
     "metadata": {},
     "output_type": "execute_result"
    }
   ],
   "source": [
    "#아래 튜플 t2에서 'Life'추출\n",
    "t2 = (1,2,('a','b',('Life','is')))\n",
    "t2[2][2][0]"
   ]
  },
  {
   "cell_type": "markdown",
   "id": "f78167e3",
   "metadata": {},
   "source": [
    "* 인덱스로 슬라이싱"
   ]
  },
  {
   "cell_type": "code",
   "execution_count": 20,
   "id": "e42c28ee",
   "metadata": {},
   "outputs": [],
   "source": [
    "l1 = ['축구','농구','배구','야구','족구','발야구']"
   ]
  },
  {
   "cell_type": "code",
   "execution_count": 23,
   "id": "1a1010be",
   "metadata": {},
   "outputs": [
    {
     "data": {
      "text/plain": [
       "['농구', '배구']"
      ]
     },
     "execution_count": 23,
     "metadata": {},
     "output_type": "execute_result"
    }
   ],
   "source": [
    "#['농구','배구']\n",
    "l1[1:3]"
   ]
  },
  {
   "cell_type": "code",
   "execution_count": 27,
   "id": "50134ec5",
   "metadata": {},
   "outputs": [
    {
     "name": "stdout",
     "output_type": "stream",
     "text": [
      "['축구', '농구', '배구']\n",
      "['축구', '농구', '배구']\n"
     ]
    }
   ],
   "source": [
    "#['축구','농구','배구']\n",
    "print(l1[0:3])\n",
    "print(l1[:3])"
   ]
  },
  {
   "cell_type": "code",
   "execution_count": 38,
   "id": "d3d28286",
   "metadata": {},
   "outputs": [
    {
     "name": "stdout",
     "output_type": "stream",
     "text": [
      "['야구', '족구']\n"
     ]
    }
   ],
   "source": [
    "# [야구','족구']\n",
    "print(l1[-3:-1])"
   ]
  },
  {
   "cell_type": "code",
   "execution_count": 36,
   "id": "787e7e1c",
   "metadata": {},
   "outputs": [
    {
     "data": {
      "text/plain": [
       "['족구', '야구', '배구']"
      ]
     },
     "execution_count": 36,
     "metadata": {},
     "output_type": "execute_result"
    }
   ],
   "source": [
    "#'족구', '야구', '배구'\n",
    "l1[-2:-5:-1]"
   ]
  },
  {
   "cell_type": "code",
   "execution_count": 41,
   "id": "b82c2382",
   "metadata": {},
   "outputs": [
    {
     "data": {
      "text/plain": [
       "[1, 2, 3, 4, 5, 6, 7, 8, 9, 10, 11, 12, 13, 14, 15, 16, 17, 18, 19, 20]"
      ]
     },
     "execution_count": 41,
     "metadata": {},
     "output_type": "execute_result"
    }
   ],
   "source": [
    "l3 = list(range(1,21))\n",
    "l3"
   ]
  },
  {
   "cell_type": "code",
   "execution_count": 43,
   "id": "fb66cb60",
   "metadata": {},
   "outputs": [
    {
     "name": "stdout",
     "output_type": "stream",
     "text": [
      "[1, 3, 5, 7, 9, 11, 13, 15, 17, 19]\n"
     ]
    }
   ],
   "source": [
    "print(l3[::2])"
   ]
  },
  {
   "cell_type": "markdown",
   "id": "2bf325ab",
   "metadata": {},
   "source": [
    "* 항목의 인덱스 찾기"
   ]
  },
  {
   "cell_type": "code",
   "execution_count": 44,
   "id": "584fa92a",
   "metadata": {},
   "outputs": [
    {
     "data": {
      "text/plain": [
       "9"
      ]
     },
     "execution_count": 44,
     "metadata": {},
     "output_type": "execute_result"
    }
   ],
   "source": [
    "l3.index(10)"
   ]
  },
  {
   "cell_type": "code",
   "execution_count": 45,
   "id": "3c628da4",
   "metadata": {},
   "outputs": [
    {
     "ename": "ValueError",
     "evalue": "23 is not in list",
     "output_type": "error",
     "traceback": [
      "\u001b[1;31m---------------------------------------------------------------------------\u001b[0m",
      "\u001b[1;31mValueError\u001b[0m                                Traceback (most recent call last)",
      "Cell \u001b[1;32mIn[45], line 1\u001b[0m\n\u001b[1;32m----> 1\u001b[0m l3\u001b[38;5;241m.\u001b[39mindex(\u001b[38;5;241m23\u001b[39m)\n",
      "\u001b[1;31mValueError\u001b[0m: 23 is not in list"
     ]
    }
   ],
   "source": [
    "l3.index(23)"
   ]
  },
  {
   "cell_type": "code",
   "execution_count": 46,
   "id": "f17d7e4a",
   "metadata": {},
   "outputs": [
    {
     "name": "stdout",
     "output_type": "stream",
     "text": [
      "존재하지 않는다\n"
     ]
    }
   ],
   "source": [
    "if 23 in l3 :\n",
    "    print(l3.index(23))\n",
    "else :\n",
    "    print('존재하지 않는다')"
   ]
  }
 ],
 "metadata": {
  "kernelspec": {
   "display_name": "Python 3 (ipykernel)",
   "language": "python",
   "name": "python3"
  },
  "language_info": {
   "codemirror_mode": {
    "name": "ipython",
    "version": 3
   },
   "file_extension": ".py",
   "mimetype": "text/x-python",
   "name": "python",
   "nbconvert_exporter": "python",
   "pygments_lexer": "ipython3",
   "version": "3.11.5"
  },
  "toc": {
   "base_numbering": 1,
   "nav_menu": {},
   "number_sections": true,
   "sideBar": true,
   "skip_h1_title": false,
   "title_cell": "Table of Contents",
   "title_sidebar": "Contents",
   "toc_cell": false,
   "toc_position": {},
   "toc_section_display": true,
   "toc_window_display": false
  }
 },
 "nbformat": 4,
 "nbformat_minor": 5
}
