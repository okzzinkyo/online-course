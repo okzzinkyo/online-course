{
 "cells": [
  {
   "cell_type": "markdown",
   "id": "5b1746ee",
   "metadata": {},
   "source": [
    "# 영어단어장 만들기\n",
    "엔터를 입력할 때까지 영어단어,뜻을 입력받아 단어장을 만들고, 입력이 끝나면 단어 테스트를 실시하는 프로그램을 만들어봅시다.\n",
    "<br><br>\n",
    "1)단어장을 만든다.<br>\n",
    "2)단어테스트를 실시하고 맞은 개수를 계산한다.<br>\n",
    "3)테스트가 끝나면 맞은갯수/전체단어수/점수 형태로 결과를 출력한다."
   ]
  },
  {
   "cell_type": "markdown",
   "id": "5364a18d",
   "metadata": {},
   "source": [
    "## 단어장 만들기\n",
    "엔터를 입력할때까지 영어단어,뜻을 입력받아 딕셔너리에 저장"
   ]
  },
  {
   "cell_type": "code",
   "execution_count": 1,
   "id": "fa4eb1d8",
   "metadata": {},
   "outputs": [
    {
     "name": "stdout",
     "output_type": "stream",
     "text": [
      "영어단어,뜻:apple,사과\n",
      "영어단어,뜻:dog,강아지\n",
      "영어단어,뜻:cat,고양이\n",
      "영어단어,뜻:carrot,당근\n",
      "영어단어,뜻:\n",
      "{'apple': '사과', 'dog': '강아지', 'cat': '고양이', 'carrot': '당근'}\n"
     ]
    }
   ],
   "source": [
    "dict_word = {}\n",
    "while True : \n",
    "    input_word = input('영어단어,뜻:')\n",
    "    if input_word  == '':\n",
    "        break\n",
    "    word = input_word.split(',')[0]\n",
    "    desc = input_word.split(',')[1]\n",
    "    #dict_word.update({word:desc})\n",
    "    dict_word[word] = desc\n",
    "print(dict_word)    "
   ]
  },
  {
   "cell_type": "markdown",
   "id": "fffcdae6",
   "metadata": {},
   "source": [
    "## 단어테스트\n",
    "단어장의 단어들을 모두 테스트\n",
    "맞은 갯수는 별도로 카운트"
   ]
  },
  {
   "cell_type": "code",
   "execution_count": 2,
   "id": "befc524b",
   "metadata": {},
   "outputs": [
    {
     "name": "stdout",
     "output_type": "stream",
     "text": [
      "apple사과\n",
      "o\n",
      "dog강아지\n",
      "o\n",
      "cat고양이\n",
      "o\n",
      "carrot호박\n",
      "x\n"
     ]
    }
   ],
   "source": [
    "cnt = 0\n",
    "for word, desc in dict_word.items() :\n",
    "    answer = input(word)\n",
    "    if desc == answer :\n",
    "       print('o')\n",
    "       cnt+=1\n",
    "    else :\n",
    "       print('x')"
   ]
  },
  {
   "cell_type": "markdown",
   "id": "b92714e6",
   "metadata": {},
   "source": [
    "## 테스트 결과 출력\n",
    "맞은갯수/전체문제수/점수 출력"
   ]
  },
  {
   "cell_type": "code",
   "execution_count": 6,
   "id": "220a5734",
   "metadata": {},
   "outputs": [
    {
     "name": "stdout",
     "output_type": "stream",
     "text": [
      "맞은갯수: 3\n",
      "전체문제수: 4\n",
      "점수: 75.0\n"
     ]
    }
   ],
   "source": [
    "print('맞은갯수:',cnt)\n",
    "print('전체문제수:',len(dict_word))\n",
    "print('점수:',round((cnt/len(dict_word))*100,1))"
   ]
  },
  {
   "cell_type": "code",
   "execution_count": null,
   "id": "ae9f85f3",
   "metadata": {},
   "outputs": [],
   "source": []
  }
 ],
 "metadata": {
  "kernelspec": {
   "display_name": "Python 3 (ipykernel)",
   "language": "python",
   "name": "python3"
  },
  "language_info": {
   "codemirror_mode": {
    "name": "ipython",
    "version": 3
   },
   "file_extension": ".py",
   "mimetype": "text/x-python",
   "name": "python",
   "nbconvert_exporter": "python",
   "pygments_lexer": "ipython3",
   "version": "3.11.5"
  },
  "toc": {
   "base_numbering": 1,
   "nav_menu": {},
   "number_sections": true,
   "sideBar": true,
   "skip_h1_title": false,
   "title_cell": "Table of Contents",
   "title_sidebar": "Contents",
   "toc_cell": false,
   "toc_position": {},
   "toc_section_display": true,
   "toc_window_display": false
  }
 },
 "nbformat": 4,
 "nbformat_minor": 5
}
