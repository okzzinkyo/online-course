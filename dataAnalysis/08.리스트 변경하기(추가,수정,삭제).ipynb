{
 "cells": [
  {
   "cell_type": "markdown",
   "id": "b7576fdd",
   "metadata": {},
   "source": [
    "* 리스트 항목 추가하기"
   ]
  },
  {
   "cell_type": "code",
   "execution_count": 1,
   "id": "930cae1f",
   "metadata": {},
   "outputs": [],
   "source": [
    "todolist = ['양치','물마시기']"
   ]
  },
  {
   "cell_type": "code",
   "execution_count": 2,
   "id": "8b5a402d",
   "metadata": {},
   "outputs": [],
   "source": [
    "# 아침운동 항목추가\n",
    "todolist.append('아침운동')"
   ]
  },
  {
   "cell_type": "code",
   "execution_count": 4,
   "id": "5c710950",
   "metadata": {},
   "outputs": [
    {
     "name": "stdout",
     "output_type": "stream",
     "text": [
      "['양치', '물마시기', '아침운동']\n"
     ]
    }
   ],
   "source": [
    "print(todolist)"
   ]
  },
  {
   "cell_type": "markdown",
   "id": "207ad693",
   "metadata": {},
   "source": [
    "* 리스트 중간에 항목 삽입"
   ]
  },
  {
   "cell_type": "code",
   "execution_count": 6,
   "id": "f8c79910",
   "metadata": {},
   "outputs": [],
   "source": [
    "todolist.insert(2,'아침식사')"
   ]
  },
  {
   "cell_type": "code",
   "execution_count": 23,
   "id": "cea9484a",
   "metadata": {},
   "outputs": [
    {
     "name": "stdout",
     "output_type": "stream",
     "text": [
      "['양치', '물마시기', '아침식사', '아침운동']\n"
     ]
    }
   ],
   "source": [
    "print(todolist)"
   ]
  },
  {
   "cell_type": "markdown",
   "id": "ef1a3a1d",
   "metadata": {},
   "source": [
    "* 리스트 끝에 여러 항목 추가"
   ]
  },
  {
   "cell_type": "code",
   "execution_count": 24,
   "id": "9fd95daa",
   "metadata": {},
   "outputs": [],
   "source": [
    "todolist.extend(['샤워','드라이','공부'])"
   ]
  },
  {
   "cell_type": "code",
   "execution_count": 25,
   "id": "67a29817",
   "metadata": {},
   "outputs": [
    {
     "data": {
      "text/plain": [
       "['양치', '물마시기', '아침식사', '아침운동', '샤워', '드라이', '공부']"
      ]
     },
     "execution_count": 25,
     "metadata": {},
     "output_type": "execute_result"
    }
   ],
   "source": [
    "todolist"
   ]
  },
  {
   "cell_type": "markdown",
   "id": "e698c44a",
   "metadata": {},
   "source": [
    "* 리스트 항목 수정하기"
   ]
  },
  {
   "cell_type": "code",
   "execution_count": 26,
   "id": "e80fd09f",
   "metadata": {},
   "outputs": [
    {
     "data": {
      "text/plain": [
       "['양치', '물마시기', '아침식사', '산책', '샤워', '드라이', '공부']"
      ]
     },
     "execution_count": 26,
     "metadata": {},
     "output_type": "execute_result"
    }
   ],
   "source": [
    "todolist[3] = '산책'\n",
    "todolist"
   ]
  },
  {
   "cell_type": "code",
   "execution_count": 27,
   "id": "77414017",
   "metadata": {},
   "outputs": [
    {
     "data": {
      "text/plain": [
       "['양치', '물마시기', '독서', '산책', '아침식사', '샤워', '드라이', '공부']"
      ]
     },
     "execution_count": 27,
     "metadata": {},
     "output_type": "execute_result"
    }
   ],
   "source": [
    "# 아침식사, 산책 -> 독서, 산책, 아침식사\n",
    "todolist[2:4] = ['독서','산책','아침식사']\n",
    "todolist"
   ]
  },
  {
   "cell_type": "markdown",
   "id": "074ddfc9",
   "metadata": {},
   "source": [
    "* 리스트 항목 삭제하기"
   ]
  },
  {
   "cell_type": "code",
   "execution_count": 29,
   "id": "aa15bda5",
   "metadata": {},
   "outputs": [
    {
     "data": {
      "text/plain": [
       "['양치', '물마시기', '독서', '산책', '아침식사', '샤워', '드라이']"
      ]
     },
     "execution_count": 29,
     "metadata": {},
     "output_type": "execute_result"
    }
   ],
   "source": [
    "# 인덱스 이용\n",
    "# 마지막 인덱스 삭제\n",
    "del todolist[-1]\n",
    "todolist"
   ]
  },
  {
   "cell_type": "code",
   "execution_count": 33,
   "id": "7681bebd",
   "metadata": {},
   "outputs": [
    {
     "data": {
      "text/plain": [
       "['물마시기', '독서', '산책', '아침식사', '샤워', '드라이']"
      ]
     },
     "execution_count": 33,
     "metadata": {},
     "output_type": "execute_result"
    }
   ],
   "source": [
    "# 리스트명으로 삭제\n",
    "# '양치' 삭제\n",
    "todolist.remove('양치')\n",
    "todolist"
   ]
  },
  {
   "cell_type": "code",
   "execution_count": 34,
   "id": "97157ba8",
   "metadata": {},
   "outputs": [
    {
     "data": {
      "text/plain": [
       "'드라이'"
      ]
     },
     "execution_count": 34,
     "metadata": {},
     "output_type": "execute_result"
    }
   ],
   "source": [
    "# 마지막 항목 반환하고 삭제\n",
    "a = todolist.pop()\n",
    "a"
   ]
  },
  {
   "cell_type": "markdown",
   "id": "27ecace6",
   "metadata": {},
   "source": [
    "* 연습문제\n",
    "* 아래 wishlist의 '시계','신발'을 myCart로 이동"
   ]
  },
  {
   "cell_type": "code",
   "execution_count": 37,
   "id": "a7f65418",
   "metadata": {},
   "outputs": [],
   "source": [
    "wishlist = ['가방','시계','신발']\n",
    "myCart = []\n",
    "\n",
    "myCart.extend(wishlist[1:])\n",
    "del wishlist[1:]"
   ]
  },
  {
   "cell_type": "code",
   "execution_count": 39,
   "id": "aaa1f736",
   "metadata": {},
   "outputs": [
    {
     "name": "stdout",
     "output_type": "stream",
     "text": [
      "['가방']\n",
      "['시계', '신발']\n"
     ]
    }
   ],
   "source": [
    "print(wishlist)\n",
    "print(myCart)"
   ]
  },
  {
   "cell_type": "code",
   "execution_count": null,
   "id": "530f6ece",
   "metadata": {},
   "outputs": [],
   "source": []
  }
 ],
 "metadata": {
  "kernelspec": {
   "display_name": "Python 3 (ipykernel)",
   "language": "python",
   "name": "python3"
  },
  "language_info": {
   "codemirror_mode": {
    "name": "ipython",
    "version": 3
   },
   "file_extension": ".py",
   "mimetype": "text/x-python",
   "name": "python",
   "nbconvert_exporter": "python",
   "pygments_lexer": "ipython3",
   "version": "3.11.5"
  },
  "toc": {
   "base_numbering": 1,
   "nav_menu": {},
   "number_sections": true,
   "sideBar": true,
   "skip_h1_title": false,
   "title_cell": "Table of Contents",
   "title_sidebar": "Contents",
   "toc_cell": false,
   "toc_position": {},
   "toc_section_display": true,
   "toc_window_display": false
  }
 },
 "nbformat": 4,
 "nbformat_minor": 5
}
